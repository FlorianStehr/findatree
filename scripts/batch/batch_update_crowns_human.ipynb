{
 "cells": [
  {
   "cell_type": "markdown",
   "metadata": {},
   "source": [
    "### Imports"
   ]
  },
  {
   "cell_type": "code",
   "execution_count": 6,
   "metadata": {},
   "outputs": [],
   "source": [
    "import importlib\n",
    "import traceback\n",
    "import os\n",
    "import re\n",
    "from tqdm import tqdm\n",
    "\n",
    "import findatree.io as io\n",
    "import findatree.photometric as photometric\n",
    "import findatree.transformations as transformations\n",
    "\n",
    "_ = importlib.reload(io)\n",
    "_ = importlib.reload(photometric)\n",
    "_ = importlib.reload(transformations)"
   ]
  },
  {
   "cell_type": "markdown",
   "metadata": {},
   "source": [
    "### Definitions"
   ]
  },
  {
   "cell_type": "code",
   "execution_count": 10,
   "metadata": {},
   "outputs": [],
   "source": [
    "# Define full paths to directories containing dtm, dsm, ortho and shape-files \n",
    "dir_names=[]\n",
    "dir_names.extend([r'C:\\Data\\lwf\\WZE-UAV-2020\\DSMs'])\n",
    "dir_names.extend([r'C:\\Data\\lwf\\WZE-UAV-2020\\DTMs'])\n",
    "dir_names.extend([r'C:\\Data\\lwf\\WZE-UAV-2020\\Orthos'])\n",
    "dir_names.extend([r'C:\\Data\\lwf\\WZE-UAV-2020\\Kronen'])\n",
    "\n",
    "# Define directories where return hdf5s are stored\n",
    "dir_name_hdf5 = r\"C:\\Data\\lwf\\processed\\2020\\hdf5\"\n",
    "\n",
    "# Optionally process only specific tnrs\n",
    "tnrs_specific = [\n",
    "    # 10547,\n",
    "]"
   ]
  },
  {
   "cell_type": "markdown",
   "metadata": {},
   "source": [
    "### Processing"
   ]
  },
  {
   "cell_type": "markdown",
   "metadata": {},
   "source": [
    "#### Prepare main loop"
   ]
  },
  {
   "cell_type": "code",
   "execution_count": 11,
   "metadata": {},
   "outputs": [],
   "source": [
    "# Get all available tnr numbers in directory\n",
    "tnrs = io.find_all_tnrs_in_dir(dir_name_hdf5, tnr_pattern_lead='tnr', tnr_pattern_trail='.hdf5')\n",
    "\n",
    "# Define full paths to all pre-processed tnr hdf5s\n",
    "paths = [os.path.join(dir_name_hdf5, f\"tnr{tnr}.hdf5\") for tnr in tnrs]\n",
    "\n",
    "\n",
    "# Include only specified tnrs in main loop\n",
    "if len(tnrs_specific) > 0:\n",
    "    tnrs_keep_idx = tnrs.index(tnrs_specific)\n",
    "    \n",
    "    try:\n",
    "        paths_keep = [paths[idx] for idx in tnrs_keep_idx]\n",
    "    except:\n",
    "        paths_keep = [paths[tnrs_keep_idx]]\n",
    "\n",
    "    print('Following files will be included in main loop:')\n",
    "    for p in paths_keep: print(' '*3, p)\n",
    "\n",
    "else:\n",
    "    tnrs_keep = tnrs.copy()\n",
    "    paths_keep = paths.copy()"
   ]
  },
  {
   "cell_type": "markdown",
   "metadata": {},
   "source": [
    "#### Run main loop"
   ]
  },
  {
   "cell_type": "code",
   "execution_count": 12,
   "metadata": {},
   "outputs": [
    {
     "name": "stderr",
     "output_type": "stream",
     "text": [
      "100%|██████████| 128/128 [08:02<00:00,  3.77s/it]"
     ]
    },
    {
     "name": "stdout",
     "output_type": "stream",
     "text": [
      "\n",
      "Done!\n",
      "2 exceptions occured\n"
     ]
    },
    {
     "name": "stderr",
     "output_type": "stream",
     "text": [
      "\n"
     ]
    }
   ],
   "source": [
    "exception_traceback = []\n",
    "\n",
    "for path in tqdm(paths_keep):\n",
    "    \n",
    "    try:\n",
    "        \n",
    "        ################# [1] Load channels and crowns group from hdf5\n",
    "        \n",
    "        data, params_data = io.load_hdf5(path, groups = ['channels'])\n",
    "        channels, params_channels = data['channels'].copy(), params_data['channels'].copy()\n",
    "        del data, params_data\n",
    "\n",
    "\n",
    "        ################# [2] Load and save shapefile to correct tnr and save in hdf5 under group 'crowns_human'\n",
    "        \n",
    "        crowns_human, params_crowns_human = io.load_shapefile(dir_names, params_channels, verbose=False)\n",
    "        photometric.crowns_add_features(\n",
    "            channels,\n",
    "            params_channels,\n",
    "            crowns_human,\n",
    "            params_crowns_human,\n",
    "        )\n",
    "        io.crowns_to_hdf5(crowns_human, params_crowns_human, dir_name = dir_name_hdf5)\n",
    "\n",
    "    except:\n",
    "        exception_traceback.append({\n",
    "            'path': path,\n",
    "            'traceback': traceback.format_exc(),\n",
    "            })\n",
    "\n",
    "\n",
    "# Save exceptions in .yaml\n",
    "io.list_of_dicts_to_yaml(\n",
    "    path = os.path.join(dir_name_hdf5, f\"{transformations.current_datetime()}_batch_update_crowns_human.yaml\"),\n",
    "    list_of_dicts = exception_traceback,\n",
    "    )\n",
    "\n",
    "print()\n",
    "print('Done!')\n",
    "print(f\"{len(exception_traceback)} exceptions occured\")"
   ]
  },
  {
   "cell_type": "code",
   "execution_count": 9,
   "metadata": {},
   "outputs": [],
   "source": [
    "for e in exception_traceback:\n",
    "    print(e['path'])\n",
    "    print('-->', e['traceback'])"
   ]
  }
 ],
 "metadata": {
  "kernelspec": {
   "display_name": "Python 3.9.7 ('findatree_v01')",
   "language": "python",
   "name": "python3"
  },
  "language_info": {
   "codemirror_mode": {
    "name": "ipython",
    "version": 3
   },
   "file_extension": ".py",
   "mimetype": "text/x-python",
   "name": "python",
   "nbconvert_exporter": "python",
   "pygments_lexer": "ipython3",
   "version": "3.9.7"
  },
  "orig_nbformat": 4,
  "vscode": {
   "interpreter": {
    "hash": "635c494a99b4919ffc46b3179c211e3df0819f0dc50ebdacd534597eabf9f7f9"
   }
  }
 },
 "nbformat": 4,
 "nbformat_minor": 2
}
