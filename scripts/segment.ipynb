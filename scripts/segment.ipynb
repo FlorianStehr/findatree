{
 "cells": [
  {
   "cell_type": "code",
   "execution_count": 1,
   "metadata": {},
   "outputs": [
    {
     "data": {
      "text/html": [
       "\n",
       "    <div class=\"bk-root\">\n",
       "        <a href=\"https://bokeh.org\" target=\"_blank\" class=\"bk-logo bk-logo-small bk-logo-notebook\"></a>\n",
       "        <span id=\"1002\">Loading BokehJS ...</span>\n",
       "    </div>"
      ]
     },
     "metadata": {},
     "output_type": "display_data"
    },
    {
     "data": {
      "application/javascript": "\n(function(root) {\n  function now() {\n    return new Date();\n  }\n\n  const force = true;\n\n  if (typeof root._bokeh_onload_callbacks === \"undefined\" || force === true) {\n    root._bokeh_onload_callbacks = [];\n    root._bokeh_is_loading = undefined;\n  }\n\n  const JS_MIME_TYPE = 'application/javascript';\n  const HTML_MIME_TYPE = 'text/html';\n  const EXEC_MIME_TYPE = 'application/vnd.bokehjs_exec.v0+json';\n  const CLASS_NAME = 'output_bokeh rendered_html';\n\n  /**\n   * Render data to the DOM node\n   */\n  function render(props, node) {\n    const script = document.createElement(\"script\");\n    node.appendChild(script);\n  }\n\n  /**\n   * Handle when an output is cleared or removed\n   */\n  function handleClearOutput(event, handle) {\n    const cell = handle.cell;\n\n    const id = cell.output_area._bokeh_element_id;\n    const server_id = cell.output_area._bokeh_server_id;\n    // Clean up Bokeh references\n    if (id != null && id in Bokeh.index) {\n      Bokeh.index[id].model.document.clear();\n      delete Bokeh.index[id];\n    }\n\n    if (server_id !== undefined) {\n      // Clean up Bokeh references\n      const cmd_clean = \"from bokeh.io.state import curstate; print(curstate().uuid_to_server['\" + server_id + \"'].get_sessions()[0].document.roots[0]._id)\";\n      cell.notebook.kernel.execute(cmd_clean, {\n        iopub: {\n          output: function(msg) {\n            const id = msg.content.text.trim();\n            if (id in Bokeh.index) {\n              Bokeh.index[id].model.document.clear();\n              delete Bokeh.index[id];\n            }\n          }\n        }\n      });\n      // Destroy server and session\n      const cmd_destroy = \"import bokeh.io.notebook as ion; ion.destroy_server('\" + server_id + \"')\";\n      cell.notebook.kernel.execute(cmd_destroy);\n    }\n  }\n\n  /**\n   * Handle when a new output is added\n   */\n  function handleAddOutput(event, handle) {\n    const output_area = handle.output_area;\n    const output = handle.output;\n\n    // limit handleAddOutput to display_data with EXEC_MIME_TYPE content only\n    if ((output.output_type != \"display_data\") || (!Object.prototype.hasOwnProperty.call(output.data, EXEC_MIME_TYPE))) {\n      return\n    }\n\n    const toinsert = output_area.element.find(\".\" + CLASS_NAME.split(' ')[0]);\n\n    if (output.metadata[EXEC_MIME_TYPE][\"id\"] !== undefined) {\n      toinsert[toinsert.length - 1].firstChild.textContent = output.data[JS_MIME_TYPE];\n      // store reference to embed id on output_area\n      output_area._bokeh_element_id = output.metadata[EXEC_MIME_TYPE][\"id\"];\n    }\n    if (output.metadata[EXEC_MIME_TYPE][\"server_id\"] !== undefined) {\n      const bk_div = document.createElement(\"div\");\n      bk_div.innerHTML = output.data[HTML_MIME_TYPE];\n      const script_attrs = bk_div.children[0].attributes;\n      for (let i = 0; i < script_attrs.length; i++) {\n        toinsert[toinsert.length - 1].firstChild.setAttribute(script_attrs[i].name, script_attrs[i].value);\n        toinsert[toinsert.length - 1].firstChild.textContent = bk_div.children[0].textContent\n      }\n      // store reference to server id on output_area\n      output_area._bokeh_server_id = output.metadata[EXEC_MIME_TYPE][\"server_id\"];\n    }\n  }\n\n  function register_renderer(events, OutputArea) {\n\n    function append_mime(data, metadata, element) {\n      // create a DOM node to render to\n      const toinsert = this.create_output_subarea(\n        metadata,\n        CLASS_NAME,\n        EXEC_MIME_TYPE\n      );\n      this.keyboard_manager.register_events(toinsert);\n      // Render to node\n      const props = {data: data, metadata: metadata[EXEC_MIME_TYPE]};\n      render(props, toinsert[toinsert.length - 1]);\n      element.append(toinsert);\n      return toinsert\n    }\n\n    /* Handle when an output is cleared or removed */\n    events.on('clear_output.CodeCell', handleClearOutput);\n    events.on('delete.Cell', handleClearOutput);\n\n    /* Handle when a new output is added */\n    events.on('output_added.OutputArea', handleAddOutput);\n\n    /**\n     * Register the mime type and append_mime function with output_area\n     */\n    OutputArea.prototype.register_mime_type(EXEC_MIME_TYPE, append_mime, {\n      /* Is output safe? */\n      safe: true,\n      /* Index of renderer in `output_area.display_order` */\n      index: 0\n    });\n  }\n\n  // register the mime type if in Jupyter Notebook environment and previously unregistered\n  if (root.Jupyter !== undefined) {\n    const events = require('base/js/events');\n    const OutputArea = require('notebook/js/outputarea').OutputArea;\n\n    if (OutputArea.prototype.mime_types().indexOf(EXEC_MIME_TYPE) == -1) {\n      register_renderer(events, OutputArea);\n    }\n  }\n\n  \n  if (typeof (root._bokeh_timeout) === \"undefined\" || force === true) {\n    root._bokeh_timeout = Date.now() + 5000;\n    root._bokeh_failed_load = false;\n  }\n\n  const NB_LOAD_WARNING = {'data': {'text/html':\n     \"<div style='background-color: #fdd'>\\n\"+\n     \"<p>\\n\"+\n     \"BokehJS does not appear to have successfully loaded. If loading BokehJS from CDN, this \\n\"+\n     \"may be due to a slow or bad network connection. Possible fixes:\\n\"+\n     \"</p>\\n\"+\n     \"<ul>\\n\"+\n     \"<li>re-rerun `output_notebook()` to attempt to load from CDN again, or</li>\\n\"+\n     \"<li>use INLINE resources instead, as so:</li>\\n\"+\n     \"</ul>\\n\"+\n     \"<code>\\n\"+\n     \"from bokeh.resources import INLINE\\n\"+\n     \"output_notebook(resources=INLINE)\\n\"+\n     \"</code>\\n\"+\n     \"</div>\"}};\n\n  function display_loaded() {\n    const el = document.getElementById(\"1002\");\n    if (el != null) {\n      el.textContent = \"BokehJS is loading...\";\n    }\n    if (root.Bokeh !== undefined) {\n      if (el != null) {\n        el.textContent = \"BokehJS \" + root.Bokeh.version + \" successfully loaded.\";\n      }\n    } else if (Date.now() < root._bokeh_timeout) {\n      setTimeout(display_loaded, 100)\n    }\n  }\n\n\n  function run_callbacks() {\n    try {\n      root._bokeh_onload_callbacks.forEach(function(callback) {\n        if (callback != null)\n          callback();\n      });\n    } finally {\n      delete root._bokeh_onload_callbacks\n    }\n    console.debug(\"Bokeh: all callbacks have finished\");\n  }\n\n  function load_libs(css_urls, js_urls, callback) {\n    if (css_urls == null) css_urls = [];\n    if (js_urls == null) js_urls = [];\n\n    root._bokeh_onload_callbacks.push(callback);\n    if (root._bokeh_is_loading > 0) {\n      console.debug(\"Bokeh: BokehJS is being loaded, scheduling callback at\", now());\n      return null;\n    }\n    if (js_urls == null || js_urls.length === 0) {\n      run_callbacks();\n      return null;\n    }\n    console.debug(\"Bokeh: BokehJS not loaded, scheduling load and callback at\", now());\n    root._bokeh_is_loading = css_urls.length + js_urls.length;\n\n    function on_load() {\n      root._bokeh_is_loading--;\n      if (root._bokeh_is_loading === 0) {\n        console.debug(\"Bokeh: all BokehJS libraries/stylesheets loaded\");\n        run_callbacks()\n      }\n    }\n\n    function on_error(url) {\n      console.error(\"failed to load \" + url);\n    }\n\n    for (let i = 0; i < css_urls.length; i++) {\n      const url = css_urls[i];\n      const element = document.createElement(\"link\");\n      element.onload = on_load;\n      element.onerror = on_error.bind(null, url);\n      element.rel = \"stylesheet\";\n      element.type = \"text/css\";\n      element.href = url;\n      console.debug(\"Bokeh: injecting link tag for BokehJS stylesheet: \", url);\n      document.body.appendChild(element);\n    }\n\n    for (let i = 0; i < js_urls.length; i++) {\n      const url = js_urls[i];\n      const element = document.createElement('script');\n      element.onload = on_load;\n      element.onerror = on_error.bind(null, url);\n      element.async = false;\n      element.src = url;\n      console.debug(\"Bokeh: injecting script tag for BokehJS library: \", url);\n      document.head.appendChild(element);\n    }\n  };\n\n  function inject_raw_css(css) {\n    const element = document.createElement(\"style\");\n    element.appendChild(document.createTextNode(css));\n    document.body.appendChild(element);\n  }\n\n  \n  const js_urls = [\"https://cdn.bokeh.org/bokeh/release/bokeh-2.4.2.min.js\", \"https://cdn.bokeh.org/bokeh/release/bokeh-gl-2.4.2.min.js\", \"https://cdn.bokeh.org/bokeh/release/bokeh-widgets-2.4.2.min.js\", \"https://cdn.bokeh.org/bokeh/release/bokeh-tables-2.4.2.min.js\", \"https://cdn.bokeh.org/bokeh/release/bokeh-mathjax-2.4.2.min.js\"];\n  const css_urls = [];\n  \n\n  const inline_js = [\n    function(Bokeh) {\n      Bokeh.set_log_level(\"info\");\n    },\n    function(Bokeh) {\n    \n    \n    }\n  ];\n\n  function run_inline_js() {\n    \n    if (root.Bokeh !== undefined || force === true) {\n      \n    for (let i = 0; i < inline_js.length; i++) {\n      inline_js[i].call(root, root.Bokeh);\n    }\n    if (force === true) {\n        display_loaded();\n      }} else if (Date.now() < root._bokeh_timeout) {\n      setTimeout(run_inline_js, 100);\n    } else if (!root._bokeh_failed_load) {\n      console.log(\"Bokeh: BokehJS failed to load within specified timeout.\");\n      root._bokeh_failed_load = true;\n    } else if (force !== true) {\n      const cell = $(document.getElementById(\"1002\")).parents('.cell').data().cell;\n      cell.output_area.append_execute_result(NB_LOAD_WARNING)\n    }\n\n  }\n\n  if (root._bokeh_is_loading === 0) {\n    console.debug(\"Bokeh: BokehJS loaded, going straight to plotting\");\n    run_inline_js();\n  } else {\n    load_libs(css_urls, js_urls, function() {\n      console.debug(\"Bokeh: BokehJS plotting callback run at\", now());\n      run_inline_js();\n    });\n  }\n}(window));",
      "application/vnd.bokehjs_load.v0+json": ""
     },
     "metadata": {},
     "output_type": "display_data"
    }
   ],
   "source": [
    "import numpy as np\n",
    "\n",
    "import importlib\n",
    "\n",
    "import findatree.io as io\n",
    "import findatree.transformations as transformations\n",
    "import findatree.interactive as interactive\n",
    "import findatree.geo_to_image as geo_to_image\n",
    "import findatree.segmentation as segmentation\n",
    "import findatree.object_properties as obj_props\n",
    "\n",
    "from bokeh.plotting import show, save\n",
    "from bokeh.io import output_notebook, output_file\n",
    "# output_file(r'C:\\Users\\flori\\Documents\\prof\\lwf\\plots\\220628\\tnr11878.html')\n",
    "output_notebook()"
   ]
  },
  {
   "cell_type": "markdown",
   "metadata": {},
   "source": [
    "### Load channels"
   ]
  },
  {
   "cell_type": "code",
   "execution_count": 5,
   "metadata": {},
   "outputs": [
    {
     "name": "stdout",
     "output_type": "stream",
     "text": [
      "-----------\n",
      "Parameters:\n",
      "  affine                        : [[ 2.00000000e-01  0.00000000e+00  6.58480636e+05]\n",
      " [ 0.00000000e+00 -2.00000000e-01  5.45849486e+06]\n",
      " [ 0.00000000e+00  0.00000000e+00  1.00000000e+00]]\n",
      "  crs                           : EPSG:25832\n",
      "  date_time                     : 220713-144756\n",
      "  downscale                     : 0\n",
      "  path_dsm                      : C:\\Data\\lwf\\DSM_2020\\Tnr_11878_P4M_D20200825_DSM_GCG.tif\n",
      "  path_dtm                      : C:\\Data\\lwf\\DTM\\tnr_11878_dtm.tif\n",
      "  path_ortho                    : C:\\Data\\lwf\\Orthophotos_2020\\Tnr_11878_2020_Ortho.tif\n",
      "  path_shapes                   : C:\\Data\\lwf\\CrownDelineation_2020\\Tnr_11878_Kr.shp\n",
      "  px_width                      : 0.2\n",
      "  px_width_reproject            : 0.2\n",
      "  shape                         : (724, 676)\n",
      "  tnr                           : 11878\n"
     ]
    }
   ],
   "source": [
    "importlib.reload(geo_to_image)\n",
    "\n",
    "dir_names=[]\n",
    "dir_names.extend([r'C:\\Data\\lwf\\DSM_2020'])\n",
    "dir_names.extend([r'C:\\Data\\lwf\\DTM'])\n",
    "dir_names.extend([r'C:\\Data\\lwf\\Orthophotos_2020'])\n",
    "dir_names.extend([r'C:\\Data\\lwf\\CrownDelineation_2020'])\n",
    "\n",
    "params_channels = {\n",
    "    'tnr': 11878,\n",
    "    'px_width_reproject': 0.2,\n",
    "    'downscale': 0,\n",
    "}\n",
    "\n",
    "channels, params_channels = geo_to_image.channels_load(dir_names, params_channels)\n",
    "io.channels_to_hdf5(channels, params_channels)"
   ]
  },
  {
   "cell_type": "markdown",
   "metadata": {},
   "source": [
    "### Load ground-truth crowns"
   ]
  },
  {
   "cell_type": "code",
   "execution_count": 6,
   "metadata": {},
   "outputs": [
    {
     "name": "stdout",
     "output_type": "stream",
     "text": [
      "-----------\n",
      "Parameters:\n",
      "  affine                        : [[ 2.00000000e-01  0.00000000e+00  6.58480636e+05]\n",
      " [ 0.00000000e+00 -2.00000000e-01  5.45849486e+06]\n",
      " [ 0.00000000e+00  0.00000000e+00  1.00000000e+00]]\n",
      "  date_time_polygons            : 220713-144802\n",
      "  date_time_terrestrial         : 220713-144802\n",
      "  number_crowns                 : 9\n",
      "  origin                        : human\n",
      "  path_shapes                   : C:\\Data\\lwf\\CrownDelineation_2020\\Tnr_11878_Kr.shp\n",
      "  tnr                           : 11878\n"
     ]
    }
   ],
   "source": [
    "importlib.reload(io)\n",
    "\n",
    "crowns_human, params_crowns_human = io.load_shapefile(dir_names, params_channels)\n",
    "io.crowns_to_hdf5(crowns_human, params_crowns_human)"
   ]
  },
  {
   "cell_type": "markdown",
   "metadata": {},
   "source": [
    "### Segmentation"
   ]
  },
  {
   "cell_type": "markdown",
   "metadata": {},
   "source": [
    "#### (1) Parametrized Segmentation"
   ]
  },
  {
   "cell_type": "code",
   "execution_count": 29,
   "metadata": {},
   "outputs": [
    {
     "name": "stdout",
     "output_type": "stream",
     "text": [
      "-----------\n",
      "Parameters:\n",
      "  affine                        : [[ 2.00000000e-01  0.00000000e+00  6.58480636e+05]\n",
      " [ 0.00000000e+00 -2.00000000e-01  5.45849486e+06]\n",
      " [ 0.00000000e+00  0.00000000e+00  1.00000000e+00]]\n",
      "  date_time_polygons            : 220713-154250\n",
      "  number_crowns                 : 510\n",
      "  origin                        : water\n",
      "  thresh_blur                   : True\n",
      "  thresh_channel                : light\n",
      "  thresh_downscale              : 1\n",
      "  thresh_global_chm             : 5\n",
      "  thresh_global_ndvi            : 0.4\n",
      "  thresh_px_width               : 0.4\n",
      "  thresh_shape                  : (362, 338)\n",
      "  thresh_width                  : 30\n",
      "  tnr                           : 11878\n",
      "  water_channel                 : light\n",
      "  water_downscale               : 0\n",
      "  water_hole_min_area           : 0.0\n",
      "  water_label_min_area          : 0.2\n",
      "  water_peak_dist               : 1.2\n",
      "  water_px_width                : 0.2\n",
      "  water_shape                   : (724, 676)\n"
     ]
    }
   ],
   "source": [
    "importlib.reload(segmentation)\n",
    "importlib.reload(io)\n",
    "\n",
    "params_crowns_water = {\n",
    "    # 'thresh_channel': 'chm',\n",
    "    'thresh_blur': True,\n",
    "    # 'thresh_width':30,\n",
    "    # 'thresh_downscale': 2,\n",
    "    # 'water_channel':'chm',\n",
    "    # 'water_hole_min_area': 0.2,\n",
    "}\n",
    "\n",
    "crowns_water, params_crowns_water = segmentation.watershed(\n",
    "    channels,\n",
    "    params_channels,\n",
    "    params_crowns_water,\n",
    ")\n",
    "io.crowns_to_hdf5(crowns_water, params_crowns_water)"
   ]
  },
  {
   "cell_type": "markdown",
   "metadata": {},
   "source": [
    "#### Test of burning polygons into image -> transformations.polygon_to_labelimage()"
   ]
  },
  {
   "cell_type": "code",
   "execution_count": null,
   "metadata": {},
   "outputs": [],
   "source": [
    "import shapely.geometry\n",
    "\n",
    "img_burn = np.zeros(img.shape, dtype=np.uint32)\n",
    "\n",
    "\n",
    "shapes = [ \n",
    "    (\n",
    "        shapely.geometry.mapping(shapely.geometry.Polygon(val['polygon'])),\n",
    "        key,\n",
    "    ) \n",
    "    for key, val in crowns_water.items()]\n",
    "\n",
    "\n",
    "rasterio.features.rasterize(shapes, out = img_burn)\n",
    "\n",
    "segments['burn'] = img_burn"
   ]
  },
  {
   "cell_type": "markdown",
   "metadata": {},
   "source": [
    "#### (2) Plot segmentation results"
   ]
  },
  {
   "cell_type": "code",
   "execution_count": null,
   "metadata": {},
   "outputs": [],
   "source": [
    "importlib.reload(interactive)\n",
    "\n",
    "plt = interactive.Plotter()\n",
    "plt.width = 600\n",
    "plt.channels_downscale = 1\n",
    "\n",
    "plt.add_channels(channels, params_channels)\n",
    "plt.add_segments(segments)\n",
    "\n",
    "# plt.figures_add_rgb()\n",
    "plt.figures_add_gray('burn')\n",
    "plt.figures_add_gray('labels')\n",
    "\n",
    "plt.togglers_add_bounds()\n",
    "# plt.togglers_add_crowns(crowns_water, params_crowns_water)\n",
    "# plt.togglers_add_crowns(crowns_human, params_crowns_human)\n",
    "\n",
    "layout = plt.create_layout()"
   ]
  },
  {
   "cell_type": "code",
   "execution_count": null,
   "metadata": {},
   "outputs": [],
   "source": [
    "show(layout)\n",
    "# save(layout, r\"C:\\Users\\flori\\Documents\\prof\\lwf\\plots\\220706\\tnr\" +  params_channels['tnr'] + \"_blur.html\")"
   ]
  },
  {
   "cell_type": "markdown",
   "metadata": {},
   "source": [
    "### Object properties\n",
    "#### (1) Extract object properties"
   ]
  },
  {
   "cell_type": "code",
   "execution_count": null,
   "metadata": {},
   "outputs": [],
   "source": [
    "# importlib.reload(obj_props)\n",
    "# props, names = obj_props.labels_to_props_all(cs_segment['labels'], cs, params_cs, include_labels=None)"
   ]
  },
  {
   "cell_type": "code",
   "execution_count": null,
   "metadata": {},
   "outputs": [],
   "source": [
    "# # print(names)\n",
    "\n",
    "# xlim = [5e-3, 1]\n",
    "\n",
    "# # Filter\n",
    "# name = 'perc75_chm'\n",
    "# positives = props[:, names.index(name)]\n",
    "# positives = positives > 5\n",
    "\n",
    "# select = [\n",
    "#     'perc75_blue',\n",
    "#     'perc75_green',\n",
    "#     'perc75_red',\n",
    "#     'perc75_re',\n",
    "#     'perc75_nir',\n",
    "#     ]\n",
    "\n",
    "# # select = [\n",
    "# #     'mean_upperl_blue',\n",
    "# #     'mean_upperl_green',\n",
    "# #     'mean_upperl_red',\n",
    "# #     'mean_upperl_re',\n",
    "# #     'mean_upperl_nir',\n",
    "# #     ]\n",
    "\n",
    "# # bins = np.linspace(0.5,1,70)\n",
    "# bins= 50\n",
    "\n",
    "\n",
    "# f, ax = plt.subplots(figsize=[4,3])\n",
    "# for name in select:\n",
    "#     _ = ax.hist(\n",
    "#         props[:, names.index(name)][positives],\n",
    "#         bins=bins,\n",
    "#         histtype='step',\n",
    "#         label=name,\n",
    "#         )\n",
    "\n",
    "# _ = ax.legend(loc='upper left',bbox_to_anchor=(1,1))\n",
    "# # ax.set_xlim(xlim)\n",
    "# # ax.set_xscale('log')"
   ]
  },
  {
   "cell_type": "code",
   "execution_count": null,
   "metadata": {},
   "outputs": [],
   "source": [
    "# # print(names)\n",
    "\n",
    "# # Filter\n",
    "# name = 'perc75_chm'\n",
    "# positives = props[:, names.index(name)]\n",
    "# positives = positives > 5\n",
    "\n",
    "# # Variables\n",
    "# name1 = 'std_ndre'\n",
    "# feature1 = props[:, names.index(name1)]\n",
    "\n",
    "# name2 = 'perc75_chm'\n",
    "# feature2 = props[:, names.index(name2)]\n",
    "\n",
    "# name3 = 'perc75_s'\n",
    "# feature3 = props[:, names.index(name3)]\n",
    "\n",
    "# x = feature1[positives]\n",
    "# y = feature2[positives]\n",
    "# z = feature3[positives]\n",
    "\n",
    "# f, ax = plt.subplots(figsize=[4,3])\n",
    "# _ = ax.scatter(\n",
    "#     x,\n",
    "#     y,\n",
    "#     # c=z,\n",
    "#     color='k',\n",
    "#     s=5,\n",
    "#     alpha=0.5,\n",
    "#     )\n",
    "\n",
    "# ax.set_xlabel(name1)\n",
    "# ax.set_ylabel(name2)"
   ]
  }
 ],
 "metadata": {
  "interpreter": {
   "hash": "635c494a99b4919ffc46b3179c211e3df0819f0dc50ebdacd534597eabf9f7f9"
  },
  "kernelspec": {
   "display_name": "Python 3.9.7 ('findatree_v01')",
   "language": "python",
   "name": "python3"
  },
  "language_info": {
   "codemirror_mode": {
    "name": "ipython",
    "version": 3
   },
   "file_extension": ".py",
   "mimetype": "text/x-python",
   "name": "python",
   "nbconvert_exporter": "python",
   "pygments_lexer": "ipython3",
   "version": "3.9.7"
  },
  "orig_nbformat": 4
 },
 "nbformat": 4,
 "nbformat_minor": 2
}
