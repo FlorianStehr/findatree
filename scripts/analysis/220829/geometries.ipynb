{
 "cells": [
  {
   "cell_type": "markdown",
   "metadata": {},
   "source": [
    "### Imports"
   ]
  },
  {
   "cell_type": "code",
   "execution_count": 1,
   "metadata": {},
   "outputs": [],
   "source": [
    "import os\n",
    "import numpy as np\n",
    "import pandas as pd\n",
    "import importlib\n",
    "import re\n",
    "\n",
    "import matplotlib.pyplot as plt\n",
    "\n",
    "import findatree.io as io\n",
    "import findatree.descriptions as descriptions\n",
    "\n",
    "plt.style.use(r'C:\\Repos\\findatree\\own.mplstyle')\n",
    "\n",
    "# Dictionaries: species_name to ba and vice versa\n",
    "species_id_to_name = descriptions.species_id_to_name()\n",
    "species_name_to_id = descriptions.species_name_to_id()"
   ]
  },
  {
   "cell_type": "markdown",
   "metadata": {},
   "source": [
    "### Definitions"
   ]
  },
  {
   "cell_type": "code",
   "execution_count": 2,
   "metadata": {},
   "outputs": [],
   "source": [
    "# Directory: Processed tnr%.hdf5s\n",
    "dir_hdf5 = r\"C:\\Data\\lwf\\processed\\2020\\hdf5\"\n",
    "\n",
    "# Directory: Plots\n",
    "dir_plots = r\"C:\\Data\\lwf\\analysis\\2208229_geometries\\plots\""
   ]
  },
  {
   "cell_type": "markdown",
   "metadata": {},
   "source": [
    "### Load crowns' features of all hdf5s\n",
    "* As pandas.DataFrame"
   ]
  },
  {
   "cell_type": "code",
   "execution_count": 3,
   "metadata": {},
   "outputs": [],
   "source": [
    "importlib.reload(io)\n",
    "\n",
    "df, params_df = io.allhdf5s_crowns_features_to_dataframe(dir_hdf5, crowns_type='crowns_human')\n",
    "\n",
    "# Replace inf values with nans\n",
    "df = df.where(df != np.inf, np.nan)"
   ]
  },
  {
   "cell_type": "markdown",
   "metadata": {},
   "source": [
    "### Assign families to crowns"
   ]
  },
  {
   "cell_type": "code",
   "execution_count": 4,
   "metadata": {},
   "outputs": [],
   "source": [
    "importlib.reload(descriptions)\n",
    "\n",
    "# Define families by patterns\n",
    "family_patterns = [\n",
    "    ' kiefer',\n",
    "    ' fichte',\n",
    "    'buche',\n",
    "    'eiche',\n",
    "]\n",
    "\n",
    "families = descriptions.species_groupby_families(family_patterns)\n",
    "family_ids = descriptions.species_id_to_family_id(df.ba.values, families)\n",
    "\n",
    "df = df.assign(\n",
    "    family = family_ids,\n",
    "    )"
   ]
  },
  {
   "cell_type": "markdown",
   "metadata": {},
   "source": [
    "### Infos"
   ]
  },
  {
   "cell_type": "markdown",
   "metadata": {},
   "source": [
    "#### Search: Pattern in column names"
   ]
  },
  {
   "cell_type": "code",
   "execution_count": 12,
   "metadata": {},
   "outputs": [
    {
     "name": "stdout",
     "output_type": "stream",
     "text": [
      "area\n",
      "area_convex\n",
      "area_filled\n",
      "equivalent_diameter_area\n"
     ]
    }
   ],
   "source": [
    "pattern = 'area'\n",
    "\n",
    "cols = list(df.columns)\n",
    "for col in cols:\n",
    "    if bool(re.search(pattern, col, re.IGNORECASE)):\n",
    "        print(col)"
   ]
  },
  {
   "cell_type": "markdown",
   "metadata": {},
   "source": [
    "#### Info: Dataset"
   ]
  },
  {
   "cell_type": "code",
   "execution_count": 6,
   "metadata": {},
   "outputs": [
    {
     "name": "stdout",
     "output_type": "stream",
     "text": [
      "Total number of crowns        : 3895\n",
      "Mean number of crowns per tnr : 30.9\n",
      "__________________________________________________\n",
      "\n",
      "species_id| species_name                  | count\n",
      "--------------------------------------------------\n",
      "       134| Gemeine Kiefer                : 1544\n",
      "       118| Gemeine Fichte                : 945\n",
      "        20| Rotbuche                      : 448\n",
      "       100| Weißtanne                     : 207\n",
      "        48| Traubeneiche                  : 203\n",
      "       116| Europäische Lärche            : 117\n",
      "        51| Stieleiche                    : 93\n",
      "        10| Gemeine Birke                 : 44\n",
      "        22| Gemeine Esche                 : 43\n",
      "         7| Schwarzerle                   : 38\n",
      "        13| Hainbuche                     : 34\n",
      "       136| Douglasie                     : 33\n",
      "         5| Bergahorn                     : 23\n",
      "       129| Schwarzkiefer                 : 16\n",
      "        36| Kirsche                       : 15\n",
      "         1| Feldahorn                     : 14\n",
      "        68| Winterlinde                   : 13\n",
      "        53| Roteiche                      : 12\n",
      "        62| Weide                         : 11\n",
      "       117| Japanische Lärche             : 11\n",
      "        35| Aspe                          : 8\n",
      "        64| Vogelbeere                    : 7\n",
      "       133| Strobe                        : 4\n",
      "         4| Spitzahorn                    : 4\n",
      "        70| Bergulme                      : 3\n",
      "        38| Frühblühende Traubenkirsche   : 1\n",
      "        65| Speierling                    : 1\n",
      "        66| Elsbeere                      : 1\n",
      "       103| Küstentanne                   : 1\n",
      "        56| Robinie                       : 1\n",
      "__________________________________________________\n",
      "\n",
      " family_id| family_name                   | count | species_names\n",
      "--------------------------------------------------\n",
      "         0|  kiefer                       : 1544  | ['Gemeine Kiefer']\n",
      "         1|  fichte                       : 945   | ['Gemeine Fichte']\n",
      "         2| buche                         : 482   | ['Rotbuche', 'Hainbuche']\n",
      "         3| eiche                         : 308   | ['Trauben- oder Stieleiche', 'Traubeneiche', 'Stieleiche', 'Zerreiche', 'Roteiche']\n",
      "__________________________________________________\n"
     ]
    }
   ],
   "source": [
    "importlib.reload(descriptions)\n",
    "\n",
    "descriptions.print_summary(\n",
    "    df.tnr.values,\n",
    "    df.ba.values,\n",
    "    df.family.values,\n",
    "    families,\n",
    ")"
   ]
  },
  {
   "cell_type": "markdown",
   "metadata": {},
   "source": [
    "### Plotting"
   ]
  },
  {
   "cell_type": "markdown",
   "metadata": {},
   "source": [
    "#### Assign: Other geometric features"
   ]
  },
  {
   "cell_type": "code",
   "execution_count": 10,
   "metadata": {},
   "outputs": [],
   "source": [
    "df = df.assign(slope = df.max_chm / df.equivalent_diameter_area)\n",
    "df = df.assign(radius = df.equivalent_diameter_area / 2)"
   ]
  },
  {
   "cell_type": "markdown",
   "metadata": {},
   "source": [
    "#### Query & groupby: family"
   ]
  },
  {
   "cell_type": "code",
   "execution_count": 51,
   "metadata": {},
   "outputs": [
    {
     "data": {
      "text/html": [
       "<div>\n",
       "<style scoped>\n",
       "    .dataframe tbody tr th:only-of-type {\n",
       "        vertical-align: middle;\n",
       "    }\n",
       "\n",
       "    .dataframe tbody tr th {\n",
       "        vertical-align: top;\n",
       "    }\n",
       "\n",
       "    .dataframe thead tr th {\n",
       "        text-align: left;\n",
       "    }\n",
       "\n",
       "    .dataframe thead tr:last-of-type th {\n",
       "        text-align: right;\n",
       "    }\n",
       "</style>\n",
       "<table border=\"1\" class=\"dataframe\">\n",
       "  <thead>\n",
       "    <tr>\n",
       "      <th></th>\n",
       "      <th colspan=\"8\" halign=\"left\">max_chm</th>\n",
       "      <th colspan=\"2\" halign=\"left\">area</th>\n",
       "      <th>...</th>\n",
       "      <th colspan=\"2\" halign=\"left\">radius</th>\n",
       "      <th colspan=\"8\" halign=\"left\">slope</th>\n",
       "    </tr>\n",
       "    <tr>\n",
       "      <th></th>\n",
       "      <th>count</th>\n",
       "      <th>mean</th>\n",
       "      <th>std</th>\n",
       "      <th>min</th>\n",
       "      <th>25%</th>\n",
       "      <th>50%</th>\n",
       "      <th>75%</th>\n",
       "      <th>max</th>\n",
       "      <th>count</th>\n",
       "      <th>mean</th>\n",
       "      <th>...</th>\n",
       "      <th>75%</th>\n",
       "      <th>max</th>\n",
       "      <th>count</th>\n",
       "      <th>mean</th>\n",
       "      <th>std</th>\n",
       "      <th>min</th>\n",
       "      <th>25%</th>\n",
       "      <th>50%</th>\n",
       "      <th>75%</th>\n",
       "      <th>max</th>\n",
       "    </tr>\n",
       "    <tr>\n",
       "      <th>family</th>\n",
       "      <th></th>\n",
       "      <th></th>\n",
       "      <th></th>\n",
       "      <th></th>\n",
       "      <th></th>\n",
       "      <th></th>\n",
       "      <th></th>\n",
       "      <th></th>\n",
       "      <th></th>\n",
       "      <th></th>\n",
       "      <th></th>\n",
       "      <th></th>\n",
       "      <th></th>\n",
       "      <th></th>\n",
       "      <th></th>\n",
       "      <th></th>\n",
       "      <th></th>\n",
       "      <th></th>\n",
       "      <th></th>\n",
       "      <th></th>\n",
       "      <th></th>\n",
       "    </tr>\n",
       "  </thead>\n",
       "  <tbody>\n",
       "    <tr>\n",
       "      <th>0</th>\n",
       "      <td>1519.0</td>\n",
       "      <td>25.496151</td>\n",
       "      <td>4.240752</td>\n",
       "      <td>5.523285</td>\n",
       "      <td>22.584457</td>\n",
       "      <td>25.870575</td>\n",
       "      <td>28.420547</td>\n",
       "      <td>39.857025</td>\n",
       "      <td>1519.0</td>\n",
       "      <td>16.389868</td>\n",
       "      <td>...</td>\n",
       "      <td>2.633019</td>\n",
       "      <td>4.998096</td>\n",
       "      <td>1519.0</td>\n",
       "      <td>6.554665</td>\n",
       "      <td>2.573788</td>\n",
       "      <td>1.622383</td>\n",
       "      <td>4.919174</td>\n",
       "      <td>6.059731</td>\n",
       "      <td>7.600363</td>\n",
       "      <td>23.196375</td>\n",
       "    </tr>\n",
       "    <tr>\n",
       "      <th>1</th>\n",
       "      <td>890.0</td>\n",
       "      <td>25.625525</td>\n",
       "      <td>6.962300</td>\n",
       "      <td>5.401978</td>\n",
       "      <td>21.497955</td>\n",
       "      <td>26.765457</td>\n",
       "      <td>30.930946</td>\n",
       "      <td>39.994965</td>\n",
       "      <td>890.0</td>\n",
       "      <td>18.569805</td>\n",
       "      <td>...</td>\n",
       "      <td>2.880684</td>\n",
       "      <td>6.124511</td>\n",
       "      <td>890.0</td>\n",
       "      <td>6.379928</td>\n",
       "      <td>2.793852</td>\n",
       "      <td>0.857434</td>\n",
       "      <td>4.592896</td>\n",
       "      <td>5.784843</td>\n",
       "      <td>7.382773</td>\n",
       "      <td>21.453117</td>\n",
       "    </tr>\n",
       "    <tr>\n",
       "      <th>2</th>\n",
       "      <td>458.0</td>\n",
       "      <td>25.762239</td>\n",
       "      <td>6.592290</td>\n",
       "      <td>6.457153</td>\n",
       "      <td>22.013573</td>\n",
       "      <td>27.475662</td>\n",
       "      <td>30.128418</td>\n",
       "      <td>39.702148</td>\n",
       "      <td>458.0</td>\n",
       "      <td>44.598343</td>\n",
       "      <td>...</td>\n",
       "      <td>4.412597</td>\n",
       "      <td>9.265773</td>\n",
       "      <td>458.0</td>\n",
       "      <td>4.581326</td>\n",
       "      <td>2.692000</td>\n",
       "      <td>1.075376</td>\n",
       "      <td>2.981560</td>\n",
       "      <td>3.944333</td>\n",
       "      <td>5.186962</td>\n",
       "      <td>25.903814</td>\n",
       "    </tr>\n",
       "    <tr>\n",
       "      <th>3</th>\n",
       "      <td>292.0</td>\n",
       "      <td>22.683931</td>\n",
       "      <td>5.444003</td>\n",
       "      <td>6.637817</td>\n",
       "      <td>20.581825</td>\n",
       "      <td>23.825668</td>\n",
       "      <td>26.344849</td>\n",
       "      <td>31.493103</td>\n",
       "      <td>292.0</td>\n",
       "      <td>49.856293</td>\n",
       "      <td>...</td>\n",
       "      <td>4.699728</td>\n",
       "      <td>8.366001</td>\n",
       "      <td>292.0</td>\n",
       "      <td>3.756226</td>\n",
       "      <td>1.992359</td>\n",
       "      <td>1.199168</td>\n",
       "      <td>2.443028</td>\n",
       "      <td>3.179221</td>\n",
       "      <td>4.458082</td>\n",
       "      <td>13.020533</td>\n",
       "    </tr>\n",
       "  </tbody>\n",
       "</table>\n",
       "<p>4 rows × 40 columns</p>\n",
       "</div>"
      ],
      "text/plain": [
       "       max_chm                                                       \\\n",
       "         count       mean       std       min        25%        50%   \n",
       "family                                                                \n",
       "0       1519.0  25.496151  4.240752  5.523285  22.584457  25.870575   \n",
       "1        890.0  25.625525  6.962300  5.401978  21.497955  26.765457   \n",
       "2        458.0  25.762239  6.592290  6.457153  22.013573  27.475662   \n",
       "3        292.0  22.683931  5.444003  6.637817  20.581825  23.825668   \n",
       "\n",
       "                                area             ...    radius            \\\n",
       "              75%        max   count       mean  ...       75%       max   \n",
       "family                                           ...                       \n",
       "0       28.420547  39.857025  1519.0  16.389868  ...  2.633019  4.998096   \n",
       "1       30.930946  39.994965   890.0  18.569805  ...  2.880684  6.124511   \n",
       "2       30.128418  39.702148   458.0  44.598343  ...  4.412597  9.265773   \n",
       "3       26.344849  31.493103   292.0  49.856293  ...  4.699728  8.366001   \n",
       "\n",
       "         slope                                                              \\\n",
       "         count      mean       std       min       25%       50%       75%   \n",
       "family                                                                       \n",
       "0       1519.0  6.554665  2.573788  1.622383  4.919174  6.059731  7.600363   \n",
       "1        890.0  6.379928  2.793852  0.857434  4.592896  5.784843  7.382773   \n",
       "2        458.0  4.581326  2.692000  1.075376  2.981560  3.944333  5.186962   \n",
       "3        292.0  3.756226  1.992359  1.199168  2.443028  3.179221  4.458082   \n",
       "\n",
       "                   \n",
       "              max  \n",
       "family             \n",
       "0       23.196375  \n",
       "1       21.453117  \n",
       "2       25.903814  \n",
       "3       13.020533  \n",
       "\n",
       "[4 rows x 40 columns]"
      ]
     },
     "execution_count": 51,
     "metadata": {},
     "output_type": "execute_result"
    }
   ],
   "source": [
    "############## Define queries\n",
    "query_all = 'kkl in [1, 2, 3]'\n",
    "query_all += ' and equivalent_diameter_area > 1'\n",
    "query_all += ' and min_bright_ndre > 0'\n",
    "query_all += ' and eccentricity > 0'\n",
    "query_all += ' and eccentricity < 1'\n",
    "\n",
    "\n",
    "############### Column\n",
    "cols = [\n",
    "    'family',\n",
    "    'max_chm',\n",
    "    'area',\n",
    "    'area_convex',\n",
    "    'radius',\n",
    "    'slope',\n",
    "]\n",
    "\n",
    "############### Groupby\n",
    "df_grouped = df.query(query_all).loc[:, cols].groupby(['family']).describe()\n",
    "\n",
    "# Remove -1 family values\n",
    "df_grouped = df_grouped.query('family >= 0')\n",
    "\n",
    "df_grouped.head()"
   ]
  },
  {
   "cell_type": "markdown",
   "metadata": {},
   "source": [
    "#### Plotting: Geometries"
   ]
  },
  {
   "cell_type": "code",
   "execution_count": 70,
   "metadata": {},
   "outputs": [
    {
     "data": {
      "image/png": "[encoded data removed]",
      "text/plain": [
       "<Figure size 750x450 with 1 Axes>"
      ]
     },
     "metadata": {
      "needs_background": "light"
     },
     "output_type": "display_data"
    }
   ],
   "source": [
    "col = 'slope'\n",
    "statistics = 'mean'\n",
    "statistics_err = 'std'\n",
    "\n",
    "save_name = col + '.svg'\n",
    "\n",
    "scatter_size = 5\n",
    "colors = ['k', 'r', 'b', 'magenta']\n",
    "ylim = [0,17]\n",
    "\n",
    "################### Plotting \n",
    "f = plt.figure(figsize= [5, 3])\n",
    "f.clear()\n",
    "f.subplots_adjust(bottom=0.2, top=0.8, left=0.2, right=0.8)\n",
    "ax = f.add_subplot(111)\n",
    "\n",
    "# Violin plot\n",
    "dists = [df.loc[df.family == family_id, col].values for family_id in families]\n",
    "dists = [dist[np.isfinite(dist)] for dist in dists]\n",
    "\n",
    "poly_coll = ax.violinplot(\n",
    "    dists,\n",
    "    families.keys(),\n",
    "    points = 50,\n",
    "    showmeans=False,\n",
    "    showmedians=False,\n",
    "    showextrema=False,\n",
    "    widths=0.75,\n",
    ")['bodies']\n",
    "\n",
    "# Adjust violin plot sepcs\n",
    "for i, coll in enumerate(poly_coll):\n",
    "    coll.set_facecolor(colors[i])\n",
    "    coll.set_edgecolor('k')\n",
    "    coll.set_alpha(0.3)\n",
    "    coll.set_linewidth(1)\n",
    "\n",
    "# Scatter plot\n",
    "for i, family_id in enumerate(families):\n",
    "    y = df.loc[df.family == family_id, col].values\n",
    "    x = np.ones_like(y) * family_id + 0.2\n",
    "    x = np.random.uniform(0.15, 0.25, len(y)) + family_id\n",
    "    ax.scatter(\n",
    "        x,\n",
    "        y,\n",
    "        s=scatter_size,\n",
    "        fc=colors[i],\n",
    "        ec='k',\n",
    "        alpha=0.1,\n",
    "        lw=0.5,\n",
    "        )\n",
    "\n",
    "# Errorbar plot\n",
    "ax.errorbar(\n",
    "    df_grouped.loc[slice(None), (col, statistics)].index.values,\n",
    "    df_grouped.loc[slice(None), (col, statistics)].values,\n",
    "    df_grouped.loc[slice(None), (col, statistics_err)].values,\n",
    "    marker='o',\n",
    "    c='k',\n",
    "    mec='k',\n",
    "    mfc='none',\n",
    "    ms=6,\n",
    "    capsize=5,\n",
    ")\n",
    "\n",
    "\n",
    "ax.set_xticks(range(len(families)))\n",
    "ax.set_xlim([-.5, len(families) -.5])\n",
    "ax.set_xticklabels([family['family_name'].upper() for family in families.values()], rotation=60)\n",
    "\n",
    "ax.set_ylabel(col)\n",
    "ax.set_ylim(ylim)\n",
    "\n",
    "plt.savefig(os.path.join(dir_plots, save_name), transparent=True)"
   ]
  }
 ],
 "metadata": {
  "kernelspec": {
   "display_name": "Python 3.9.7 ('findatree_v01')",
   "language": "python",
   "name": "python3"
  },
  "language_info": {
   "codemirror_mode": {
    "name": "ipython",
    "version": 3
   },
   "file_extension": ".py",
   "mimetype": "text/x-python",
   "name": "python",
   "nbconvert_exporter": "python",
   "pygments_lexer": "ipython3",
   "version": "3.9.7"
  },
  "orig_nbformat": 4,
  "vscode": {
   "interpreter": {
    "hash": "635c494a99b4919ffc46b3179c211e3df0819f0dc50ebdacd534597eabf9f7f9"
   }
  }
 },
 "nbformat": 4,
 "nbformat_minor": 2
}
