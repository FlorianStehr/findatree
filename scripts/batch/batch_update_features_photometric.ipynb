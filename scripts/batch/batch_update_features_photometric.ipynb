{
 "cells": [
  {
   "cell_type": "markdown",
   "metadata": {},
   "source": [
    "### Imports"
   ]
  },
  {
   "cell_type": "code",
   "execution_count": 1,
   "metadata": {},
   "outputs": [
    {
     "data": {
      "text/plain": [
       "<module 'findatree.photometric' from 'C:\\\\Repos\\\\findatree\\\\findatree\\\\photometric.py'>"
      ]
     },
     "execution_count": 1,
     "metadata": {},
     "output_type": "execute_result"
    }
   ],
   "source": [
    "import importlib\n",
    "import os\n",
    "from tqdm import tqdm\n",
    "\n",
    "import findatree.io as io\n",
    "import findatree.photometric as photometric\n",
    "\n",
    "importlib.reload(io)\n",
    "importlib.reload(photometric)"
   ]
  },
  {
   "cell_type": "markdown",
   "metadata": {},
   "source": [
    "### Definitions"
   ]
  },
  {
   "cell_type": "code",
   "execution_count": 2,
   "metadata": {},
   "outputs": [],
   "source": [
    "# Define directories where processed hdf5s are stored\n",
    "dir_hdf5 = r\"C:\\Data\\lwf\\processed\\2020\\hdf5\"\n",
    "\n",
    "# For which crown type will photometric features be computed? -> i.e. 'crowns_human' or 'crowns_water'\n",
    "crown_type = 'crowns_human'"
   ]
  },
  {
   "cell_type": "markdown",
   "metadata": {},
   "source": [
    "### Processing"
   ]
  },
  {
   "cell_type": "markdown",
   "metadata": {},
   "source": [
    "#### Prepare main loop"
   ]
  },
  {
   "cell_type": "code",
   "execution_count": 3,
   "metadata": {},
   "outputs": [],
   "source": [
    "# Get all available hdf5 files\n",
    "paths = [os.path.join(dir_hdf5, name) for name in os.listdir(dir_hdf5) if os.path.splitext(name)[-1] == '.hdf5']\n",
    "\n",
    "# Init list of exceptions\n",
    "exception_list = []"
   ]
  },
  {
   "cell_type": "markdown",
   "metadata": {},
   "source": [
    "#### Run main loop"
   ]
  },
  {
   "cell_type": "code",
   "execution_count": 4,
   "metadata": {},
   "outputs": [
    {
     "name": "stderr",
     "output_type": "stream",
     "text": [
      "100%|██████████| 54/54 [00:04<00:00, 12.86it/s]\n",
      "100%|██████████| 47/47 [00:04<00:00, 11.44it/s]\n",
      " 14%|█▍        | 2/14 [00:10<01:00,  5.02s/it]C:\\Repos\\findatree\\findatree\\photometric.py:172: RuntimeWarning: All-NaN slice encountered\n",
      "  data.extend( list( np.nanmin(channels_vals_brightest, axis=1) ) )\n",
      "C:\\Repos\\findatree\\findatree\\photometric.py:176: RuntimeWarning: Mean of empty slice\n",
      "  data.extend( list( np.nanmean(channels_vals_brightest, axis=1) ) )\n",
      "c:\\Users\\flori\\Anaconda3\\envs\\findatree_v01\\lib\\site-packages\\numpy\\lib\\nanfunctions.py:1664: RuntimeWarning: Degrees of freedom <= 0 for slice.\n",
      "  var = nanvar(a, axis=axis, dtype=dtype, out=out, ddof=ddof,\n",
      "c:\\Users\\flori\\Anaconda3\\envs\\findatree_v01\\lib\\site-packages\\numpy\\lib\\nanfunctions.py:1113: RuntimeWarning: All-NaN slice encountered\n",
      "  r, k = function_base._ureduce(a, func=_nanmedian, axis=axis, out=out,\n",
      "c:\\Users\\flori\\Anaconda3\\envs\\findatree_v01\\lib\\site-packages\\numpy\\lib\\nanfunctions.py:1389: RuntimeWarning: All-NaN slice encountered\n",
      "  result = np.apply_along_axis(_nanquantile_1d, axis, a, q,\n",
      "C:\\Repos\\findatree\\findatree\\photometric.py:110: RuntimeWarning: All-NaN slice encountered\n",
      "  data.extend( list( np.nanmin(channels_vals, axis=1) ) )\n",
      "C:\\Repos\\findatree\\findatree\\photometric.py:114: RuntimeWarning: All-NaN slice encountered\n",
      "  data.extend( list( np.nanmax(channels_vals, axis=1) ) )\n",
      "C:\\Repos\\findatree\\findatree\\photometric.py:118: RuntimeWarning: Mean of empty slice\n",
      "  data.extend( list( np.nanmean(channels_vals, axis=1) ) )\n",
      "100%|██████████| 52/52 [00:04<00:00, 11.41it/s]\n",
      "100%|██████████| 41/41 [00:03<00:00, 10.65it/s]\n",
      "100%|██████████| 39/39 [00:03<00:00, 12.77it/s]\n",
      "100%|██████████| 40/40 [00:03<00:00, 12.16it/s]\n",
      "100%|██████████| 48/48 [00:03<00:00, 14.07it/s]\n",
      "100%|██████████| 57/57 [00:03<00:00, 15.80it/s]\n",
      "100%|██████████| 21/21 [00:01<00:00, 20.33it/s]\n",
      "100%|██████████| 9/9 [00:00<00:00, 16.04it/s]]\n",
      "100%|██████████| 45/45 [00:02<00:00, 16.09it/s]\n",
      "100%|██████████| 46/46 [00:02<00:00, 17.98it/s]\n",
      "100%|██████████| 55/55 [00:02<00:00, 18.64it/s]\n",
      "100%|██████████| 36/36 [00:02<00:00, 16.37it/s]\n",
      "100%|██████████| 14/14 [00:50<00:00,  3.63s/it]"
     ]
    },
    {
     "name": "stdout",
     "output_type": "stream",
     "text": [
      "\n",
      "Done!\n",
      "Exceptions occured @[]\n"
     ]
    },
    {
     "name": "stderr",
     "output_type": "stream",
     "text": [
      "\n"
     ]
    }
   ],
   "source": [
    "for path in tqdm(paths):\n",
    "    \n",
    "    ################# [1] Load channels and crowns group from hdf5\n",
    "    try:\n",
    "        data, params_data = io.load_hdf5(path, groups = ['channels', crown_type])\n",
    "        channels, params_channels = data['channels'], params_data['channels']\n",
    "        crowns, params_crowns = data[crown_type], params_data[crown_type]\n",
    "        del data, params_data\n",
    "\n",
    "    except:\n",
    "        print(f\"-> {path}: Exception during loading of hdf5\")\n",
    "        exception_list.extend([path])\n",
    "\n",
    "    ################# [2] Add photometric features to crowns and save in hdf5\n",
    "    try:\n",
    "        photometric.crowns_add_features(\n",
    "            channels,\n",
    "            params_channels,\n",
    "            crowns,\n",
    "            params_crowns,\n",
    "        )\n",
    "        io.crowns_to_hdf5(crowns, params_crowns, dir_name = dir_hdf5)\n",
    "    \n",
    "    except:\n",
    "        print(f\"-> {path}: Exception during addition of photometric features\")\n",
    "        exception_list.extend([path])\n",
    "\n",
    "\n",
    "print()\n",
    "print('Done!')\n",
    "print(f\"Exceptions occured @{exception_list}\")"
   ]
  }
 ],
 "metadata": {
  "kernelspec": {
   "display_name": "Python 3.9.7 ('findatree_v01')",
   "language": "python",
   "name": "python3"
  },
  "language_info": {
   "codemirror_mode": {
    "name": "ipython",
    "version": 3
   },
   "file_extension": ".py",
   "mimetype": "text/x-python",
   "name": "python",
   "nbconvert_exporter": "python",
   "pygments_lexer": "ipython3",
   "version": "3.9.7"
  },
  "orig_nbformat": 4,
  "vscode": {
   "interpreter": {
    "hash": "635c494a99b4919ffc46b3179c211e3df0819f0dc50ebdacd534597eabf9f7f9"
   }
  }
 },
 "nbformat": 4,
 "nbformat_minor": 2
}
