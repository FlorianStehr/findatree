{
 "cells": [
  {
   "cell_type": "markdown",
   "metadata": {},
   "source": [
    "### Imports"
   ]
  },
  {
   "cell_type": "code",
   "execution_count": 13,
   "metadata": {},
   "outputs": [],
   "source": [
    "import importlib\n",
    "import os\n",
    "from tqdm import tqdm\n",
    "import traceback\n",
    "\n",
    "import findatree.io as io\n",
    "import findatree.transformations as transformations\n",
    "import findatree.interactive as interactive\n",
    "import findatree.geo_to_image as geo_to_image\n",
    "import findatree.segmentation as segmentation\n",
    "import findatree.photometric as photometric\n",
    "\n",
    "from bokeh.plotting import save\n",
    "from bokeh.io import output_file\n",
    "\n",
    "_ = importlib.reload(io)\n",
    "_ = importlib.reload(transformations)\n",
    "_ = importlib.reload(interactive)\n",
    "_ = importlib.reload(geo_to_image)\n",
    "_ = importlib.reload(segmentation)\n",
    "_ = importlib.reload(photometric)"
   ]
  },
  {
   "cell_type": "markdown",
   "metadata": {},
   "source": [
    "### Definitions"
   ]
  },
  {
   "cell_type": "code",
   "execution_count": 37,
   "metadata": {},
   "outputs": [],
   "source": [
    "# Define full paths to directories containing dsm, dtm, ortho and shape-files \n",
    "dir_names=[]\n",
    "dir_names.extend([r'C:\\Data\\lwf\\WZE-UAV-2020\\DSMs'])\n",
    "dir_names.extend([r'C:\\Data\\lwf\\WZE-UAV-2020\\DTMs'])\n",
    "dir_names.extend([r'C:\\Data\\lwf\\WZE-UAV-2020\\Orthos'])\n",
    "dir_names.extend([r'C:\\Data\\lwf\\WZE-UAV-2020\\Kronen'])\n",
    "\n",
    "# Define directories where return hdf5s and htmls are stored\n",
    "dir_name_hdf5 = r\"C:\\Data\\lwf\\processed\\2020\\hdf5\"\n",
    "dir_name_html = r\"C:\\Data\\lwf\\processed\\2020\\html\"\n",
    "\n",
    "# Only process tnr numbers where a shape file is present\n",
    "process_shapes_only = True\n",
    "\n",
    "# Optionally process only specific tnrs, if empty all are processed\n",
    "process_tnrs_only = [\n",
    "    6462,\n",
    "]"
   ]
  },
  {
   "cell_type": "markdown",
   "metadata": {},
   "source": [
    "#### Processing"
   ]
  },
  {
   "cell_type": "markdown",
   "metadata": {},
   "source": [
    "#### Prepare main loop"
   ]
  },
  {
   "cell_type": "code",
   "execution_count": 38,
   "metadata": {},
   "outputs": [
    {
     "name": "stdout",
     "output_type": "stream",
     "text": [
      "Number of tnrs found: 261\n",
      "Only processing 1 tnrs with shapes file\n"
     ]
    }
   ],
   "source": [
    "importlib.reload(io)\n",
    "\n",
    "# Get all available tnr numbers in directory\n",
    "tnrs = io.find_all_tnrs_in_dir(dir_names[0])\n",
    "print(f\"Number of tnrs found: {len(tnrs)}\")\n",
    "\n",
    "if len(process_tnrs_only) > 0:\n",
    "    tnrs = [tnr for tnr in tnrs if tnr in process_tnrs_only]\n",
    "    \n",
    "# Find all tnr numbers where a shape file is present\n",
    "if process_shapes_only:\n",
    "    tnrs = [tnr for tnr in tnrs if 'path_shapes' in io._find_paths_in_dirs(dir_names, tnr).keys()]\n",
    "    print(f\"Only processing {len(tnrs)} tnrs with shapes file\")"
   ]
  },
  {
   "cell_type": "markdown",
   "metadata": {},
   "source": [
    "#### Run main loop"
   ]
  },
  {
   "cell_type": "code",
   "execution_count": 39,
   "metadata": {},
   "outputs": [
    {
     "name": "stderr",
     "output_type": "stream",
     "text": [
      "  0%|          | 0/1 [00:00<?, ?it/s]"
     ]
    }
   ],
   "source": [
    "exception_traceback = []\n",
    "\n",
    "for tnr in tqdm(tnrs):\n",
    "    \n",
    "    try:\n",
    "        ################# [1] Load and save channels\n",
    "        params_channels = {'tnr': tnr}\n",
    "        channels, params_channels = geo_to_image.channels_load(dir_names, params_channels, verbose=False)\n",
    "        io.channels_to_hdf5(channels, params_channels, dir_name = dir_name_hdf5)\n",
    "    \n",
    "        ################# [2] Load and save human generated crowns with added photometric features\n",
    "        crowns_human, params_crowns_human = io.load_shapefile(dir_names, params_channels, verbose=False)\n",
    "        photometric.crowns_add_features(\n",
    "            channels,\n",
    "            params_channels,\n",
    "            crowns_human,\n",
    "            params_crowns_human,\n",
    "        )\n",
    "        io.crowns_to_hdf5(crowns_human, params_crowns_human, dir_name = dir_name_hdf5)\n",
    "\n",
    "        ################# [3] Generate and save watershed crowns\n",
    "        params_crowns_water = {}\n",
    "\n",
    "        crowns_water, params_crowns_water = segmentation.watershed(\n",
    "            channels,\n",
    "            params_channels,\n",
    "            params_crowns_water,\n",
    "            verbose=False,\n",
    "        )\n",
    "        io.crowns_to_hdf5(crowns_water, params_crowns_water, dir_name = dir_name_hdf5)\n",
    "\n",
    "        ################# [4] Create bokeh plot and save as html\n",
    "        # Init Plotter object and adjust some attributes \n",
    "        plt = interactive.Plotter()\n",
    "        plt.width = 500\n",
    "        plt.channels_downscale = 1\n",
    "\n",
    "        # Add channels\n",
    "        plt.add_channels(channels, params_channels)\n",
    "        plt.figures_add_rgb()\n",
    "        plt.figures_add_gray('chm')\n",
    "\n",
    "        # Add crowns\n",
    "        plt.togglers_add_crowns(crowns_water, params_crowns_water)\n",
    "        plt.togglers_add_crowns(crowns_human, params_crowns_human)\n",
    "\n",
    "        # Create and save layout\n",
    "        layout = plt.create_layout()\n",
    "        output_file(\n",
    "            filename = os.path.join(dir_name_html, f\"tnr{tnr}.html\"),\n",
    "            title = f\"tnr{tnr}_{transformations.current_datetime()}\",\n",
    "            mode='inline',\n",
    "            )\n",
    "        save(layout)\n",
    "\n",
    "    except:\n",
    "        exception_traceback.append({\n",
    "            'tnr': int(tnr),\n",
    "            'traceback': traceback.format_exc(),\n",
    "            })\n",
    "\n",
    "# Save exceptions in .yaml\n",
    "io.list_of_dicts_to_yaml(\n",
    "    path = os.path.join(dir_name_hdf5, f\"{transformations.current_datetime()}_batch_init_all.yaml\"),\n",
    "    list_of_dicts = exception_traceback,\n",
    "    )\n",
    "\n",
    "print()\n",
    "print('Done!')\n",
    "print(f\"{len(exception_traceback)} exceptions occured\")"
   ]
  },
  {
   "cell_type": "code",
   "execution_count": 17,
   "metadata": {},
   "outputs": [
    {
     "name": "stdout",
     "output_type": "stream",
     "text": [
      "6462\n",
      "--> Traceback (most recent call last):\n",
      "  File \"C:\\Users\\flori\\AppData\\Local\\Temp\\ipykernel_10036\\1951405067.py\", line 19, in <cell line: 3>\n",
      "    io.crowns_to_hdf5(crowns_human, params_crowns_human, dir_name = save_dir_hdf5)\n",
      "  File \"C:\\Repos\\findatree\\findatree\\io.py\", line 383, in crowns_to_hdf5\n",
      "    assert features.shape[0] == params_crowns['number_crowns'], message\n",
      "AssertionError: `len(crowns['features'][photometric]` is 43 but `params_crowns['number_crowns']` is 57)\n",
      "\n",
      "10547\n",
      "--> Traceback (most recent call last):\n",
      "  File \"C:\\Users\\flori\\AppData\\Local\\Temp\\ipykernel_10036\\1951405067.py\", line 19, in <cell line: 3>\n",
      "    io.crowns_to_hdf5(crowns_human, params_crowns_human, dir_name = save_dir_hdf5)\n",
      "  File \"C:\\Repos\\findatree\\findatree\\io.py\", line 383, in crowns_to_hdf5\n",
      "    assert features.shape[0] == params_crowns['number_crowns'], message\n",
      "AssertionError: `len(crowns['features'][photometric]` is 39 but `params_crowns['number_crowns']` is 41)\n",
      "\n",
      "11581\n",
      "--> Traceback (most recent call last):\n",
      "  File \"C:\\Users\\flori\\AppData\\Local\\Temp\\ipykernel_10036\\1951405067.py\", line 13, in <cell line: 3>\n",
      "    photometric.crowns_add_features(\n",
      "  File \"C:\\Repos\\findatree\\findatree\\photometric.py\", line 359, in crowns_add_features\n",
      "    labelimg = transformations.polygons_to_labelimage(crowns['polygons'], params_crowns['shape'])\n",
      "  File \"C:\\Repos\\findatree\\findatree\\transformations.py\", line 261, in polygons_to_labelimage\n",
      "    rasterio.features.rasterize(shapes, out = labelimg)\n",
      "  File \"c:\\Users\\flori\\Anaconda3\\envs\\findatree_v01\\lib\\site-packages\\rasterio\\env.py\", line 387, in wrapper\n",
      "    return f(*args, **kwds)\n",
      "  File \"c:\\Users\\flori\\Anaconda3\\envs\\findatree_v01\\lib\\site-packages\\rasterio\\features.py\", line 321, in rasterize\n",
      "    raise ValueError('No valid geometry objects found for rasterize')\n",
      "ValueError: No valid geometry objects found for rasterize\n",
      "\n",
      "11601\n",
      "--> Traceback (most recent call last):\n",
      "  File \"C:\\Users\\flori\\AppData\\Local\\Temp\\ipykernel_10036\\1951405067.py\", line 13, in <cell line: 3>\n",
      "    photometric.crowns_add_features(\n",
      "  File \"C:\\Repos\\findatree\\findatree\\photometric.py\", line 359, in crowns_add_features\n",
      "    labelimg = transformations.polygons_to_labelimage(crowns['polygons'], params_crowns['shape'])\n",
      "  File \"C:\\Repos\\findatree\\findatree\\transformations.py\", line 261, in polygons_to_labelimage\n",
      "    rasterio.features.rasterize(shapes, out = labelimg)\n",
      "  File \"c:\\Users\\flori\\Anaconda3\\envs\\findatree_v01\\lib\\site-packages\\rasterio\\env.py\", line 387, in wrapper\n",
      "    return f(*args, **kwds)\n",
      "  File \"c:\\Users\\flori\\Anaconda3\\envs\\findatree_v01\\lib\\site-packages\\rasterio\\features.py\", line 321, in rasterize\n",
      "    raise ValueError('No valid geometry objects found for rasterize')\n",
      "ValueError: No valid geometry objects found for rasterize\n",
      "\n",
      "12124\n",
      "--> Traceback (most recent call last):\n",
      "  File \"C:\\Users\\flori\\AppData\\Local\\Temp\\ipykernel_10036\\1951405067.py\", line 19, in <cell line: 3>\n",
      "    io.crowns_to_hdf5(crowns_human, params_crowns_human, dir_name = save_dir_hdf5)\n",
      "  File \"C:\\Repos\\findatree\\findatree\\io.py\", line 383, in crowns_to_hdf5\n",
      "    assert features.shape[0] == params_crowns['number_crowns'], message\n",
      "AssertionError: `len(crowns['features'][photometric]` is 38 but `params_crowns['number_crowns']` is 45)\n",
      "\n",
      "12551\n",
      "--> Traceback (most recent call last):\n",
      "  File \"C:\\Users\\flori\\AppData\\Local\\Temp\\ipykernel_10036\\1951405067.py\", line 19, in <cell line: 3>\n",
      "    io.crowns_to_hdf5(crowns_human, params_crowns_human, dir_name = save_dir_hdf5)\n",
      "  File \"C:\\Repos\\findatree\\findatree\\io.py\", line 383, in crowns_to_hdf5\n",
      "    assert features.shape[0] == params_crowns['number_crowns'], message\n",
      "AssertionError: `len(crowns['features'][photometric]` is 13 but `params_crowns['number_crowns']` is 14)\n",
      "\n"
     ]
    }
   ],
   "source": [
    "for e in exception_traceback:\n",
    "    print(e['tnr'])\n",
    "    print('-->', e['traceback'])"
   ]
  }
 ],
 "metadata": {
  "kernelspec": {
   "display_name": "Python 3.9.7 ('findatree_v01')",
   "language": "python",
   "name": "python3"
  },
  "language_info": {
   "codemirror_mode": {
    "name": "ipython",
    "version": 3
   },
   "file_extension": ".py",
   "mimetype": "text/x-python",
   "name": "python",
   "nbconvert_exporter": "python",
   "pygments_lexer": "ipython3",
   "version": "3.9.7"
  },
  "orig_nbformat": 4,
  "vscode": {
   "interpreter": {
    "hash": "635c494a99b4919ffc46b3179c211e3df0819f0dc50ebdacd534597eabf9f7f9"
   }
  }
 },
 "nbformat": 4,
 "nbformat_minor": 2
}
