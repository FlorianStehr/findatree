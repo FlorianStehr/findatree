{
 "cells": [
  {
   "cell_type": "markdown",
   "metadata": {},
   "source": [
    "### Imports"
   ]
  },
  {
   "cell_type": "code",
   "execution_count": null,
   "metadata": {
    "ExecuteTime": {
     "end_time": "2022-10-30T11:33:41.137018Z",
     "start_time": "2022-10-30T11:33:41.090110Z"
    }
   },
   "outputs": [],
   "source": [
    "import numpy as np\n",
    "import pandas as pd\n",
    "import importlib\n",
    "import os\n",
    "\n",
    "import findatree.io as io\n",
    "import findatree.transformations as transformations\n",
    "import findatree.interactive as interactive\n",
    "import findatree.geo_to_image as geo_to_image\n",
    "import findatree.segmentation as segmentation\n",
    "import findatree.photometric.shadow as shadow\n",
    "import findatree.photometric.features as features\n",
    "\n",
    "from bokeh.plotting import show, save\n",
    "from bokeh.io import output_notebook, output_file\n",
    "\n",
    "output_notebook()"
   ]
  },
  {
   "cell_type": "markdown",
   "metadata": {},
   "source": [
    "### Definitions"
   ]
  },
  {
   "cell_type": "code",
   "execution_count": null,
   "metadata": {
    "ExecuteTime": {
     "end_time": "2022-10-30T11:33:43.188085Z",
     "start_time": "2022-10-30T11:33:43.172464Z"
    }
   },
   "outputs": [],
   "source": [
    "tnr = 9996\n",
    "\n",
    "dir_names = []\n",
    "dir_names.extend([r'C:\\Data\\lwf\\WZE-UAV-2021\\DSMs'])\n",
    "dir_names.extend([r'C:\\Data\\lwf\\WZE-UAV-2021\\DTMs'])\n",
    "dir_names.extend([r'C:\\Data\\lwf\\WZE-UAV-2021\\Orthos'])\n",
    "dir_names.extend([r'C:\\Data\\lwf\\WZE-UAV-2021\\Kronen'])\n",
    "\n",
    "\n",
    "dir_name_hdf5 = r\"C:\\Data\\lwf\\processed\\2021\\hdf5\"\n",
    "dir_name_html = r\"C:\\Data\\lwf\\analysis\\221029_ndre-negative\""
   ]
  },
  {
   "cell_type": "markdown",
   "metadata": {},
   "source": [
    "### Load channels from .tif"
   ]
  },
  {
   "cell_type": "code",
   "execution_count": null,
   "metadata": {
    "ExecuteTime": {
     "end_time": "2022-10-30T11:34:41.707524Z",
     "start_time": "2022-10-30T11:33:46.818544Z"
    }
   },
   "outputs": [],
   "source": [
    "importlib.reload(geo_to_image)\n",
    "\n",
    "params_channels = {\n",
    "    'tnr': tnr,\n",
    "    'px_width_reproject': 0.2,\n",
    "    'downscale': 0,\n",
    "}\n",
    "\n",
    "# Load, reproject, normalize & downscale rasters\n",
    "channels, params_channels = geo_to_image.channels_load(\n",
    "    dir_names,\n",
    "    params_channels,\n",
    ")\n",
    "\n",
    "# Save repojected rasters as channels in .hdf5\n",
    "# io.channels_to_hdf5(channels, params_channels, dir_name = dir_name_hdf5)"
   ]
  },
  {
   "cell_type": "markdown",
   "metadata": {},
   "source": [
    "### Load channels from .hdf5"
   ]
  },
  {
   "cell_type": "code",
   "execution_count": null,
   "metadata": {
    "ExecuteTime": {
     "end_time": "2022-10-30T10:46:29.639766Z",
     "start_time": "2022-10-30T10:46:29.423637Z"
    }
   },
   "outputs": [],
   "source": [
    "importlib.reload(io)\n",
    "\n",
    "# Load data\n",
    "data, params_data = io.load_hdf5(\n",
    "    path=os.path.join(dir_name_hdf5, f\"tnr{tnr}.hdf5\"),\n",
    "    groups=['channels'],\n",
    ")\n",
    "\n",
    "# Assign channels\n",
    "channels = data['channels']\n",
    "params_channels = params_data['channels']\n",
    "del data, params_data"
   ]
  },
  {
   "cell_type": "markdown",
   "metadata": {},
   "source": [
    "### Load human crowns"
   ]
  },
  {
   "cell_type": "code",
   "execution_count": null,
   "metadata": {
    "ExecuteTime": {
     "end_time": "2022-10-30T11:35:10.214791Z",
     "start_time": "2022-10-30T11:35:10.052076Z"
    }
   },
   "outputs": [],
   "source": [
    "importlib.reload(io)\n",
    "\n",
    "# Load 'hand selected' human crowns\n",
    "crowns_human, params_crowns_human = io.load_shapefile(\n",
    "    dir_names,\n",
    "    params_channels,\n",
    "    remove_outliers = True,\n",
    "    )\n",
    "\n",
    "# Save crowns in .hdf5\n",
    "# io.crowns_to_hdf5(crowns_human, params_crowns_human, dir_name = dir_name_hdf5)"
   ]
  },
  {
   "cell_type": "markdown",
   "metadata": {},
   "source": [
    "### Add photometric features to human crowns"
   ]
  },
  {
   "cell_type": "code",
   "execution_count": null,
   "metadata": {
    "ExecuteTime": {
     "end_time": "2022-10-30T11:35:35.724561Z",
     "start_time": "2022-10-30T11:35:10.622340Z"
    }
   },
   "outputs": [],
   "source": [
    "importlib.reload(features)\n",
    "importlib.reload(io)\n",
    "\n",
    "# Add photometric features to human crowns\n",
    "features.crowns_add_features(\n",
    "    channels,\n",
    "    params_channels,\n",
    "    crowns_human,\n",
    "    params_crowns_human,\n",
    ")\n",
    "# Save crowns in .hdf5\n",
    "io.crowns_to_hdf5(crowns_human, params_crowns_human, dir_name = dir_name_hdf5)"
   ]
  },
  {
   "cell_type": "markdown",
   "metadata": {},
   "source": [
    "### View human crown features as DataFrame"
   ]
  },
  {
   "cell_type": "code",
   "execution_count": null,
   "metadata": {
    "ExecuteTime": {
     "end_time": "2022-10-30T11:11:51.522256Z",
     "start_time": "2022-10-30T11:11:51.475388Z"
    }
   },
   "outputs": [],
   "source": [
    "df = pd.merge(\n",
    "    left = pd.DataFrame(crowns_human['features']['photometric']),\n",
    "    right = pd.DataFrame(crowns_human['features']['terrestrial']),\n",
    "    how= 'outer',\n",
    "    on = ['id'],\n",
    "    )\n",
    "\n",
    "# df.loc[:,['shape_area', 'area']]"
   ]
  },
  {
   "cell_type": "markdown",
   "metadata": {},
   "source": [
    "### Plotting"
   ]
  },
  {
   "cell_type": "code",
   "execution_count": null,
   "metadata": {
    "ExecuteTime": {
     "end_time": "2022-10-30T11:35:42.908188Z",
     "start_time": "2022-10-30T11:35:39.132157Z"
    }
   },
   "outputs": [],
   "source": [
    "importlib.reload(interactive)\n",
    "\n",
    "plt = interactive.Plotter()\n",
    "plt.width = 400\n",
    "plt.channels_downscale = 0\n",
    "plt.show_features = [\n",
    "    'id', 'ba', 'kkl','nbv',\n",
    "    'perc5_ndre','perc50_ndre'\n",
    "]\n",
    "\n",
    "plt.add_channels(channels, params_channels)\n",
    "\n",
    "plt.figures_add_rgb(perc=2)\n",
    "plt.figures_add_rgb(perc=2, color_code='533', weight_code = '133')\n",
    "# plt.figures_add_gray('mask')\n",
    "\n",
    "plt.togglers_add_crowns(crowns_human, params_crowns_human)\n",
    "\n",
    "layout = plt.create_layout()"
   ]
  },
  {
   "cell_type": "code",
   "execution_count": null,
   "metadata": {
    "ExecuteTime": {
     "end_time": "2022-10-30T11:35:51.486241Z",
     "start_time": "2022-10-30T11:35:44.849662Z"
    }
   },
   "outputs": [],
   "source": [
    "show(layout)\n",
    "\n",
    "# output_file(os.path.join(dir_name_html, f\"tnr{tnr}.html\"), mode='inline')\n",
    "# save(layout)"
   ]
  }
 ],
 "metadata": {
  "interpreter": {
   "hash": "635c494a99b4919ffc46b3179c211e3df0819f0dc50ebdacd534597eabf9f7f9"
  },
  "kernelspec": {
   "display_name": "Python [conda env:findatree_v01] *",
   "language": "python",
   "name": "conda-env-findatree_v01-py"
  },
  "language_info": {
   "codemirror_mode": {
    "name": "ipython",
    "version": 3
   },
   "file_extension": ".py",
   "mimetype": "text/x-python",
   "name": "python",
   "nbconvert_exporter": "python",
   "pygments_lexer": "ipython3",
   "version": "3.9.7"
  },
  "toc": {
   "base_numbering": 1,
   "nav_menu": {},
   "number_sections": true,
   "sideBar": true,
   "skip_h1_title": false,
   "title_cell": "Table of Contents",
   "title_sidebar": "Contents",
   "toc_cell": false,
   "toc_position": {
    "height": "calc(100% - 180px)",
    "left": "10px",
    "top": "150px",
    "width": "278.792px"
   },
   "toc_section_display": false,
   "toc_window_display": true
  },
  "varInspector": {
   "cols": {
    "lenName": 16,
    "lenType": 16,
    "lenVar": 40
   },
   "kernels_config": {
    "python": {
     "delete_cmd_postfix": "",
     "delete_cmd_prefix": "del ",
     "library": "var_list.py",
     "varRefreshCmd": "print(var_dic_list())"
    },
    "r": {
     "delete_cmd_postfix": ") ",
     "delete_cmd_prefix": "rm(",
     "library": "var_list.r",
     "varRefreshCmd": "cat(var_dic_list()) "
    }
   },
   "position": {
    "height": "430.871px",
    "left": "1782.26px",
    "right": "20px",
    "top": "97.9981px",
    "width": "530.009px"
   },
   "types_to_exclude": [
    "module",
    "function",
    "builtin_function_or_method",
    "instance",
    "_Feature"
   ],
   "window_display": false
  }
 },
 "nbformat": 4,
 "nbformat_minor": 2
}
