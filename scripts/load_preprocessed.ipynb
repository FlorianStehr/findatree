{
 "cells": [
  {
   "cell_type": "code",
   "execution_count": 1,
   "metadata": {},
   "outputs": [],
   "source": [
    "import importlib\n",
    "import numpy as np\n",
    "\n",
    "import findatree.io as io"
   ]
  },
  {
   "cell_type": "code",
   "execution_count": 259,
   "metadata": {},
   "outputs": [],
   "source": [
    "from enum import unique\n",
    "from msilib.schema import Error\n",
    "from typing import List, Dict, Tuple, Generator\n",
    "import os\n",
    "import h5py\n",
    "import re\n",
    "\n",
    "\n",
    "def descend(object: h5py.File) -> Generator:\n",
    "\n",
    "    if isinstance(object, h5py.Group):\n",
    "        \n",
    "        sub_object_keys = list(object.keys())\n",
    "        for key in sub_object_keys:\n",
    "            yield from descend(object.get(key))\n",
    "\n",
    "    elif isinstance(object, h5py.Dataset):\n",
    "        yield str(object.name)\n",
    "\n",
    "    pass\n",
    " \n",
    "\n",
    "def load_hdf5(path: str, groups: List = ['channels', 'crowns_human', 'crowns_water'], features_only = False) -> Tuple[Dict, Dict]:\n",
    "\n",
    "    data = {}\n",
    "    data_params = {}\n",
    "    with h5py.File(path, 'r') as f:\n",
    "        \n",
    "        for group in groups:\n",
    "\n",
    "            if group == 'channels':\n",
    "                try: \n",
    "                    grp = f.get('channels')\n",
    "                    data['channels'] = dict([(key, grp.get(key)) for key in grp.keys()])\n",
    "                    data_params['channels'] = dict([(key, grp.attrs[key]) for key in grp.attrs.keys()])\n",
    "                except:\n",
    "                    raise Warning(f\"Group `{group}` not found.\")\n",
    "\n",
    "            if bool(re.search('crowns_*', group)):\n",
    "                try:\n",
    "                    grp = f.get(group + 'features'))\n",
    "                    features = dict([(key, grp.get(key)) for key in grp.keys()])\n",
    "                    data[group] = {'features': features}\n",
    "\n",
    "                    # if ! features_only:\n",
    "                \n",
    "                except:\n",
    "                    raise Warning(f\"Group `{group}` not found.\")\n",
    "    \n",
    "    return data, data_params"
   ]
  },
  {
   "cell_type": "code",
   "execution_count": 260,
   "metadata": {},
   "outputs": [
    {
     "ename": "Warning",
     "evalue": "Group `crowns_human` not found.",
     "output_type": "error",
     "traceback": [
      "\u001b[1;31m---------------------------------------------------------------------------\u001b[0m",
      "\u001b[1;31mAttributeError\u001b[0m                            Traceback (most recent call last)",
      "\u001b[1;32mc:\\Repos\\findatree\\scripts\\load_preprocessed.ipynb Cell 3\u001b[0m in \u001b[0;36mload_hdf5\u001b[1;34m(path, groups, features_only)\u001b[0m\n\u001b[0;32m     <a href='vscode-notebook-cell:/c%3A/Repos/findatree/scripts/load_preprocessed.ipynb#ch0000001?line=40'>41</a>\u001b[0m grp \u001b[39m=\u001b[39m f\u001b[39m.\u001b[39mget(os\u001b[39m.\u001b[39mpath\u001b[39m.\u001b[39mjoin(group,\u001b[39m'\u001b[39m\u001b[39mfeatures\u001b[39m\u001b[39m'\u001b[39m))\n\u001b[1;32m---> <a href='vscode-notebook-cell:/c%3A/Repos/findatree/scripts/load_preprocessed.ipynb#ch0000001?line=41'>42</a>\u001b[0m features \u001b[39m=\u001b[39m \u001b[39mdict\u001b[39m([(key, grp\u001b[39m.\u001b[39mget(key)) \u001b[39mfor\u001b[39;00m key \u001b[39min\u001b[39;00m grp\u001b[39m.\u001b[39;49mkeys()])\n\u001b[0;32m     <a href='vscode-notebook-cell:/c%3A/Repos/findatree/scripts/load_preprocessed.ipynb#ch0000001?line=42'>43</a>\u001b[0m data[group] \u001b[39m=\u001b[39m {\u001b[39m'\u001b[39m\u001b[39mfeatures\u001b[39m\u001b[39m'\u001b[39m: features}\n",
      "\u001b[1;31mAttributeError\u001b[0m: 'NoneType' object has no attribute 'keys'",
      "\nDuring handling of the above exception, another exception occurred:\n",
      "\u001b[1;31mWarning\u001b[0m                                   Traceback (most recent call last)",
      "\u001b[1;32mc:\\Repos\\findatree\\scripts\\load_preprocessed.ipynb Cell 3\u001b[0m in \u001b[0;36m<cell line: 5>\u001b[1;34m()\u001b[0m\n\u001b[0;32m      <a href='vscode-notebook-cell:/c%3A/Repos/findatree/scripts/load_preprocessed.ipynb#ch0000001?line=0'>1</a>\u001b[0m importlib\u001b[39m.\u001b[39mreload(io)\n\u001b[0;32m      <a href='vscode-notebook-cell:/c%3A/Repos/findatree/scripts/load_preprocessed.ipynb#ch0000001?line=2'>3</a>\u001b[0m path \u001b[39m=\u001b[39m \u001b[39mr\u001b[39m\u001b[39m\"\u001b[39m\u001b[39mC:\u001b[39m\u001b[39m\\\u001b[39m\u001b[39mData\u001b[39m\u001b[39m\\\u001b[39m\u001b[39mlwf\u001b[39m\u001b[39m\\\u001b[39m\u001b[39mprocessed\u001b[39m\u001b[39m\\\u001b[39m\u001b[39mtnr11044.hdf5\u001b[39m\u001b[39m\"\u001b[39m\n\u001b[1;32m----> <a href='vscode-notebook-cell:/c%3A/Repos/findatree/scripts/load_preprocessed.ipynb#ch0000001?line=4'>5</a>\u001b[0m out \u001b[39m=\u001b[39m load_hdf5(path)\n\u001b[0;32m      <a href='vscode-notebook-cell:/c%3A/Repos/findatree/scripts/load_preprocessed.ipynb#ch0000001?line=6'>7</a>\u001b[0m out\n",
      "\u001b[1;32mc:\\Repos\\findatree\\scripts\\load_preprocessed.ipynb Cell 3\u001b[0m in \u001b[0;36mload_hdf5\u001b[1;34m(path, groups, features_only)\u001b[0m\n\u001b[0;32m     <a href='vscode-notebook-cell:/c%3A/Repos/findatree/scripts/load_preprocessed.ipynb#ch0000001?line=44'>45</a>\u001b[0m                 \u001b[39m# if ! features_only:\u001b[39;00m\n\u001b[0;32m     <a href='vscode-notebook-cell:/c%3A/Repos/findatree/scripts/load_preprocessed.ipynb#ch0000001?line=46'>47</a>\u001b[0m             \u001b[39mexcept\u001b[39;00m:\n\u001b[1;32m---> <a href='vscode-notebook-cell:/c%3A/Repos/findatree/scripts/load_preprocessed.ipynb#ch0000001?line=47'>48</a>\u001b[0m                 \u001b[39mraise\u001b[39;00m \u001b[39mWarning\u001b[39;00m(\u001b[39mf\u001b[39m\u001b[39m\"\u001b[39m\u001b[39mGroup `\u001b[39m\u001b[39m{\u001b[39;00mgroup\u001b[39m}\u001b[39;00m\u001b[39m` not found.\u001b[39m\u001b[39m\"\u001b[39m)\n\u001b[0;32m     <a href='vscode-notebook-cell:/c%3A/Repos/findatree/scripts/load_preprocessed.ipynb#ch0000001?line=49'>50</a>\u001b[0m \u001b[39mreturn\u001b[39;00m data, data_params\n",
      "\u001b[1;31mWarning\u001b[0m: Group `crowns_human` not found."
     ]
    }
   ],
   "source": [
    "importlib.reload(io)\n",
    "\n",
    "path = r\"C:\\Data\\lwf\\processed\\tnr11044.hdf5\"\n",
    "\n",
    "out = load_hdf5(path)\n",
    "\n",
    "out"
   ]
  }
 ],
 "metadata": {
  "kernelspec": {
   "display_name": "Python 3.9.7 ('findatree_v01')",
   "language": "python",
   "name": "python3"
  },
  "language_info": {
   "codemirror_mode": {
    "name": "ipython",
    "version": 3
   },
   "file_extension": ".py",
   "mimetype": "text/x-python",
   "name": "python",
   "nbconvert_exporter": "python",
   "pygments_lexer": "ipython3",
   "version": "3.9.7"
  },
  "orig_nbformat": 4,
  "vscode": {
   "interpreter": {
    "hash": "635c494a99b4919ffc46b3179c211e3df0819f0dc50ebdacd534597eabf9f7f9"
   }
  }
 },
 "nbformat": 4,
 "nbformat_minor": 2
}
