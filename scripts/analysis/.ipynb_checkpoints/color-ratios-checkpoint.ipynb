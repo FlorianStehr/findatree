{
 "cells": [
  {
   "cell_type": "markdown",
   "metadata": {},
   "source": [
    "### Imports"
   ]
  },
  {
   "cell_type": "code",
   "execution_count": 6,
   "metadata": {
    "ExecuteTime": {
     "end_time": "2022-10-31T14:58:16.919815Z",
     "start_time": "2022-10-31T14:58:16.891440Z"
    }
   },
   "outputs": [],
   "source": [
    "import os\n",
    "import numpy as np\n",
    "import pandas as pd\n",
    "import importlib\n",
    "import re\n",
    "\n",
    "import matplotlib.pyplot as plt\n",
    "\n",
    "import findatree.io as io\n",
    "import findatree.descriptions as descriptions\n",
    "\n",
    "plt.style.use(r'C:\\Repos\\findatree\\own.mplstyle')\n",
    "\n",
    "# Dictionaries: species_name to ba and vice versa\n",
    "species_id_to_name = descriptions.species_id_to_name()\n",
    "species_name_to_id = descriptions.species_name_to_id()"
   ]
  },
  {
   "cell_type": "markdown",
   "metadata": {},
   "source": [
    "### Definitions"
   ]
  },
  {
   "cell_type": "code",
   "execution_count": 7,
   "metadata": {
    "ExecuteTime": {
     "end_time": "2022-10-31T14:58:19.043363Z",
     "start_time": "2022-10-31T14:58:19.025179Z"
    }
   },
   "outputs": [],
   "source": [
    "# Directory: Processed tnr%.hdf5s\n",
    "dir_hdf5 = r\"C:\\Data\\lwf\\processed\\2020\\hdf5\"\n",
    "\n",
    "# Directory: Plots\n",
    "dir_plots = r\"C:\\Data\\lwf\\analysis\\221031_color-ratios\\plots\"\n",
    "\n",
    "# Path to flight-log\n",
    "path_log = r\"C:\\Data\\lwf\\Flugbuch_WZE-2020_digitalisiert.csv\""
   ]
  },
  {
   "cell_type": "markdown",
   "metadata": {},
   "source": [
    "### Load all features and logbook"
   ]
  },
  {
   "cell_type": "code",
   "execution_count": 8,
   "metadata": {
    "ExecuteTime": {
     "end_time": "2022-10-31T14:58:28.484407Z",
     "start_time": "2022-10-31T14:58:21.926585Z"
    }
   },
   "outputs": [],
   "source": [
    "importlib.reload(io)\n",
    "\n",
    "# Load all features as pd.DataFrame\n",
    "df_original, params_df = io.allhdf5s_crowns_features_to_dataframe(dir_hdf5, crowns_type='crowns_human')\n",
    "\n",
    "# Load logbook\n",
    "log = pd.read_csv(path_log, sep=';', header=0)"
   ]
  },
  {
   "cell_type": "markdown",
   "metadata": {},
   "source": [
    "####  Clean-up of features"
   ]
  },
  {
   "cell_type": "code",
   "execution_count": 9,
   "metadata": {
    "ExecuteTime": {
     "end_time": "2022-10-31T14:59:02.695823Z",
     "start_time": "2022-10-31T14:59:02.353877Z"
    }
   },
   "outputs": [
    {
     "name": "stdout",
     "output_type": "stream",
     "text": [
      "#crowns = 4327, original\n",
      "#crowns = 4276, after removal (NaNs, i.e. completely shadowed or dead)\n",
      "#crowns = 4229, after query (bk in [0, 1, 210, 320, 330, 340])\n",
      "#crowns = 4229, after query (kkl <= 3)\n",
      "#crowns = 4181, after query (area_bright / 0.2**2 > 10)\n",
      "#crowns = 4157, after query (perc5_ndre > -1e-1)\n"
     ]
    }
   ],
   "source": [
    "# Copy original\n",
    "df = df_original.copy()\n",
    "print(f\"{r'#crowns'} = {len(df)}, original\")\n",
    "\n",
    "#### dtype and NaNs\n",
    "# Convert bhd_2020 column to float32 dtype\n",
    "df.loc[:, 'bhd_2020'] = pd.to_numeric(df.bhd_2020, errors='coerce')\n",
    "df.bhd_2020 = df.bhd_2020.astype(np.float32)\n",
    "\n",
    "# Convert bk column to int32 dtype\n",
    "df.loc[:, 'bk'] = pd.to_numeric(df.bk, errors='coerce')\n",
    "df.bk = df.bk.astype(np.int32)\n",
    "\n",
    "# Drop NaN containing rows\n",
    "df = df.dropna(axis=0, how='any')   \n",
    "print(f\"{r'#crowns'} = {len(df)}, after removal (NaNs, i.e. completely shadowed or dead)\")\n",
    "\n",
    "\n",
    "#### Value related\n",
    "queries = []\n",
    "\n",
    "# Baumklasse\n",
    "query_str = 'bk in [0, 1, 210, 320, 330, 340]'\n",
    "queries.append(query_str)\n",
    "df = df.query(query_str)\n",
    "print(f\"{r'#crowns'} = {len(df)}, after query ({query_str})\")\n",
    "\n",
    "# Kraftklasee\n",
    "query_str = 'kkl <= 3'\n",
    "queries.append(query_str)\n",
    "df = df.query(query_str)\n",
    "print(f\"{r'#crowns'} = {len(df)}, after query ({query_str})\")\n",
    "\n",
    "# Number of bright pixels\n",
    "query_str = 'area_bright / 0.2**2 > 10'\n",
    "queries.append(query_str)\n",
    "df = df.query(query_str)\n",
    "print(f\"{r'#crowns'} = {len(df)}, after query ({query_str})\")\n",
    "\n",
    "# Negative NDRE\n",
    "query_str = 'perc5_ndre > -1e-1'\n",
    "queries.append(query_str)\n",
    "df = df.query(query_str)\n",
    "print(f\"{r'#crowns'} = {len(df)}, after query ({query_str})\")"
   ]
  },
  {
   "cell_type": "markdown",
   "metadata": {},
   "source": [
    "#### Assign weather conditions"
   ]
  },
  {
   "cell_type": "code",
   "execution_count": 10,
   "metadata": {
    "ExecuteTime": {
     "end_time": "2022-10-31T14:59:20.666838Z",
     "start_time": "2022-10-31T14:59:20.598104Z"
    }
   },
   "outputs": [
    {
     "name": "stdout",
     "output_type": "stream",
     "text": [
      "#tnrs = 83 -> sunny\n",
      "#tnrs = 47 -> cloudy\n",
      "#tnrs = 22 -> mixed\n",
      "\n",
      "#crowns = 2211 -> sunny\n",
      "#crowns = 1292 -> cloudy\n",
      "#crowns = 654 -> mixed\n"
     ]
    }
   ],
   "source": [
    "tnrs = log.Traktnummer.values\n",
    "weathers = log['Wetter-Code'].values\n",
    "tnr_to_weather = dict([(tnr, weather) for tnr, weather in zip(tnrs, weathers)])\n",
    "\n",
    "df['weather'] = [tnr_to_weather[tnr] for tnr in df.tnr]\n",
    "\n",
    "print(f\"#tnrs = {len(np.unique(df[df.weather == 0].tnr))} -> sunny\")\n",
    "print(f\"#tnrs = {len(np.unique(df[df.weather == 1].tnr))} -> cloudy\")\n",
    "print(f\"#tnrs = {len(np.unique(df[df.weather == 2].tnr))} -> mixed\")\n",
    "print()\n",
    "print(f\"#crowns = {np.sum(df.weather == 0)} -> sunny\")\n",
    "print(f\"#crowns = {np.sum(df.weather == 1)} -> cloudy\")\n",
    "print(f\"#crowns = {np.sum(df.weather == 2)} -> mixed\")\n"
   ]
  },
  {
   "cell_type": "markdown",
   "metadata": {},
   "source": [
    "#### Assign families"
   ]
  },
  {
   "cell_type": "code",
   "execution_count": 11,
   "metadata": {
    "ExecuteTime": {
     "end_time": "2022-10-31T14:59:34.830135Z",
     "start_time": "2022-10-31T14:59:34.781635Z"
    }
   },
   "outputs": [],
   "source": [
    "importlib.reload(descriptions)\n",
    "\n",
    "# Define families by patterns\n",
    "family_patterns = [\n",
    "    'Gemeine Kiefer',\n",
    "    'Gemeine Fichte',\n",
    "    'Rotbuche',\n",
    "    'Traubeneiche|Stieleiche',\n",
    "    'Weißtanne',\n",
    "]\n",
    "family_names = [\n",
    "    'Kiefer',\n",
    "    'Fichte',\n",
    "    'Buche',\n",
    "    'Eiche',\n",
    "    'Tanne',\n",
    "]\n",
    "\n",
    "families = descriptions.species_groupby_families(family_patterns, family_names)\n",
    "family_ids = descriptions.species_id_to_family_id(df.ba.values, families)\n",
    "\n",
    "df = df.assign(\n",
    "    family = family_ids,\n",
    "    )"
   ]
  },
  {
   "cell_type": "markdown",
   "metadata": {},
   "source": [
    "### Infos"
   ]
  },
  {
   "cell_type": "markdown",
   "metadata": {},
   "source": [
    "#### Search: Pattern in column names"
   ]
  },
  {
   "cell_type": "code",
   "execution_count": 40,
   "metadata": {
    "ExecuteTime": {
     "end_time": "2022-10-28T12:46:25.162382Z",
     "start_time": "2022-10-28T12:46:25.147421Z"
    }
   },
   "outputs": [
    {
     "name": "stdout",
     "output_type": "stream",
     "text": [
      "x_min_bbox\n",
      "y_min_bbox\n",
      "x_min_bbox_bright\n",
      "y_min_bbox_bright\n"
     ]
    }
   ],
   "source": [
    "pattern = 'min'\n",
    "\n",
    "cols = list(df.columns)\n",
    "for col in cols:\n",
    "    if bool(re.search(pattern, col, re.IGNORECASE)):\n",
    "        print(col)"
   ]
  },
  {
   "cell_type": "markdown",
   "metadata": {},
   "source": [
    "#### Info: Dataset"
   ]
  },
  {
   "cell_type": "code",
   "execution_count": 12,
   "metadata": {
    "ExecuteTime": {
     "end_time": "2022-10-31T14:59:39.018654Z",
     "start_time": "2022-10-31T14:59:38.980107Z"
    }
   },
   "outputs": [
    {
     "name": "stdout",
     "output_type": "stream",
     "text": [
      "Total number of crowns        : 4157\n",
      "Mean number of crowns per tnr : 27.3\n",
      "__________________________________________________\n",
      "\n",
      "species_id| species_name                  | count\n",
      "--------------------------------------------------\n",
      "       134| Gemeine Kiefer                : 1458\n",
      "       118| Gemeine Fichte                : 1261\n",
      "        20| Rotbuche                      : 495\n",
      "       100| Weißtanne                     : 195\n",
      "        48| Traubeneiche                  : 194\n",
      "        51| Stieleiche                    : 131\n",
      "       116| Europäische Lärche            : 115\n",
      "        22| Gemeine Esche                 : 53\n",
      "        10| Gemeine Birke                 : 46\n",
      "         5| Bergahorn                     : 41\n",
      "       136| Douglasie                     : 35\n",
      "         7| Schwarzerle                   : 27\n",
      "       129| Schwarzkiefer                 : 22\n",
      "        13| Hainbuche                     : 18\n",
      "        36| Kirsche                       : 15\n",
      "       117| Japanische Lärche             : 10\n",
      "        53| Roteiche                      : 9\n",
      "        35| Aspe                          : 7\n",
      "        68| Winterlinde                   : 6\n",
      "        62| Weide                         : 5\n",
      "         1| Feldahorn                     : 4\n",
      "       133| Strobe                        : 4\n",
      "        70| Bergulme                      : 2\n",
      "        65| Speierling                    : 1\n",
      "       103| Küstentanne                   : 1\n",
      "         4| Spitzahorn                    : 1\n",
      "        56| Robinie                       : 1\n",
      "__________________________________________________\n",
      "\n",
      " family_id| family_name                   | count | species_names\n",
      "--------------------------------------------------\n",
      "         0| Kiefer                        : 1458  | ['Gemeine Kiefer']\n",
      "         1| Fichte                        : 1261  | ['Gemeine Fichte']\n",
      "         2| Buche                         : 495   | ['Rotbuche']\n",
      "         3| Eiche                         : 325   | ['Trauben- oder Stieleiche', 'Traubeneiche', 'Stieleiche']\n",
      "         4| Tanne                         : 195   | ['Weißtanne']\n",
      "__________________________________________________\n"
     ]
    }
   ],
   "source": [
    "importlib.reload(descriptions)\n",
    "\n",
    "descriptions.print_summary(\n",
    "    df.tnr.values,\n",
    "    df.ba.values,\n",
    "    df.family.values,\n",
    "    families,\n",
    ")"
   ]
  },
  {
   "cell_type": "markdown",
   "metadata": {},
   "source": [
    "### Plotting"
   ]
  },
  {
   "cell_type": "markdown",
   "metadata": {},
   "source": [
    "#### Groupby: family, weather, sst"
   ]
  },
  {
   "cell_type": "code",
   "execution_count": 13,
   "metadata": {
    "ExecuteTime": {
     "end_time": "2022-10-31T15:01:08.212021Z",
     "start_time": "2022-10-31T14:59:50.269903Z"
    }
   },
   "outputs": [],
   "source": [
    "df_grouped = df.groupby(['family', 'weather', 'sst']).describe()"
   ]
  },
  {
   "cell_type": "markdown",
   "metadata": {},
   "source": [
    "#### Plot: All families: Color Ratios vs. SST for different weather conditions"
   ]
  },
  {
   "cell_type": "code",
   "execution_count": 42,
   "metadata": {
    "ExecuteTime": {
     "end_time": "2022-10-31T15:13:31.252530Z",
     "start_time": "2022-10-31T15:13:30.566218Z"
    }
   },
   "outputs": [
    {
     "data": {
      "image/png": "[encoded data removed]",
      "text/plain": [
       "<Figure size 750x450 with 1 Axes>"
      ]
     },
     "metadata": {
      "needs_background": "light"
     },
     "output_type": "display_data"
    }
   ],
   "source": [
    "col = 'perc25_nre'\n",
    "weather_id = 2\n",
    "statistics = 'mean'\n",
    "statistics_err = 'std'\n",
    "\n",
    "colors = ['k', 'r', 'b', 'magenta','orange']\n",
    "\n",
    "save_name = f\"weather{weather_id}\" + '_' + col + '.svg'\n",
    "\n",
    "\n",
    "################### Plotting \n",
    "f = plt.figure(figsize= [5, 3])\n",
    "f.clear()\n",
    "f.subplots_adjust(bottom=0.2, top=0.8, left=0.2, right=0.65)\n",
    "ax = f.add_subplot(111)\n",
    "\n",
    "for i, (family_id, family) in enumerate(families.items()):\n",
    "    \n",
    "    # x-data\n",
    "    x = np.array(df_grouped.loc[(family_id, weather_id, slice(None)), :].index.get_level_values(2))\n",
    "\n",
    "    # y-data: Define\n",
    "    y = df_grouped.loc[(family_id, weather_id, slice(None)), (col, statistics)].values\n",
    "    yerr = df_grouped.loc[(family_id, weather_id, slice(None)), (col, statistics_err)].values\n",
    "\n",
    "    # xy-data: Remove NaNs in case of single crown per family\n",
    "    x = x[np.isfinite(yerr)]\n",
    "    y = y[np.isfinite(yerr)]\n",
    "    yerr = yerr[np.isfinite(yerr)]\n",
    "\n",
    "    # counts\n",
    "    counts = df_grouped.loc[(family_id, weather_id, slice(None)), (col, 'count')].values\n",
    "    counts = np.sum(counts)\n",
    "\n",
    "    ax.errorbar(\n",
    "        x,\n",
    "        y,\n",
    "        yerr,\n",
    "        label=family['family_name'].upper() + f\"(#{counts:.0f})\",\n",
    "        marker='o',\n",
    "        c=colors[i],\n",
    "        mec=colors[i],\n",
    "        mfc='none',\n",
    "        ms=4,\n",
    "        capsize=4,\n",
    "    )\n",
    "\n",
    "    ax.legend(loc='upper left', bbox_to_anchor=(1,1))\n",
    "    ax.set_title(f\"Weather code: {weather_id}\")\n",
    "    \n",
    "    ax.set_xlim(-0.5, 4.5)\n",
    "    ax.set_xticks(range(5))\n",
    "    ax.set_xlabel('SST')\n",
    "    \n",
    "    ax.set_ylabel(col.upper())\n",
    "#     ax.set_ylim(0,0.4)  # nBLUE\n",
    "#     ax.set_ylim(0,0.5)  # nGREEN\n",
    "#     ax.set_ylim(0,0.55)  # nRED\n",
    "    ax.set_ylim(0,0.85)  # nRE\n",
    "\n",
    "plt.savefig(os.path.join(dir_plots, save_name), transparent=True)"
   ]
  },
  {
   "cell_type": "markdown",
   "metadata": {},
   "source": [
    "#### Groupby: family, weather, nbv"
   ]
  },
  {
   "cell_type": "code",
   "execution_count": 43,
   "metadata": {
    "ExecuteTime": {
     "end_time": "2022-10-31T15:39:57.320294Z",
     "start_time": "2022-10-31T15:37:24.721501Z"
    }
   },
   "outputs": [],
   "source": [
    "df_grouped = df.groupby(['family', 'weather', 'nbv']).describe()"
   ]
  },
  {
   "cell_type": "markdown",
   "metadata": {},
   "source": [
    "#### Plot: All families: Color Ratios vs. NBV for different weather conditions"
   ]
  },
  {
   "cell_type": "code",
   "execution_count": 55,
   "metadata": {
    "ExecuteTime": {
     "end_time": "2022-10-31T15:42:45.289154Z",
     "start_time": "2022-10-31T15:42:44.426551Z"
    }
   },
   "outputs": [
    {
     "data": {
      "image/png": "[encoded data removed]",
      "text/plain": [
       "<Figure size 750x450 with 1 Axes>"
      ]
     },
     "metadata": {
      "needs_background": "light"
     },
     "output_type": "display_data"
    }
   ],
   "source": [
    "col = 'perc25_nre'\n",
    "weather_id = 2\n",
    "statistics = 'mean'\n",
    "statistics_err = 'std'\n",
    "\n",
    "colors = ['k', 'r', 'b', 'magenta', 'orange']\n",
    "\n",
    "save_name = f\"nbv_weather{weather_id}\" + '_' + col + '.svg'\n",
    "\n",
    "\n",
    "################### Plotting \n",
    "f = plt.figure(figsize= [5, 3])\n",
    "f.clear()\n",
    "f.subplots_adjust(bottom=0.2, top=0.8, left=0.2, right=0.65)\n",
    "ax = f.add_subplot(111)\n",
    "\n",
    "for i, (family_id, family) in enumerate(families.items()):\n",
    "    \n",
    "    # x-data\n",
    "    x = np.array(df_grouped.loc[(family_id, weather_id, slice(None)), :].index.get_level_values(2))\n",
    "\n",
    "    # y-data: Define\n",
    "    y = df_grouped.loc[(family_id, weather_id, slice(None)), (col, statistics)].values\n",
    "    yerr = df_grouped.loc[(family_id, weather_id, slice(None)), (col, statistics_err)].values\n",
    "\n",
    "    # xy-data: Remove NaNs in case of single crown per family\n",
    "    x = x[np.isfinite(yerr)]\n",
    "    y = y[np.isfinite(yerr)]\n",
    "    yerr = yerr[np.isfinite(yerr)]\n",
    "\n",
    "    # counts\n",
    "    counts = df_grouped.loc[(family_id, weather_id, slice(None)), (col, 'count')].values\n",
    "    counts = np.sum(counts)\n",
    "\n",
    "    ax.errorbar(\n",
    "        x,\n",
    "        y,\n",
    "#         yerr,\n",
    "        label=family['family_name'].upper() + f\"(#{counts:.0f})\",\n",
    "        marker='o',\n",
    "        c=colors[i],\n",
    "        mec=colors[i],\n",
    "        mfc='none',\n",
    "        ms=3,\n",
    "        capsize=4,\n",
    "    )\n",
    "    \n",
    "    ax.axvline(10, ls='--', c='k', lw=0.5)\n",
    "    ax.axvline(25, ls='--', c='k', lw=0.5)\n",
    "    ax.axvline(60, ls='--', c='k', lw=0.5)\n",
    "    ax.axvline(95, ls='--', c='k', lw=0.5)\n",
    "    \n",
    "    ax.legend(loc='upper left', bbox_to_anchor=(1,1))\n",
    "    ax.set_title(f\"Weather code: {weather_id}\")\n",
    "    \n",
    "    ax.set_xlim(-5,105)\n",
    "    ax.set_xlabel(r'NBV [%]')\n",
    "    \n",
    "    ax.set_ylabel(col.upper())\n",
    "    \n",
    "#     ax.set_ylim(0,0.4)  # nBLUE\n",
    "#     ax.set_ylim(0,0.5)  # nGREEN\n",
    "#     ax.set_ylim(0,0.55)  # nRED\n",
    "    ax.set_ylim(0,0.85)  # nRE\n",
    "\n",
    "plt.savefig(os.path.join(dir_plots, save_name), transparent=True)"
   ]
  },
  {
   "cell_type": "markdown",
   "metadata": {},
   "source": [
    "#### Groupby: family, sst"
   ]
  },
  {
   "cell_type": "code",
   "execution_count": 57,
   "metadata": {
    "ExecuteTime": {
     "end_time": "2022-10-31T16:07:49.875471Z",
     "start_time": "2022-10-31T16:07:35.602270Z"
    }
   },
   "outputs": [],
   "source": [
    "df_grouped = df.groupby(['family', 'sst']).describe()"
   ]
  },
  {
   "cell_type": "markdown",
   "metadata": {},
   "source": [
    "#### Plot: All families: Color Ratio Spectrum for SSTs for all weather conditions"
   ]
  },
  {
   "cell_type": "code",
   "execution_count": 65,
   "metadata": {
    "ExecuteTime": {
     "end_time": "2022-10-30T12:24:21.770738Z",
     "start_time": "2022-10-30T12:24:21.068960Z"
    },
    "scrolled": true
   },
   "outputs": [
    {
     "data": {
      "image/png": "[encoded data removed]",
      "text/plain": [
       "<Figure size 750x450 with 1 Axes>"
      ]
     },
     "metadata": {
      "needs_background": "light"
     },
     "output_type": "display_data"
    }
   ],
   "source": [
    "cols = ['perc50_nblue', 'perc50_ngreen', 'perc50_nred', 'perc50_nre']\n",
    "\n",
    "sst = 0\n",
    "\n",
    "statistics = 'mean'\n",
    "statistics_err = 'std'\n",
    "\n",
    "colors = ['lightgrey', 'grey', 'k', 'grey', 'lightgrey']\n",
    "styles = ['-.', '--', '-', '--', '-.']\n",
    "\n",
    "save_name = family_name.lower() + '_' + cols[0].split('_')[-1] + '.svg'\n",
    "\n",
    "################### Plotting \n",
    "f = plt.figure(figsize= [5, 3])\n",
    "f.clear()\n",
    "f.subplots_adjust(bottom=0.2, top=0.8, left=0.2, right=0.7)\n",
    "ax = f.add_subplot(111)\n",
    "\n",
    "for i, (family_id, family) in enumerate(families.items()):\n",
    "    \n",
    "    # Get family name\n",
    "    family_name = family['family_name']\n",
    "    \n",
    "    # x-data\n",
    "    x = np.arange(len(cols)+1)\n",
    "    \n",
    "    # y-data: Define\n",
    "    y = df_grouped.loc[(family_id, sst), (cols, statistics)].values\n",
    "    yerr = df_grouped.loc[(family_id, sst), (cols, statistics_err)].values\n",
    "    \n",
    "    # Add 1,0 at end of y and y_err to indicate NIR\n",
    "    y = np.concatenate([y,1])\n",
    "    y_err = np.concatenate([y,0])\n",
    "    \n",
    "    # xy-data: Remove NaNs in case of single crown per family\n",
    "    x = x[np.isfinite(yerr)]\n",
    "    y = y[np.isfinite(yerr)]\n",
    "    yerr = yerr[np.isfinite(yerr)]\n",
    "\n",
    "    # counts\n",
    "    counts = df_grouped.loc[(family_id, sst), (cols, 'count')].values\n",
    "    counts = np.sum(counts)\n",
    "    \n",
    "    ax.errorbar(\n",
    "        x,\n",
    "        y,\n",
    "        yerr,\n",
    "        label=family['family_name'].upper() + f\"(#{counts:.0f})\",\n",
    "        marker='o',\n",
    "        c=colors[i],\n",
    "        ls=styles[i],\n",
    "        mec=colors[i],\n",
    "        mfc='none',\n",
    "        ms=6,\n",
    "        capsize=6,\n",
    "    )\n",
    "\n",
    "    ax.legend(loc='upper left', bbox_to_anchor=(1,1))\n",
    "    ax.set_title(family_name + f\" (#{counts:.0f})\")\n",
    "    \n",
    "#     ax.set_xlim(-0.5, 4.5)\n",
    "#     ax.set_xticks(range(5))\n",
    "#     ax.set_xlabel('SST')\n",
    "    \n",
    "#     ax.set_ylabel(col.split('_')[-1].upper())\n",
    "#     ax.set_ylim(0.123, 0.31)\n",
    "\n",
    "# plt.savefig(os.path.join(dir_plots, save_name), transparent=True)"
   ]
  }
 ],
 "metadata": {
  "kernelspec": {
   "display_name": "Python 3 (ipykernel)",
   "language": "python",
   "name": "python3"
  },
  "language_info": {
   "codemirror_mode": {
    "name": "ipython",
    "version": 3
   },
   "file_extension": ".py",
   "mimetype": "text/x-python",
   "name": "python",
   "nbconvert_exporter": "python",
   "pygments_lexer": "ipython3",
   "version": "3.9.7"
  },
  "toc": {
   "base_numbering": 1,
   "nav_menu": {},
   "number_sections": true,
   "sideBar": true,
   "skip_h1_title": false,
   "title_cell": "Table of Contents",
   "title_sidebar": "Contents",
   "toc_cell": false,
   "toc_position": {
    "height": "calc(100% - 180px)",
    "left": "10px",
    "top": "150px",
    "width": "609.667px"
   },
   "toc_section_display": true,
   "toc_window_display": true
  },
  "varInspector": {
   "cols": {
    "lenName": 16,
    "lenType": 16,
    "lenVar": 40
   },
   "kernels_config": {
    "python": {
     "delete_cmd_postfix": "",
     "delete_cmd_prefix": "del ",
     "library": "var_list.py",
     "varRefreshCmd": "print(var_dic_list())"
    },
    "r": {
     "delete_cmd_postfix": ") ",
     "delete_cmd_prefix": "rm(",
     "library": "var_list.r",
     "varRefreshCmd": "cat(var_dic_list()) "
    }
   },
   "types_to_exclude": [
    "module",
    "function",
    "builtin_function_or_method",
    "instance",
    "_Feature"
   ],
   "window_display": false
  },
  "vscode": {
   "interpreter": {
    "hash": "635c494a99b4919ffc46b3179c211e3df0819f0dc50ebdacd534597eabf9f7f9"
   }
  }
 },
 "nbformat": 4,
 "nbformat_minor": 2
}
