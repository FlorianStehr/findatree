{
 "cells": [
  {
   "cell_type": "markdown",
   "metadata": {},
   "source": [
    "### Imports"
   ]
  },
  {
   "cell_type": "code",
   "execution_count": 1,
   "metadata": {},
   "outputs": [
    {
     "data": {
      "text/plain": [
       "<module 'findatree.photometric' from 'C:\\\\Repos\\\\findatree\\\\findatree\\\\photometric.py'>"
      ]
     },
     "execution_count": 1,
     "metadata": {},
     "output_type": "execute_result"
    }
   ],
   "source": [
    "import importlib\n",
    "import os\n",
    "from tqdm import tqdm\n",
    "\n",
    "import findatree.io as io\n",
    "import findatree.photometric as photometric\n",
    "\n",
    "importlib.reload(io)\n",
    "importlib.reload(photometric)"
   ]
  },
  {
   "cell_type": "markdown",
   "metadata": {},
   "source": [
    "### Definitions"
   ]
  },
  {
   "cell_type": "code",
   "execution_count": 2,
   "metadata": {},
   "outputs": [],
   "source": [
    "# Define directories where processed hdf5s are stored\n",
    "dir_hdf5 = r\"C:\\Data\\lwf\\processed\\2020\\hdf5\"\n",
    "\n",
    "# For which crown type will photometric features be computed? -> i.e. 'crowns_human' or 'crowns_water'\n",
    "crown_type = 'crowns_human'"
   ]
  },
  {
   "cell_type": "markdown",
   "metadata": {},
   "source": [
    "### Processing"
   ]
  },
  {
   "cell_type": "markdown",
   "metadata": {},
   "source": [
    "#### Prepare main loop"
   ]
  },
  {
   "cell_type": "code",
   "execution_count": 3,
   "metadata": {},
   "outputs": [],
   "source": [
    "# Get all available hdf5 files\n",
    "paths = [os.path.join(dir_hdf5, name) for name in os.listdir(dir_hdf5) if os.path.splitext(name)[-1] == '.hdf5']\n",
    "\n",
    "# Init list of exceptions\n",
    "exception_list = []"
   ]
  },
  {
   "cell_type": "markdown",
   "metadata": {},
   "source": [
    "#### Run main loop"
   ]
  },
  {
   "cell_type": "code",
   "execution_count": 4,
   "metadata": {},
   "outputs": [
    {
     "name": "stderr",
     "output_type": "stream",
     "text": [
      "100%|██████████| 54/54 [00:03<00:00, 17.94it/s]\n",
      "100%|██████████| 47/47 [00:02<00:00, 17.76it/s]\n",
      "100%|██████████| 52/52 [00:02<00:00, 20.24it/s]\n",
      "100%|██████████| 41/41 [00:01<00:00, 20.90it/s]\n",
      "100%|██████████| 39/39 [00:01<00:00, 21.50it/s]\n",
      "100%|██████████| 40/40 [00:02<00:00, 19.53it/s]\n",
      "100%|██████████| 48/48 [00:02<00:00, 18.71it/s]\n",
      "100%|██████████| 57/57 [00:02<00:00, 20.19it/s]\n",
      "100%|██████████| 21/21 [00:00<00:00, 22.43it/s]\n",
      "100%|██████████| 9/9 [00:00<00:00, 16.38it/s]]\n",
      "100%|██████████| 45/45 [00:01<00:00, 23.25it/s]\n",
      "100%|██████████| 46/46 [00:02<00:00, 20.00it/s]\n",
      "100%|██████████| 55/55 [00:02<00:00, 18.74it/s]\n",
      "100%|██████████| 36/36 [00:02<00:00, 17.71it/s]\n",
      "100%|██████████| 14/14 [00:37<00:00,  2.65s/it]\n"
     ]
    },
    {
     "name": "stdout",
     "output_type": "stream",
     "text": [
      "\n",
      "Done!\n",
      "Exceptions occured @[]\n"
     ]
    }
   ],
   "source": [
    "for path in tqdm(paths):\n",
    "    \n",
    "    ################# [1] Load channels and crowns group from hdf5\n",
    "    try:\n",
    "        data, params_data = io.load_hdf5(path, groups = ['channels', crown_type])\n",
    "        channels, params_channels = data['channels'], params_data['channels']\n",
    "        crowns, params_crowns = data[crown_type], params_data[crown_type]\n",
    "        del data, params_data\n",
    "\n",
    "    except:\n",
    "        print(f\"-> {path}: Exception during loading of hdf5\")\n",
    "        exception_list.extend([path])\n",
    "\n",
    "    ################# [2] Add photometric features to crowns and save in hdf5\n",
    "    try:\n",
    "        photometric.crowns_add_features(\n",
    "            channels,\n",
    "            params_channels,\n",
    "            crowns,\n",
    "            params_crowns,\n",
    "        )\n",
    "        io.crowns_to_hdf5(crowns, params_crowns, dir_name = dir_hdf5)\n",
    "    \n",
    "    except:\n",
    "        print(f\"-> {path}: Exception during addition of photometric features\")\n",
    "        exception_list.extend([path])\n",
    "\n",
    "\n",
    "print()\n",
    "print('Done!')\n",
    "print(f\"Exceptions occured @{exception_list}\")"
   ]
  }
 ],
 "metadata": {
  "kernelspec": {
   "display_name": "Python 3.9.7 ('findatree_v01')",
   "language": "python",
   "name": "python3"
  },
  "language_info": {
   "codemirror_mode": {
    "name": "ipython",
    "version": 3
   },
   "file_extension": ".py",
   "mimetype": "text/x-python",
   "name": "python",
   "nbconvert_exporter": "python",
   "pygments_lexer": "ipython3",
   "version": "3.9.7"
  },
  "orig_nbformat": 4,
  "vscode": {
   "interpreter": {
    "hash": "635c494a99b4919ffc46b3179c211e3df0819f0dc50ebdacd534597eabf9f7f9"
   }
  }
 },
 "nbformat": 4,
 "nbformat_minor": 2
}
