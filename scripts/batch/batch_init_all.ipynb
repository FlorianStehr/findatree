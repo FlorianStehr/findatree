{
 "cells": [
  {
   "cell_type": "markdown",
   "metadata": {},
   "source": [
    "### Imports"
   ]
  },
  {
   "cell_type": "code",
   "execution_count": 2,
   "metadata": {
    "ExecuteTime": {
     "end_time": "2022-10-30T16:09:06.243870Z",
     "start_time": "2022-10-30T16:09:06.159225Z"
    }
   },
   "outputs": [],
   "source": [
    "import importlib\n",
    "import os\n",
    "from tqdm import tqdm\n",
    "import traceback\n",
    "\n",
    "import findatree.io as io\n",
    "import findatree.transformations as transformations\n",
    "import findatree.interactive as interactive\n",
    "import findatree.geo_to_image as geo_to_image\n",
    "import findatree.segmentation as segmentation\n",
    "import findatree.photometric.shadow as shadow\n",
    "import findatree.photometric.features as features\n",
    "\n",
    "from bokeh.plotting import save\n",
    "from bokeh.io import output_file\n",
    "\n",
    "_ = importlib.reload(io)\n",
    "_ = importlib.reload(transformations)\n",
    "_ = importlib.reload(interactive)\n",
    "_ = importlib.reload(geo_to_image)\n",
    "_ = importlib.reload(segmentation)\n",
    "_ = importlib.reload(shadow)\n",
    "_ = importlib.reload(features)"
   ]
  },
  {
   "cell_type": "markdown",
   "metadata": {},
   "source": [
    "### Definitions"
   ]
  },
  {
   "cell_type": "code",
   "execution_count": 3,
   "metadata": {
    "ExecuteTime": {
     "end_time": "2022-10-30T16:09:08.099884Z",
     "start_time": "2022-10-30T16:09:08.046683Z"
    }
   },
   "outputs": [],
   "source": [
    "# Define full paths to directories containing dsm, dtm, ortho and shape-files \n",
    "dir_names=[]\n",
    "dir_names.extend([r'C:\\Data\\lwf\\WZE-UAV-2020\\DSMs'])\n",
    "dir_names.extend([r'C:\\Data\\lwf\\WZE-UAV-2020\\DTMs'])\n",
    "dir_names.extend([r'C:\\Data\\lwf\\WZE-UAV-2020\\Orthos'])\n",
    "dir_names.extend([r'C:\\Data\\lwf\\WZE-UAV-2020\\Kronen'])\n",
    "\n",
    "# Define directories where return hdf5s and htmls are stored\n",
    "dir_name_hdf5 = r\"C:\\Data\\lwf\\processed\\2020\\hdf5\"\n",
    "dir_name_html = r\"C:\\Data\\lwf\\processed\\2020\\html\"\n",
    "\n",
    "# Only process tnr numbers where a shape file is present\n",
    "process_shapes_only = True\n",
    "\n",
    "# Optionally process only specific tnrs, if empty all are processed\n",
    "process_tnrs_only = [\n",
    "#     6462,\n",
    "#     10547,\n",
    "#     11581,\n",
    "#     11601,\n",
    "#     12124,\n",
    "#     12551,\n",
    "]"
   ]
  },
  {
   "cell_type": "markdown",
   "metadata": {},
   "source": [
    "#### Processing"
   ]
  },
  {
   "cell_type": "markdown",
   "metadata": {},
   "source": [
    "#### Prepare main loop"
   ]
  },
  {
   "cell_type": "code",
   "execution_count": 4,
   "metadata": {
    "ExecuteTime": {
     "end_time": "2022-10-30T16:09:34.971466Z",
     "start_time": "2022-10-30T16:09:10.619146Z"
    }
   },
   "outputs": [
    {
     "name": "stdout",
     "output_type": "stream",
     "text": [
      "Number of tnrs found: 261\n",
      "Only processing 153 tnrs with shapes file\n"
     ]
    }
   ],
   "source": [
    "importlib.reload(io)\n",
    "\n",
    "# Get all available tnr numbers in directory\n",
    "tnrs = io.find_all_tnrs_in_dir(dir_names[0])\n",
    "print(f\"Number of tnrs found: {len(tnrs)}\")\n",
    "\n",
    "if len(process_tnrs_only) > 0:\n",
    "    tnrs = [tnr for tnr in tnrs if tnr in process_tnrs_only]\n",
    "    \n",
    "# Find all tnr numbers where a shape file is present\n",
    "if process_shapes_only:\n",
    "    tnrs = [tnr for tnr in tnrs if 'path_shapes' in io._find_paths_in_dirs(dir_names, tnr).keys()]\n",
    "    print(f\"Only processing {len(tnrs)} tnrs with shapes file\")"
   ]
  },
  {
   "cell_type": "markdown",
   "metadata": {},
   "source": [
    "#### Run main loop"
   ]
  },
  {
   "cell_type": "code",
   "execution_count": 5,
   "metadata": {
    "ExecuteTime": {
     "end_time": "2022-10-30T18:20:48.968820Z",
     "start_time": "2022-10-30T16:09:36.482433Z"
    }
   },
   "outputs": [
    {
     "name": "stderr",
     "output_type": "stream",
     "text": [
      "100%|█████████████████████████████████████████████████████████| 153/153 [2:11:12<00:00, 51.45s/it]"
     ]
    },
    {
     "name": "stdout",
     "output_type": "stream",
     "text": [
      "\n",
      "Done!\n",
      "0 exceptions occured\n"
     ]
    },
    {
     "name": "stderr",
     "output_type": "stream",
     "text": [
      "\n"
     ]
    }
   ],
   "source": [
    "exception_traceback = []\n",
    "\n",
    "for tnr in tqdm(tnrs):\n",
    "    \n",
    "    try:\n",
    "        ################# [1] Load channels\n",
    "        params_channels = {'tnr': tnr}\n",
    "        channels, params_channels = geo_to_image.channels_load(dir_names, params_channels, verbose=False)\n",
    "    \n",
    "        ################# [2] Load human generated crowns. Compute photometric features.\n",
    "        crowns_human, params_crowns_human = io.load_shapefile(dir_names, params_channels, verbose=False)\n",
    "        features.crowns_add_features(\n",
    "            channels,\n",
    "            params_channels,\n",
    "            crowns_human,\n",
    "            params_crowns_human,\n",
    "        )\n",
    "\n",
    "        ################# [3] Generate and save watershed crowns\n",
    "#         params_crowns_water = {}\n",
    "\n",
    "#         crowns_water, params_crowns_water = segmentation.watershed(\n",
    "#             channels,\n",
    "#             params_channels,\n",
    "#             params_crowns_water,\n",
    "#             verbose=False,\n",
    "#         )\n",
    "#         io.crowns_to_hdf5(crowns_water, params_crowns_water, dir_name = dir_name_hdf5)\n",
    "\n",
    "        ################# [4] Create bokeh plot and save as html\n",
    "        plt = interactive.Plotter()\n",
    "        plt.width = 400\n",
    "        plt.channels_downscale = 0\n",
    "        plt.show_features = [\n",
    "            'id',\n",
    "            'ba', 'kkl', 'sst', 'nbv',\n",
    "            'perc25_ndvi','perc50_ndvi','perc75_ndvi',\n",
    "        ]\n",
    "\n",
    "        plt.add_channels(channels, params_channels)\n",
    "\n",
    "        plt.figures_add_rgb(perc=2)\n",
    "        plt.figures_add_rgb(perc=2, color_code='533', weight_code = '133')\n",
    "        plt.figures_add_gray('mask')\n",
    "        plt.figures_add_gray('chm')\n",
    "\n",
    "        plt.togglers_add_crowns(crowns_human, params_crowns_human)\n",
    "\n",
    "        # Create and save layout\n",
    "        layout = plt.create_layout()\n",
    "        output_file(\n",
    "            filename = os.path.join(dir_name_html, f\"tnr{tnr}.html\"),\n",
    "            title = f\"tnr{tnr}_{transformations.current_datetime()}\",\n",
    "            mode='inline',\n",
    "            )\n",
    "        \n",
    "        ################# [5] Save channels, crowns and layout\n",
    "        io.channels_to_hdf5(channels, params_channels, dir_name = dir_name_hdf5)\n",
    "        io.crowns_to_hdf5(crowns_human, params_crowns_human, dir_name = dir_name_hdf5)\n",
    "        save(layout)\n",
    "        \n",
    "    except:\n",
    "        exception_traceback.append({\n",
    "            'tnr': int(tnr),\n",
    "            'traceback': traceback.format_exc(),\n",
    "            })\n",
    "\n",
    "# Save exceptions in .yaml\n",
    "io.list_of_dicts_to_yaml(\n",
    "    path = os.path.join(dir_name_hdf5, f\"{transformations.current_datetime()}_batch_init_all.yaml\"),\n",
    "    list_of_dicts = exception_traceback,\n",
    "    )\n",
    "\n",
    "print()\n",
    "print('Done!')\n",
    "print(f\"{len(exception_traceback)} exceptions occured\")"
   ]
  },
  {
   "cell_type": "code",
   "execution_count": 12,
   "metadata": {
    "ExecuteTime": {
     "end_time": "2022-10-30T14:10:06.019034Z",
     "start_time": "2022-10-30T14:10:05.987808Z"
    }
   },
   "outputs": [
    {
     "name": "stdout",
     "output_type": "stream",
     "text": [
      "10545\n",
      "--> Traceback (most recent call last):\n",
      "  File \"C:\\Users\\flori\\AppData\\Local\\Temp\\ipykernel_9636\\1729340539.py\", line 59, in <module>\n",
      "    io.crowns_to_hdf5(crowns_human, params_crowns_human, dir_name = dir_name_hdf5)\n",
      "  File \"C:\\Repos\\findatree\\findatree\\io.py\", line 321, in crowns_to_hdf5\n",
      "    assert features.shape[0] == params_crowns['number_crowns'], message\n",
      "AssertionError: `len(crowns['features'][photometric]` is 33 but `params_crowns['number_crowns']` is 34)\n",
      "\n"
     ]
    }
   ],
   "source": [
    "for e in exception_traceback:\n",
    "    print(e['tnr'])\n",
    "    print('-->', e['traceback'])"
   ]
  }
 ],
 "metadata": {
  "kernelspec": {
   "display_name": "Python 3 (ipykernel)",
   "language": "python",
   "name": "python3"
  },
  "language_info": {
   "codemirror_mode": {
    "name": "ipython",
    "version": 3
   },
   "file_extension": ".py",
   "mimetype": "text/x-python",
   "name": "python",
   "nbconvert_exporter": "python",
   "pygments_lexer": "ipython3",
   "version": "3.9.7"
  },
  "toc": {
   "base_numbering": 1,
   "nav_menu": {},
   "number_sections": true,
   "sideBar": true,
   "skip_h1_title": false,
   "title_cell": "Table of Contents",
   "title_sidebar": "Contents",
   "toc_cell": false,
   "toc_position": {},
   "toc_section_display": true,
   "toc_window_display": true
  },
  "varInspector": {
   "cols": {
    "lenName": 16,
    "lenType": 16,
    "lenVar": 40
   },
   "kernels_config": {
    "python": {
     "delete_cmd_postfix": "",
     "delete_cmd_prefix": "del ",
     "library": "var_list.py",
     "varRefreshCmd": "print(var_dic_list())"
    },
    "r": {
     "delete_cmd_postfix": ") ",
     "delete_cmd_prefix": "rm(",
     "library": "var_list.r",
     "varRefreshCmd": "cat(var_dic_list()) "
    }
   },
   "types_to_exclude": [
    "module",
    "function",
    "builtin_function_or_method",
    "instance",
    "_Feature"
   ],
   "window_display": false
  },
  "vscode": {
   "interpreter": {
    "hash": "635c494a99b4919ffc46b3179c211e3df0819f0dc50ebdacd534597eabf9f7f9"
   }
  }
 },
 "nbformat": 4,
 "nbformat_minor": 2
}
