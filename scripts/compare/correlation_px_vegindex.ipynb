{
 "cells": [
  {
   "cell_type": "markdown",
   "metadata": {},
   "source": [
    "### Imports"
   ]
  },
  {
   "cell_type": "code",
   "execution_count": 1,
   "metadata": {},
   "outputs": [],
   "source": [
    "import importlib\n",
    "import traceback\n",
    "import os\n",
    "import re\n",
    "from tqdm import tqdm\n",
    "import numpy as np\n",
    "import pandas as pd\n",
    "import matplotlib.pyplot as plt\n",
    "\n",
    "import findatree.io as io\n",
    "import findatree.photometric as photometric\n",
    "import findatree.transformations as transformations\n",
    "\n",
    "_ = importlib.reload(io)\n",
    "_ = importlib.reload(photometric)\n",
    "_ = importlib.reload(transformations)\n",
    "\n",
    "plt.style.use(r'C:\\Repos\\findatree\\own.mplstyle')"
   ]
  },
  {
   "cell_type": "markdown",
   "metadata": {},
   "source": [
    "### Definitions"
   ]
  },
  {
   "cell_type": "code",
   "execution_count": 58,
   "metadata": {},
   "outputs": [],
   "source": [
    "# Define directories where return hdf5s are stored\n",
    "dir_name_hdf5 = r\"C:\\Data\\lwf\\processed\\2020\\hdf5\"\n",
    "\n",
    "# Vegetation indices used in px-wise correlation\n",
    "vi_names = ['ndvi', 'ndvire', 'ndre', 'grvi', 'chm']\n",
    "\n",
    "# Collect pixel wise correlation of 10 random tnrs\n",
    "n_random_tnrs = 0\n",
    "\n",
    "# Optionally process only specific tnrs\n",
    "include_tnrs = [\n",
    "    # 15519,\n",
    "]"
   ]
  },
  {
   "cell_type": "markdown",
   "metadata": {},
   "source": [
    "### Processing"
   ]
  },
  {
   "cell_type": "markdown",
   "metadata": {},
   "source": [
    "#### Prepare main loop"
   ]
  },
  {
   "cell_type": "code",
   "execution_count": 59,
   "metadata": {},
   "outputs": [],
   "source": [
    "# Get all available tnr numbers in directory\n",
    "paths = [os.path.join(dir_name_hdf5, name) for name in os.listdir(dir_name_hdf5) if os.path.splitext(name)[-1] == '.hdf5']\n",
    "\n",
    "\n",
    "\n",
    "# Include only specified tnrs in main loop\n",
    "if len(include_tnrs) > 0:\n",
    "    paths_keep = []\n",
    "    for tnr in include_tnrs:\n",
    "        pattern_tnr = 'tnr' + str(tnr)\n",
    "        paths_keep.extend([p for p in paths if bool(re.search(pattern_tnr, os.path.split(p)[-1], re.IGNORECASE)) ] )\n",
    "    print('Following files will be included in main loop:')\n",
    "    for p in paths_keep: print(' '*3, p)\n",
    "elif n_random_tnrs > 0:\n",
    "    paths_keep = [paths[i] for i in np.random.randint(0, len(paths), n_random_tnrs)]\n",
    "    for p in paths_keep: print(' '*3, p)\n",
    "else:\n",
    "    paths_keep = paths.copy()"
   ]
  },
  {
   "cell_type": "markdown",
   "metadata": {},
   "source": [
    "#### Run main loop\n",
    "* Load channels and crowns\n",
    "* Filter crowns features according to `kkl, min_brightest_light, eccentricity and equivalent_diameter_area`\n",
    "* Filter polygons\n",
    "* Convert filtered polygons to label_image/mask\n",
    "* Assign vegetation index values of all pixels in mask"
   ]
  },
  {
   "cell_type": "code",
   "execution_count": 60,
   "metadata": {},
   "outputs": [
    {
     "name": "stderr",
     "output_type": "stream",
     "text": [
      "100%|██████████| 128/128 [00:58<00:00,  2.18it/s]"
     ]
    },
    {
     "name": "stdout",
     "output_type": "stream",
     "text": [
      "\n",
      "Done!\n",
      "2 exceptions occured\n"
     ]
    },
    {
     "name": "stderr",
     "output_type": "stream",
     "text": [
      "\n"
     ]
    }
   ],
   "source": [
    "exception_traceback = []\n",
    "\n",
    "vi = np.zeros((0, len(vi_names)), dtype = np.float32)\n",
    "\n",
    "for path in tqdm(paths_keep):\n",
    "    \n",
    "    try:\n",
    "        \n",
    "        ################# [1] Load channels and crowns group from hdf5\n",
    "        data, params_data = io.load_hdf5(path, groups = ['channels', 'crowns_human'])\n",
    "\n",
    "        # Channels\n",
    "        channels, params_channels = data['channels'].copy(), params_data['channels'].copy()\n",
    "        transformations.channels_extend(channels)\n",
    "        \n",
    "        # Crowns\n",
    "        crowns_human, params_crowns_human = data['crowns_human'].copy(), params_data['crowns_human'].copy()\n",
    "        \n",
    "        del data, params_data\n",
    "\n",
    "        ################# [2] Filter crowns features\n",
    "        # Get combined features\n",
    "        features = pd.merge(\n",
    "            left = pd.DataFrame(crowns_human['features']['terrestrial']),\n",
    "            right = pd.DataFrame(crowns_human['features']['photometric']),\n",
    "            on = ['id'],\n",
    "            how = 'inner',\n",
    "        )\n",
    "\n",
    "        # Define query\n",
    "        query_str = 'kkl in [1,2,3]'\n",
    "        # query_str += ' and min_brightest_light > 1.e-2'\n",
    "        query_str += ' and eccentricity > 0'\n",
    "        query_str += ' and eccentricity < 1'\n",
    "        query_str += ' and equivalent_diameter_area > 1'\n",
    "        \n",
    "        # These are the valid ids\n",
    "        ids = features.query(query_str)['id'].values\n",
    "\n",
    "        ################# [3] Filter polygons\n",
    "        polys = {}\n",
    "        for id in ids:\n",
    "            polys[id] = crowns_human['polygons'][id].copy()\n",
    "\n",
    "        ################# [4] Convert filtered polygons to label_image/mask\n",
    "        label_image = transformations.polygons_to_labelimage(\n",
    "            polys,\n",
    "            params_crowns_human['shape'],\n",
    "        )\n",
    "        mask = label_image.copy()\n",
    "        mask[mask > 0] = 1\n",
    "        mask = mask.astype(np.bool_)\n",
    "\n",
    "        ################# [5] Assign vegetation index values of all pixels in mask to vi array\n",
    "        \n",
    "        # Init current array that holds vegetation indices\n",
    "        vi_current = np.zeros((np.sum(mask), len(vi_names)), dtype = np.float32)\n",
    "        \n",
    "        # Assign channels in-mask pixels to current array\n",
    "        for i, name in enumerate(vi_names):\n",
    "            vi_current[:, i] = channels[name][mask]\n",
    "        \n",
    "        # Concatenate current array to array of all tnrs\n",
    "        vi = np.concatenate([vi, vi_current], axis=0)\n",
    "\n",
    "    except:\n",
    "            exception_traceback.append({\n",
    "                'path': path,\n",
    "                'traceback': traceback.format_exc(),\n",
    "                })\n",
    "\n",
    "\n",
    "# Save exceptions in .yaml\n",
    "# io.list_of_dicts_to_yaml(\n",
    "#     path = os.path.join(dir_name_hdf5, f\"{transformations.current_datetime()}_batch_update_crowns_human.yaml\"),\n",
    "#     list_of_dicts = exception_traceback,\n",
    "#     )\n",
    "\n",
    "print()\n",
    "print('Done!')\n",
    "print(f\"{len(exception_traceback)} exceptions occured\")"
   ]
  },
  {
   "cell_type": "markdown",
   "metadata": {},
   "source": [
    "#### Print exceptions"
   ]
  },
  {
   "cell_type": "code",
   "execution_count": 5,
   "metadata": {},
   "outputs": [],
   "source": [
    "for e in exception_traceback:\n",
    "    print(e['path'])\n",
    "    print('-->', e['traceback'])"
   ]
  },
  {
   "cell_type": "markdown",
   "metadata": {},
   "source": [
    "### Plotting"
   ]
  },
  {
   "cell_type": "code",
   "execution_count": 77,
   "metadata": {},
   "outputs": [
    {
     "name": "stderr",
     "output_type": "stream",
     "text": [
      "C:\\Users\\flori\\AppData\\Local\\Temp\\ipykernel_4616\\1012074917.py:23: RuntimeWarning: divide by zero encountered in log\n",
      "  H = np.log(H.T)\n"
     ]
    },
    {
     "data": {
      "image/png": "[encoded data removed]",
      "text/plain": [
       "<Figure size 450x450 with 2 Axes>"
      ]
     },
     "metadata": {
      "needs_background": "light"
     },
     "output_type": "display_data"
    }
   ],
   "source": [
    "bins = 200\n",
    "\n",
    "# x_name = 'ndvi'\n",
    "# x_name = 'ndvire'\n",
    "x_name = 'ndre'\n",
    "# x_name = 'grvi'\n",
    "\n",
    "# y_name = 'ndvi'\n",
    "# y_name = 'ndvire'\n",
    "# y_name = 'ndre'\n",
    "# y_name = 'grvi'\n",
    "y_name = 'chm'\n",
    "\n",
    "x = vi[:, vi_names.index(x_name)]\n",
    "y = vi[:, vi_names.index(y_name)]\n",
    "\n",
    "H, xedges, yedges = np.histogram2d(\n",
    "    x,\n",
    "    y,\n",
    "    bins = [bins, bins],\n",
    "    range = [[-1,1], [0,40]],\n",
    ")\n",
    "H = np.log(H.T)\n",
    "\n",
    "f = plt.figure(figsize=[3,3])\n",
    "ax = f.add_subplot()\n",
    "\n",
    "mapp = plt.imshow(\n",
    "    H,\n",
    "    interpolation='nearest',\n",
    "    origin='lower',\n",
    "    extent=[xedges[0], xedges[-1], yedges[0], yedges[-1]],\n",
    "    vmin=3,\n",
    "    vmax=8,\n",
    "    aspect=5e-2,\n",
    "    )\n",
    "plt.colorbar(\n",
    "    mapp,\n",
    "    ax=ax,\n",
    "    shrink=0.8,\n",
    "    format=r'$10^{%i}$',\n",
    "    label='Occurences'\n",
    "    )\n",
    "\n",
    "ax.plot(\n",
    "    [xedges[0], xedges[-1]],\n",
    "    [yedges[0], yedges[-1]],\n",
    "    '--',\n",
    "    c='k',\n",
    "    lw=1,\n",
    ")\n",
    "ax.axhline(0, ls='--', c='k', lw=1)\n",
    "ax.axvline(0, ls='--', c='k', lw=1)\n",
    "\n",
    "_ = ax.set_xlabel(x_name.upper())\n",
    "_ = ax.set_xlim(xedges[0],xedges[1])\n",
    "_ = ax.set_xticks(np.linspace(xedges[0],xedges[-1],5))\n",
    "\n",
    "_ = ax.set_ylabel(y_name.upper())\n",
    "_ = ax.set_ylim(yedges[0],yedges[1])\n",
    "_ = ax.set_yticks(np.linspace(yedges[0],yedges[-1],5))\n"
   ]
  },
  {
   "cell_type": "code",
   "execution_count": 17,
   "metadata": {},
   "outputs": [
    {
     "data": {
      "image/png": "[encoded data removed]",
      "text/plain": [
       "<Figure size 450x450 with 1 Axes>"
      ]
     },
     "metadata": {
      "needs_background": "light"
     },
     "output_type": "display_data"
    }
   ],
   "source": [
    "bins = np.linspace(0, 1, 200)\n",
    "x_name = 'ndvi'\n",
    "# x_name = 'ndvire'\n",
    "# x_name = 'ndre'\n",
    "# x_name = 'grvi'\n",
    "# x_name = 'osavi'\n",
    "# x_name = 'light'\n",
    "\n",
    "# y_name = 'ndvi'\n",
    "y_name = 'ndvire'\n",
    "# y_name = 'ndre'\n",
    "# y_name = 'grvi'\n",
    "# y_name = 'osavi'\n",
    "# y_name = 'light'\n",
    "\n",
    "\n",
    "x = vi[:, vi_names.index(x_name)]\n",
    "y = vi[:, vi_names.index(y_name)]\n",
    "\n",
    "\n",
    "f = plt.figure(figsize=[3,3])\n",
    "ax = f.add_subplot()\n",
    "_ = ax.hist(\n",
    "    (x+y)/2,\n",
    "    bins=bins,\n",
    ")\n",
    "# ax.set_yscale('log')"
   ]
  }
 ],
 "metadata": {
  "kernelspec": {
   "display_name": "Python 3.9.7 ('findatree_v01')",
   "language": "python",
   "name": "python3"
  },
  "language_info": {
   "codemirror_mode": {
    "name": "ipython",
    "version": 3
   },
   "file_extension": ".py",
   "mimetype": "text/x-python",
   "name": "python",
   "nbconvert_exporter": "python",
   "pygments_lexer": "ipython3",
   "version": "3.9.7"
  },
  "orig_nbformat": 4,
  "vscode": {
   "interpreter": {
    "hash": "635c494a99b4919ffc46b3179c211e3df0819f0dc50ebdacd534597eabf9f7f9"
   }
  }
 },
 "nbformat": 4,
 "nbformat_minor": 2
}
