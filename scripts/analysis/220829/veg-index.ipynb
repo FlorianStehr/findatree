{
 "cells": [
  {
   "cell_type": "markdown",
   "metadata": {},
   "source": [
    "### Imports"
   ]
  },
  {
   "cell_type": "code",
   "execution_count": 1,
   "metadata": {},
   "outputs": [],
   "source": [
    "import os\n",
    "import numpy as np\n",
    "import pandas as pd\n",
    "import importlib\n",
    "import re\n",
    "\n",
    "import matplotlib.pyplot as plt\n",
    "\n",
    "import findatree.io as io\n",
    "import findatree.descriptions as descriptions\n",
    "\n",
    "plt.style.use(r'C:\\Repos\\findatree\\own.mplstyle')\n",
    "\n",
    "# Dictionaries: species_name to ba and vice versa\n",
    "species_id_to_name = descriptions.species_id_to_name()\n",
    "species_name_to_id = descriptions.species_name_to_id()"
   ]
  },
  {
   "cell_type": "markdown",
   "metadata": {},
   "source": [
    "### Definitions"
   ]
  },
  {
   "cell_type": "code",
   "execution_count": 2,
   "metadata": {},
   "outputs": [],
   "source": [
    "# Directory: Processed tnr%.hdf5s\n",
    "dir_hdf5 = r\"C:\\Data\\lwf\\processed\\2020\\hdf5\"\n",
    "\n",
    "# Directory: Plots\n",
    "dir_plots = r\"C:\\Data\\lwf\\analysis\\220825_veg-index\\plots\""
   ]
  },
  {
   "cell_type": "markdown",
   "metadata": {},
   "source": [
    "### Load crowns' features of all hdf5s\n",
    "* As pandas.DataFrame"
   ]
  },
  {
   "cell_type": "code",
   "execution_count": 3,
   "metadata": {},
   "outputs": [],
   "source": [
    "importlib.reload(io)\n",
    "\n",
    "df, params_df = io.allhdf5s_crowns_features_to_dataframe(dir_hdf5, crowns_type='crowns_human')\n",
    "\n",
    "# Replace inf values with nans\n",
    "df = df.where(df != np.inf, np.nan)"
   ]
  },
  {
   "cell_type": "markdown",
   "metadata": {},
   "source": [
    "### Assign families to crowns"
   ]
  },
  {
   "cell_type": "code",
   "execution_count": 4,
   "metadata": {},
   "outputs": [],
   "source": [
    "importlib.reload(descriptions)\n",
    "\n",
    "# Define families by patterns\n",
    "family_patterns = [\n",
    "    ' kiefer',\n",
    "    ' fichte',\n",
    "    'buche',\n",
    "    'eiche',\n",
    "]\n",
    "\n",
    "families = descriptions.species_groupby_families(family_patterns)\n",
    "family_ids = descriptions.species_id_to_family_id(df.ba.values, families)\n",
    "\n",
    "df = df.assign(\n",
    "    family = family_ids,\n",
    "    )"
   ]
  },
  {
   "cell_type": "markdown",
   "metadata": {},
   "source": [
    "### Infos"
   ]
  },
  {
   "cell_type": "markdown",
   "metadata": {},
   "source": [
    "#### Search: Pattern in column names"
   ]
  },
  {
   "cell_type": "code",
   "execution_count": 5,
   "metadata": {},
   "outputs": [
    {
     "name": "stdout",
     "output_type": "stream",
     "text": [
      "axis_minor_length\n",
      "min_chm\n",
      "min_light\n",
      "min_sat\n",
      "min_hue\n",
      "min_ndvi\n",
      "min_ndvire\n",
      "min_ndre\n",
      "min_grvi\n",
      "min_blue\n",
      "min_green\n",
      "min_red\n",
      "min_re\n",
      "min_nir\n",
      "min_gob\n",
      "min_rob\n",
      "min_reob\n",
      "min_nob\n",
      "x_min_bbox\n",
      "y_min_bbox\n",
      "min_bright_chm\n",
      "min_bright_light\n",
      "min_bright_sat\n",
      "min_bright_hue\n",
      "min_bright_ndvi\n",
      "min_bright_ndvire\n",
      "min_bright_ndre\n",
      "min_bright_grvi\n",
      "min_bright_blue\n",
      "min_bright_green\n",
      "min_bright_red\n",
      "min_bright_re\n",
      "min_bright_nir\n",
      "min_bright_gob\n",
      "min_bright_rob\n",
      "min_bright_reob\n",
      "min_bright_nob\n",
      "x_min_bbox_bright\n",
      "y_min_bbox_bright\n"
     ]
    }
   ],
   "source": [
    "pattern = 'min'\n",
    "\n",
    "cols = list(df.columns)\n",
    "for col in cols:\n",
    "    if bool(re.search(pattern, col, re.IGNORECASE)):\n",
    "        print(col)"
   ]
  },
  {
   "cell_type": "markdown",
   "metadata": {},
   "source": [
    "#### Info: Dataset"
   ]
  },
  {
   "cell_type": "code",
   "execution_count": 6,
   "metadata": {},
   "outputs": [
    {
     "name": "stdout",
     "output_type": "stream",
     "text": [
      "Total number of crowns        : 3895\n",
      "Mean number of crowns per tnr : 30.9\n",
      "__________________________________________________\n",
      "\n",
      "species_id| species_name                  | count\n",
      "--------------------------------------------------\n",
      "       134| Gemeine Kiefer                : 1544\n",
      "       118| Gemeine Fichte                : 945\n",
      "        20| Rotbuche                      : 448\n",
      "       100| Weißtanne                     : 207\n",
      "        48| Traubeneiche                  : 203\n",
      "       116| Europäische Lärche            : 117\n",
      "        51| Stieleiche                    : 93\n",
      "        10| Gemeine Birke                 : 44\n",
      "        22| Gemeine Esche                 : 43\n",
      "         7| Schwarzerle                   : 38\n",
      "        13| Hainbuche                     : 34\n",
      "       136| Douglasie                     : 33\n",
      "         5| Bergahorn                     : 23\n",
      "       129| Schwarzkiefer                 : 16\n",
      "        36| Kirsche                       : 15\n",
      "         1| Feldahorn                     : 14\n",
      "        68| Winterlinde                   : 13\n",
      "        53| Roteiche                      : 12\n",
      "        62| Weide                         : 11\n",
      "       117| Japanische Lärche             : 11\n",
      "        35| Aspe                          : 8\n",
      "        64| Vogelbeere                    : 7\n",
      "       133| Strobe                        : 4\n",
      "         4| Spitzahorn                    : 4\n",
      "        70| Bergulme                      : 3\n",
      "        38| Frühblühende Traubenkirsche   : 1\n",
      "        65| Speierling                    : 1\n",
      "        66| Elsbeere                      : 1\n",
      "       103| Küstentanne                   : 1\n",
      "        56| Robinie                       : 1\n",
      "__________________________________________________\n",
      "\n",
      " family_id| family_name                   | count | species_names\n",
      "--------------------------------------------------\n",
      "         0|  kiefer                       : 1544  | ['Gemeine Kiefer']\n",
      "         1|  fichte                       : 945   | ['Gemeine Fichte']\n",
      "         2| buche                         : 482   | ['Rotbuche', 'Hainbuche']\n",
      "         3| eiche                         : 308   | ['Trauben- oder Stieleiche', 'Traubeneiche', 'Stieleiche', 'Zerreiche', 'Roteiche']\n",
      "__________________________________________________\n"
     ]
    }
   ],
   "source": [
    "importlib.reload(descriptions)\n",
    "\n",
    "descriptions.print_summary(\n",
    "    df.tnr.values,\n",
    "    df.ba.values,\n",
    "    df.family.values,\n",
    "    families,\n",
    ")"
   ]
  },
  {
   "cell_type": "markdown",
   "metadata": {},
   "source": [
    "### Plotting"
   ]
  },
  {
   "cell_type": "markdown",
   "metadata": {},
   "source": [
    "#### Query & groupby: family, sst"
   ]
  },
  {
   "cell_type": "code",
   "execution_count": 7,
   "metadata": {},
   "outputs": [],
   "source": [
    "############## Define queries\n",
    "query_all = 'kkl in [1, 2, 3]'\n",
    "query_all += ' and equivalent_diameter_area > 1'\n",
    "query_all += ' and min_bright_ndre > 0'\n",
    "query_all += ' and eccentricity > 0'\n",
    "query_all += ' and eccentricity < 1'\n",
    "\n",
    "\n",
    "############### Column\n",
    "cols = [\n",
    "    'family', 'sst',\n",
    "    'median_bright_ndvi',\n",
    "    'median_bright_ndvire',\n",
    "    'median_bright_grvi',\n",
    "    'median_bright_ndre',\n",
    "]\n",
    "\n",
    "############### Groupby\n",
    "df_grouped = df.query(query_all).loc[:, cols].groupby(['family', 'sst']).describe()"
   ]
  },
  {
   "cell_type": "markdown",
   "metadata": {},
   "source": [
    "#### Plotting: Vegetation indices"
   ]
  },
  {
   "cell_type": "code",
   "execution_count": 13,
   "metadata": {},
   "outputs": [
    {
     "data": {
      "image/png": "[encoded data removed]",
      "text/plain": [
       "<Figure size 750x450 with 1 Axes>"
      ]
     },
     "metadata": {
      "needs_background": "light"
     },
     "output_type": "display_data"
    }
   ],
   "source": [
    "col = 'median_bright_ndre'\n",
    "statistics = 'mean'\n",
    "statistics_err = 'std'\n",
    "\n",
    "colors = ['k', 'r', 'b', 'magenta']\n",
    "\n",
    "save_name = col + '.svg'\n",
    "\n",
    "\n",
    "################### Plotting \n",
    "f = plt.figure(figsize= [5, 3])\n",
    "f.clear()\n",
    "f.subplots_adjust(bottom=0.2, top=0.8, left=0.2, right=0.7)\n",
    "ax = f.add_subplot(111)\n",
    "\n",
    "for i, (family_id, family) in enumerate(families.items()):\n",
    "\n",
    "    # y-data: Define\n",
    "    y = df_grouped.loc[(family_id, slice(None)), (col, statistics)].values\n",
    "    yerr = df_grouped.loc[(family_id, slice(None)), (col, statistics_err)].values\n",
    "\n",
    "    # y-data: Remove NaNs in case of single crown per family\n",
    "    y = y[np.isfinite(yerr)]\n",
    "    yerr = yerr[np.isfinite(yerr)]\n",
    "\n",
    "    # x-data & counts\n",
    "    x = range(len(y))\n",
    "    counts = df_grouped.loc[(family_id, slice(None)), (col, 'count')].values\n",
    "    counts = np.sum(counts)\n",
    "\n",
    "    ax.errorbar(\n",
    "        x,\n",
    "        y,\n",
    "        yerr,\n",
    "        label=family['family_name'].upper() + f\"(#{counts:.0f})\",\n",
    "        marker='o',\n",
    "        c=colors[i],\n",
    "        mec=colors[i],\n",
    "        mfc='none',\n",
    "        ms=6,\n",
    "        capsize=5,\n",
    "    )\n",
    "\n",
    "    ax.legend(loc='upper left', bbox_to_anchor=(1,1))\n",
    "    \n",
    "    ax.set_xlim(-0.5, 4.5)\n",
    "    ax.set_xticks(range(5))\n",
    "    ax.set_xlabel('SST')\n",
    "\n",
    "    ax.set_ylabel(col.upper())\n",
    "\n",
    "plt.savefig(os.path.join(dir_plots, save_name), transparent=True)"
   ]
  }
 ],
 "metadata": {
  "kernelspec": {
   "display_name": "Python 3.9.7 ('findatree_v01')",
   "language": "python",
   "name": "python3"
  },
  "language_info": {
   "codemirror_mode": {
    "name": "ipython",
    "version": 3
   },
   "file_extension": ".py",
   "mimetype": "text/x-python",
   "name": "python",
   "nbconvert_exporter": "python",
   "pygments_lexer": "ipython3",
   "version": "3.9.7"
  },
  "orig_nbformat": 4,
  "vscode": {
   "interpreter": {
    "hash": "635c494a99b4919ffc46b3179c211e3df0819f0dc50ebdacd534597eabf9f7f9"
   }
  }
 },
 "nbformat": 4,
 "nbformat_minor": 2
}
