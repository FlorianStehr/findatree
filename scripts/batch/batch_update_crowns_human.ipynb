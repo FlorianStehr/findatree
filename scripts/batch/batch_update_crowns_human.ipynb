{
 "cells": [
  {
   "cell_type": "markdown",
   "metadata": {},
   "source": [
    "### Imports"
   ]
  },
  {
   "cell_type": "code",
   "execution_count": 74,
   "metadata": {},
   "outputs": [],
   "source": [
    "import importlib\n",
    "import traceback\n",
    "import os\n",
    "import re\n",
    "from tqdm import tqdm\n",
    "\n",
    "import findatree.io as io\n",
    "import findatree.photometric as photometric\n",
    "import findatree.transformations as transformations\n",
    "\n",
    "_ = importlib.reload(io)\n",
    "_ = importlib.reload(photometric)\n",
    "_ = importlib.reload(transformations)"
   ]
  },
  {
   "cell_type": "markdown",
   "metadata": {},
   "source": [
    "### Definitions"
   ]
  },
  {
   "cell_type": "code",
   "execution_count": 75,
   "metadata": {},
   "outputs": [],
   "source": [
    "# Define full paths to directories containing dtm, dsm, ortho and shape-files \n",
    "dir_names=[]\n",
    "dir_names.extend([r'C:\\Data\\lwf\\WZE-UAV-2020\\DSMs'])\n",
    "dir_names.extend([r'C:\\Data\\lwf\\WZE-UAV-2020\\DTMs'])\n",
    "dir_names.extend([r'C:\\Data\\lwf\\WZE-UAV-2020\\Orthos'])\n",
    "dir_names.extend([r'C:\\Data\\lwf\\WZE-UAV-2020\\Kronen'])\n",
    "\n",
    "# Define directories where return hdf5s are stored\n",
    "dir_hdf5 = r\"C:\\Data\\lwf\\processed\\2020\\hdf5\"\n",
    "\n",
    "# Optionally process only specific tnrs\n",
    "include_tnrs = [\n",
    "    11581,\n",
    "    11601,\n",
    "    12545,\n",
    "]"
   ]
  },
  {
   "cell_type": "markdown",
   "metadata": {},
   "source": [
    "### Processing"
   ]
  },
  {
   "cell_type": "markdown",
   "metadata": {},
   "source": [
    "#### Prepare main loop"
   ]
  },
  {
   "cell_type": "code",
   "execution_count": 71,
   "metadata": {},
   "outputs": [
    {
     "name": "stdout",
     "output_type": "stream",
     "text": [
      "Following files will be included in main loop:\n",
      "['C:\\\\Data\\\\lwf\\\\processed\\\\2020\\\\hdf5\\\\tnr11581.hdf5', 'C:\\\\Data\\\\lwf\\\\processed\\\\2020\\\\hdf5\\\\tnr11601.hdf5', 'C:\\\\Data\\\\lwf\\\\processed\\\\2020\\\\hdf5\\\\tnr12545.hdf5']\n"
     ]
    }
   ],
   "source": [
    "# Get all available tnr numbers in directory\n",
    "paths = [os.path.join(dir_hdf5, name) for name in os.listdir(dir_hdf5) if os.path.splitext(name)[-1] == '.hdf5']\n",
    "\n",
    "# Include only specified tnrs in main loop\n",
    "if len(include_tnrs) > 0:\n",
    "    paths_keep = []\n",
    "    for tnr in include_tnrs:\n",
    "        pattern_tnr = 'tnr' + str(tnr)\n",
    "        paths_keep.extend([p for p in paths if bool(re.search(pattern_tnr, os.path.split(p)[-1], re.IGNORECASE)) ] )\n",
    "    print('Following files will be included in main loop:')\n",
    "    print(paths_keep)\n",
    "else:\n",
    "    paths_keep = paths"
   ]
  },
  {
   "cell_type": "markdown",
   "metadata": {},
   "source": [
    "#### Run main loop"
   ]
  },
  {
   "cell_type": "code",
   "execution_count": 87,
   "metadata": {},
   "outputs": [
    {
     "name": "stderr",
     "output_type": "stream",
     "text": [
      "100%|██████████| 3/3 [00:01<00:00,  2.20it/s]"
     ]
    },
    {
     "name": "stdout",
     "output_type": "stream",
     "text": [
      "\n",
      "Done!\n",
      "2 exceptions occured\n"
     ]
    },
    {
     "name": "stderr",
     "output_type": "stream",
     "text": [
      "\n"
     ]
    }
   ],
   "source": [
    "exception_traceback = []\n",
    "\n",
    "for path in tqdm(paths_keep):\n",
    "    \n",
    "    try:\n",
    "        \n",
    "        ################# [1] Load channels and crowns group from hdf5\n",
    "        \n",
    "        data, params_data = io.load_hdf5(path, groups = ['channels'])\n",
    "        channels, params_channels = data['channels'].copy(), params_data['channels'].copy()\n",
    "        del data, params_data\n",
    "\n",
    "\n",
    "        ################# [2] Load and save shapefile to correct tnr and save in hdf5 under group 'crowns_human'\n",
    "        \n",
    "        crowns_human, params_crowns_human = io.load_shapefile(dir_names, params_channels, verbose=False)\n",
    "        photometric.crowns_add_features(\n",
    "            channels,\n",
    "            params_channels,\n",
    "            crowns_human,\n",
    "            params_crowns_human,\n",
    "        )\n",
    "        io.crowns_to_hdf5(crowns_human, params_crowns_human, dir_name = dir_hdf5)\n",
    "\n",
    "    except:\n",
    "        exception_traceback.append({\n",
    "            'path': path,\n",
    "            'traceback': traceback.format_exc(),\n",
    "            })\n",
    "\n",
    "\n",
    "print()\n",
    "print('Done!')\n",
    "print(f\"{len(exception_traceback)} exceptions occured\")"
   ]
  },
  {
   "cell_type": "code",
   "execution_count": 89,
   "metadata": {},
   "outputs": [
    {
     "name": "stdout",
     "output_type": "stream",
     "text": [
      "C:\\Data\\lwf\\processed\\2020\\hdf5\\tnr11581.hdf5\n",
      "--> Traceback (most recent call last):\n",
      "  File \"C:\\Users\\flori\\AppData\\Local\\Temp\\ipykernel_6540\\3651721285.py\", line 17, in <cell line: 3>\n",
      "    photometric.crowns_add_features(\n",
      "  File \"C:\\Repos\\findatree\\findatree\\photometric.py\", line 357, in crowns_add_features\n",
      "    labelimg = transformations.polygons_to_labelimage(crowns['polygons'], params_crowns['shape'])\n",
      "  File \"C:\\Repos\\findatree\\findatree\\transformations.py\", line 214, in polygons_to_labelimage\n",
      "    rasterio.features.rasterize(shapes, out = labelimg)\n",
      "  File \"c:\\Users\\flori\\Anaconda3\\envs\\findatree_v01\\lib\\site-packages\\rasterio\\env.py\", line 387, in wrapper\n",
      "    return f(*args, **kwds)\n",
      "  File \"c:\\Users\\flori\\Anaconda3\\envs\\findatree_v01\\lib\\site-packages\\rasterio\\features.py\", line 321, in rasterize\n",
      "    raise ValueError('No valid geometry objects found for rasterize')\n",
      "ValueError: No valid geometry objects found for rasterize\n",
      "\n",
      "C:\\Data\\lwf\\processed\\2020\\hdf5\\tnr11601.hdf5\n",
      "--> Traceback (most recent call last):\n",
      "  File \"C:\\Users\\flori\\AppData\\Local\\Temp\\ipykernel_6540\\3651721285.py\", line 17, in <cell line: 3>\n",
      "    photometric.crowns_add_features(\n",
      "  File \"C:\\Repos\\findatree\\findatree\\photometric.py\", line 357, in crowns_add_features\n",
      "    labelimg = transformations.polygons_to_labelimage(crowns['polygons'], params_crowns['shape'])\n",
      "  File \"C:\\Repos\\findatree\\findatree\\transformations.py\", line 214, in polygons_to_labelimage\n",
      "    rasterio.features.rasterize(shapes, out = labelimg)\n",
      "  File \"c:\\Users\\flori\\Anaconda3\\envs\\findatree_v01\\lib\\site-packages\\rasterio\\env.py\", line 387, in wrapper\n",
      "    return f(*args, **kwds)\n",
      "  File \"c:\\Users\\flori\\Anaconda3\\envs\\findatree_v01\\lib\\site-packages\\rasterio\\features.py\", line 321, in rasterize\n",
      "    raise ValueError('No valid geometry objects found for rasterize')\n",
      "ValueError: No valid geometry objects found for rasterize\n",
      "\n"
     ]
    }
   ],
   "source": [
    "for e in exception_traceback:\n",
    "    print(e['path'])\n",
    "    print('-->', e['traceback'])"
   ]
  }
 ],
 "metadata": {
  "kernelspec": {
   "display_name": "Python 3.9.7 ('findatree_v01')",
   "language": "python",
   "name": "python3"
  },
  "language_info": {
   "codemirror_mode": {
    "name": "ipython",
    "version": 3
   },
   "file_extension": ".py",
   "mimetype": "text/x-python",
   "name": "python",
   "nbconvert_exporter": "python",
   "pygments_lexer": "ipython3",
   "version": "3.9.7"
  },
  "orig_nbformat": 4,
  "vscode": {
   "interpreter": {
    "hash": "635c494a99b4919ffc46b3179c211e3df0819f0dc50ebdacd534597eabf9f7f9"
   }
  }
 },
 "nbformat": 4,
 "nbformat_minor": 2
}
