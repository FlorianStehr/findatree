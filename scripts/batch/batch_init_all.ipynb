{
 "cells": [
  {
   "cell_type": "markdown",
   "metadata": {},
   "source": [
    "### Imports"
   ]
  },
  {
   "cell_type": "code",
   "execution_count": 1,
   "metadata": {},
   "outputs": [
    {
     "data": {
      "text/plain": [
       "<module 'findatree.photometric' from 'C:\\\\Repos\\\\findatree\\\\findatree\\\\photometric.py'>"
      ]
     },
     "execution_count": 1,
     "metadata": {},
     "output_type": "execute_result"
    }
   ],
   "source": [
    "import importlib\n",
    "import os\n",
    "from tqdm import tqdm\n",
    "\n",
    "import findatree.io as io\n",
    "import findatree.transformations as transformations\n",
    "import findatree.interactive as interactive\n",
    "import findatree.geo_to_image as geo_to_image\n",
    "import findatree.segmentation as segmentation\n",
    "import findatree.photometric as photometric\n",
    "\n",
    "from bokeh.plotting import save\n",
    "from bokeh.io import output_file\n",
    "\n",
    "importlib.reload(io)\n",
    "importlib.reload(transformations)\n",
    "importlib.reload(interactive)\n",
    "importlib.reload(geo_to_image)\n",
    "importlib.reload(segmentation)\n",
    "importlib.reload(photometric)"
   ]
  },
  {
   "cell_type": "markdown",
   "metadata": {},
   "source": [
    "### Definitions"
   ]
  },
  {
   "cell_type": "code",
   "execution_count": 2,
   "metadata": {},
   "outputs": [],
   "source": [
    "# Define full paths to directories containing dsm, dtm, ortho and shape-files \n",
    "dir_names=[]\n",
    "dir_names.extend([r'C:\\Data\\lwf\\WZE-UAV-2020\\DSMs'])\n",
    "dir_names.extend([r'C:\\Data\\lwf\\WZE-UAV-2020\\DTMs'])\n",
    "dir_names.extend([r'C:\\Data\\lwf\\WZE-UAV-2020\\Orthos'])\n",
    "dir_names.extend([r'C:\\Data\\lwf\\WZE-UAV-2020\\Kronen'])\n",
    "\n",
    "# Define directories where return hdf5s and htmls are stored\n",
    "save_dir_hdf5 = r\"C:\\Data\\lwf\\processed\\2020\\hdf5\"\n",
    "save_dir_html = r\"C:\\Data\\lwf\\processed\\2020\\html\""
   ]
  },
  {
   "cell_type": "markdown",
   "metadata": {},
   "source": [
    "#### Processing"
   ]
  },
  {
   "cell_type": "markdown",
   "metadata": {},
   "source": [
    "#### Prepare main loop"
   ]
  },
  {
   "cell_type": "code",
   "execution_count": 16,
   "metadata": {},
   "outputs": [],
   "source": [
    "importlib.reload(io)\n",
    "\n",
    "# Get all available tnr numbers in directory\n",
    "tnrs = io.find_all_tnrs_in_dir(dir_names[0])\n",
    "\n",
    "# Init list of exceptions\n",
    "exception_list = []"
   ]
  },
  {
   "cell_type": "markdown",
   "metadata": {},
   "source": [
    "#### Run main loop"
   ]
  },
  {
   "cell_type": "code",
   "execution_count": 23,
   "metadata": {},
   "outputs": [
    {
     "name": "stderr",
     "output_type": "stream",
     "text": [
      "  0%|          | 0/261 [00:00<?, ?it/s]"
     ]
    },
    {
     "name": "stdout",
     "output_type": "stream",
     "text": [
      "\n",
      "Processing: tnr_11\n"
     ]
    },
    {
     "name": "stderr",
     "output_type": "stream",
     "text": [
      "100%|██████████| 8/8 [00:00<00:00, 21.78it/s]\n",
      "  0%|          | 1/261 [00:31<2:18:08, 31.88s/it]"
     ]
    },
    {
     "name": "stdout",
     "output_type": "stream",
     "text": [
      "\n",
      "Processing: tnr_35\n",
      "Warning: (tnr35) No file or more than one file with pattern `kr.shp` found in given directories\n",
      "Warning: (tnr35) No file or more than one file with pattern `kr.shp` found in given directories\n",
      "-> tnr_35: Exception during loading/saving of crowns_human\n"
     ]
    },
    {
     "name": "stderr",
     "output_type": "stream",
     "text": [
      "  1%|          | 2/261 [00:50<1:45:06, 24.35s/it]"
     ]
    },
    {
     "name": "stdout",
     "output_type": "stream",
     "text": [
      "\n",
      "Processing: tnr_73\n",
      "Warning: (tnr73) No file or more than one file with pattern `kr.shp` found in given directories\n",
      "Warning: (tnr73) No file or more than one file with pattern `kr.shp` found in given directories\n",
      "-> tnr_73: Exception during loading/saving of crowns_human\n"
     ]
    },
    {
     "name": "stderr",
     "output_type": "stream",
     "text": [
      "  1%|          | 3/261 [01:08<1:31:59, 21.39s/it]"
     ]
    },
    {
     "name": "stdout",
     "output_type": "stream",
     "text": [
      "\n",
      "Processing: tnr_75\n",
      "Warning: (tnr75) No file or more than one file with pattern `kr.shp` found in given directories\n",
      "Warning: (tnr75) No file or more than one file with pattern `kr.shp` found in given directories\n",
      "-> tnr_75: Exception during loading/saving of crowns_human\n"
     ]
    },
    {
     "name": "stderr",
     "output_type": "stream",
     "text": [
      "  2%|▏         | 4/261 [01:29<1:31:08, 21.28s/it]"
     ]
    },
    {
     "name": "stdout",
     "output_type": "stream",
     "text": [
      "\n",
      "Processing: tnr_79\n",
      "Warning: (tnr79) No file or more than one file with pattern `kr.shp` found in given directories\n",
      "Warning: (tnr79) No file or more than one file with pattern `kr.shp` found in given directories\n",
      "-> tnr_79: Exception during loading/saving of crowns_human\n"
     ]
    },
    {
     "name": "stderr",
     "output_type": "stream",
     "text": [
      "  2%|▏         | 5/261 [01:38<1:11:57, 16.86s/it]"
     ]
    },
    {
     "name": "stdout",
     "output_type": "stream",
     "text": [
      "\n",
      "Processing: tnr_84\n",
      "Warning: (tnr84) No file or more than one file with pattern `kr.shp` found in given directories\n",
      "Warning: (tnr84) No file or more than one file with pattern `kr.shp` found in given directories\n",
      "-> tnr_84: Exception during loading/saving of crowns_human\n"
     ]
    },
    {
     "name": "stderr",
     "output_type": "stream",
     "text": [
      "  2%|▏         | 6/261 [02:21<1:49:14, 25.71s/it]"
     ]
    },
    {
     "name": "stdout",
     "output_type": "stream",
     "text": [
      "\n",
      "Processing: tnr_86\n",
      "Warning: (tnr86) No file or more than one file with pattern `kr.shp` found in given directories\n",
      "Warning: (tnr86) No file or more than one file with pattern `kr.shp` found in given directories\n",
      "-> tnr_86: Exception during loading/saving of crowns_human\n"
     ]
    },
    {
     "name": "stderr",
     "output_type": "stream",
     "text": [
      "  3%|▎         | 7/261 [03:12<2:23:46, 33.96s/it]"
     ]
    },
    {
     "name": "stdout",
     "output_type": "stream",
     "text": [
      "\n",
      "Processing: tnr_171\n",
      "Warning: (tnr171) No file or more than one file with pattern `kr.shp` found in given directories\n",
      "Warning: (tnr171) No file or more than one file with pattern `kr.shp` found in given directories\n",
      "-> tnr_171: Exception during loading/saving of crowns_human\n"
     ]
    },
    {
     "name": "stderr",
     "output_type": "stream",
     "text": [
      "  3%|▎         | 8/261 [04:18<3:06:17, 44.18s/it]"
     ]
    },
    {
     "name": "stdout",
     "output_type": "stream",
     "text": [
      "\n",
      "Processing: tnr_174\n"
     ]
    },
    {
     "name": "stderr",
     "output_type": "stream",
     "text": [
      "100%|██████████| 34/34 [00:01<00:00, 18.11it/s]\n",
      "  3%|▎         | 9/261 [04:54<2:54:07, 41.46s/it]"
     ]
    },
    {
     "name": "stdout",
     "output_type": "stream",
     "text": [
      "\n",
      "Processing: tnr_176\n",
      "Warning: (tnr176) No file or more than one file with pattern `kr.shp` found in given directories\n",
      "Warning: (tnr176) No file or more than one file with pattern `kr.shp` found in given directories\n",
      "-> tnr_176: Exception during loading/saving of crowns_human\n"
     ]
    },
    {
     "name": "stderr",
     "output_type": "stream",
     "text": [
      "  4%|▍         | 10/261 [05:35<2:53:36, 41.50s/it]"
     ]
    },
    {
     "name": "stdout",
     "output_type": "stream",
     "text": [
      "\n",
      "Processing: tnr_182\n",
      "Warning: (tnr182) No file or more than one file with pattern `kr.shp` found in given directories\n",
      "Warning: (tnr182) No file or more than one file with pattern `kr.shp` found in given directories\n",
      "-> tnr_182: Exception during loading/saving of crowns_human\n"
     ]
    },
    {
     "name": "stderr",
     "output_type": "stream",
     "text": [
      "  4%|▍         | 11/261 [06:27<3:05:54, 44.62s/it]"
     ]
    },
    {
     "name": "stdout",
     "output_type": "stream",
     "text": [
      "\n",
      "Processing: tnr_184\n",
      "Warning: (tnr184) No file or more than one file with pattern `kr.shp` found in given directories\n",
      "Warning: (tnr184) No file or more than one file with pattern `kr.shp` found in given directories\n",
      "-> tnr_184: Exception during loading/saving of crowns_human\n"
     ]
    },
    {
     "name": "stderr",
     "output_type": "stream",
     "text": [
      "  5%|▍         | 12/261 [07:18<3:13:19, 46.59s/it]"
     ]
    },
    {
     "name": "stdout",
     "output_type": "stream",
     "text": [
      "\n",
      "Processing: tnr_185\n",
      "Warning: (tnr185) No file or more than one file with pattern `kr.shp` found in given directories\n",
      "Warning: (tnr185) No file or more than one file with pattern `kr.shp` found in given directories\n",
      "-> tnr_185: Exception during loading/saving of crowns_human\n"
     ]
    },
    {
     "name": "stderr",
     "output_type": "stream",
     "text": [
      "  5%|▍         | 13/261 [07:52<2:56:45, 42.76s/it]"
     ]
    },
    {
     "name": "stdout",
     "output_type": "stream",
     "text": [
      "\n",
      "Processing: tnr_188\n",
      "Warning: (tnr188) No file or more than one file with pattern `kr.shp` found in given directories\n",
      "Warning: (tnr188) No file or more than one file with pattern `kr.shp` found in given directories\n",
      "-> tnr_188: Exception during loading/saving of crowns_human\n"
     ]
    },
    {
     "name": "stderr",
     "output_type": "stream",
     "text": [
      "  5%|▌         | 14/261 [09:54<4:34:37, 66.71s/it]"
     ]
    },
    {
     "name": "stdout",
     "output_type": "stream",
     "text": [
      "\n",
      "Processing: tnr_190\n",
      "Warning: (tnr190) No file or more than one file with pattern `kr.shp` found in given directories\n",
      "Warning: (tnr190) No file or more than one file with pattern `kr.shp` found in given directories\n",
      "-> tnr_190: Exception during loading/saving of crowns_human\n"
     ]
    },
    {
     "name": "stderr",
     "output_type": "stream",
     "text": [
      "  6%|▌         | 15/261 [10:23<3:46:02, 55.13s/it]"
     ]
    },
    {
     "name": "stdout",
     "output_type": "stream",
     "text": [
      "\n",
      "Processing: tnr_192\n",
      "Warning: (tnr192) No file or more than one file with pattern `kr.shp` found in given directories\n",
      "Warning: (tnr192) No file or more than one file with pattern `kr.shp` found in given directories\n",
      "-> tnr_192: Exception during loading/saving of crowns_human\n"
     ]
    },
    {
     "name": "stderr",
     "output_type": "stream",
     "text": [
      "  6%|▌         | 16/261 [11:16<3:43:03, 54.63s/it]"
     ]
    },
    {
     "name": "stdout",
     "output_type": "stream",
     "text": [
      "\n",
      "Processing: tnr_194\n",
      "Warning: (tnr194) No file or more than one file with pattern `kr.shp` found in given directories\n",
      "Warning: (tnr194) No file or more than one file with pattern `kr.shp` found in given directories\n",
      "-> tnr_194: Exception during loading/saving of crowns_human\n"
     ]
    },
    {
     "name": "stderr",
     "output_type": "stream",
     "text": [
      "  7%|▋         | 17/261 [13:34<5:24:16, 79.74s/it]"
     ]
    },
    {
     "name": "stdout",
     "output_type": "stream",
     "text": [
      "\n",
      "Processing: tnr_196\n"
     ]
    },
    {
     "name": "stderr",
     "output_type": "stream",
     "text": [
      "100%|██████████| 31/31 [00:02<00:00, 12.28it/s]\n",
      "  7%|▋         | 18/261 [13:52<4:08:07, 61.27s/it]"
     ]
    },
    {
     "name": "stdout",
     "output_type": "stream",
     "text": [
      "\n",
      "Processing: tnr_200\n"
     ]
    },
    {
     "name": "stderr",
     "output_type": "stream",
     "text": [
      "100%|██████████| 53/53 [00:02<00:00, 19.77it/s]\n",
      "  7%|▋         | 19/261 [14:49<4:01:35, 59.90s/it]"
     ]
    },
    {
     "name": "stdout",
     "output_type": "stream",
     "text": [
      "\n",
      "Processing: tnr_460\n",
      "Warning: (tnr460) No file or more than one file with pattern `kr.shp` found in given directories\n",
      "Warning: (tnr460) No file or more than one file with pattern `kr.shp` found in given directories\n",
      "-> tnr_460: Exception during loading/saving of crowns_human\n"
     ]
    },
    {
     "name": "stderr",
     "output_type": "stream",
     "text": [
      "  8%|▊         | 20/261 [17:10<5:38:12, 84.20s/it]"
     ]
    },
    {
     "name": "stdout",
     "output_type": "stream",
     "text": [
      "\n",
      "Processing: tnr_462\n",
      "Warning: (tnr462) No file or more than one file with pattern `kr.shp` found in given directories\n",
      "Warning: (tnr462) No file or more than one file with pattern `kr.shp` found in given directories\n",
      "-> tnr_462: Exception during loading/saving of crowns_human\n"
     ]
    },
    {
     "name": "stderr",
     "output_type": "stream",
     "text": [
      "  8%|▊         | 21/261 [18:08<5:04:50, 76.21s/it]"
     ]
    },
    {
     "name": "stdout",
     "output_type": "stream",
     "text": [
      "\n",
      "Processing: tnr_477\n",
      "Warning: (tnr477) No file or more than one file with pattern `kr.shp` found in given directories\n",
      "Warning: (tnr477) No file or more than one file with pattern `kr.shp` found in given directories\n",
      "-> tnr_477: Exception during loading/saving of crowns_human\n"
     ]
    },
    {
     "name": "stderr",
     "output_type": "stream",
     "text": [
      "  8%|▊         | 22/261 [18:53<4:27:14, 67.09s/it]"
     ]
    },
    {
     "name": "stdout",
     "output_type": "stream",
     "text": [
      "\n",
      "Processing: tnr_479\n",
      "Warning: (tnr479) No file or more than one file with pattern `kr.shp` found in given directories\n",
      "Warning: (tnr479) No file or more than one file with pattern `kr.shp` found in given directories\n",
      "-> tnr_479: Exception during loading/saving of crowns_human\n"
     ]
    },
    {
     "name": "stderr",
     "output_type": "stream",
     "text": [
      "  9%|▉         | 23/261 [19:40<4:02:16, 61.08s/it]"
     ]
    },
    {
     "name": "stdout",
     "output_type": "stream",
     "text": [
      "\n",
      "Processing: tnr_485\n",
      "Warning: (tnr485) No file or more than one file with pattern `kr.shp` found in given directories\n",
      "Warning: (tnr485) No file or more than one file with pattern `kr.shp` found in given directories\n",
      "-> tnr_485: Exception during loading/saving of crowns_human\n"
     ]
    },
    {
     "name": "stderr",
     "output_type": "stream",
     "text": [
      "  9%|▉         | 24/261 [20:34<3:51:56, 58.72s/it]"
     ]
    },
    {
     "name": "stdout",
     "output_type": "stream",
     "text": [
      "\n",
      "Processing: tnr_489\n",
      "Warning: (tnr489) No file or more than one file with pattern `kr.shp` found in given directories\n",
      "Warning: (tnr489) No file or more than one file with pattern `kr.shp` found in given directories\n",
      "-> tnr_489: Exception during loading/saving of crowns_human\n"
     ]
    },
    {
     "name": "stderr",
     "output_type": "stream",
     "text": [
      " 10%|▉         | 25/261 [21:25<3:42:32, 56.58s/it]"
     ]
    },
    {
     "name": "stdout",
     "output_type": "stream",
     "text": [
      "\n",
      "Processing: tnr_879\n",
      "Warning: (tnr879) No file or more than one file with pattern `kr.shp` found in given directories\n",
      "Warning: (tnr879) No file or more than one file with pattern `kr.shp` found in given directories\n",
      "-> tnr_879: Exception during loading/saving of crowns_human\n"
     ]
    },
    {
     "name": "stderr",
     "output_type": "stream",
     "text": [
      " 10%|▉         | 26/261 [22:38<4:00:21, 61.37s/it]"
     ]
    },
    {
     "name": "stdout",
     "output_type": "stream",
     "text": [
      "\n",
      "Processing: tnr_1356\n",
      "Warning: (tnr1356) No file or more than one file with pattern `kr.shp` found in given directories\n",
      "Warning: (tnr1356) No file or more than one file with pattern `kr.shp` found in given directories\n",
      "-> tnr_1356: Exception during loading/saving of crowns_human\n"
     ]
    },
    {
     "name": "stderr",
     "output_type": "stream",
     "text": [
      " 10%|█         | 27/261 [24:22<4:48:57, 74.09s/it]"
     ]
    },
    {
     "name": "stdout",
     "output_type": "stream",
     "text": [
      "\n",
      "Processing: tnr_1381\n",
      "Warning: (tnr1381) No file or more than one file with pattern `kr.shp` found in given directories\n",
      "Warning: (tnr1381) No file or more than one file with pattern `kr.shp` found in given directories\n",
      "-> tnr_1381: Exception during loading/saving of crowns_human\n"
     ]
    },
    {
     "name": "stderr",
     "output_type": "stream",
     "text": [
      " 11%|█         | 28/261 [24:32<3:33:51, 55.07s/it]"
     ]
    },
    {
     "name": "stdout",
     "output_type": "stream",
     "text": [
      "\n",
      "Processing: tnr_1898\n",
      "Warning: (tnr1898) No file or more than one file with pattern `kr.shp` found in given directories\n",
      "Warning: (tnr1898) No file or more than one file with pattern `kr.shp` found in given directories\n",
      "-> tnr_1898: Exception during loading/saving of crowns_human\n"
     ]
    },
    {
     "name": "stderr",
     "output_type": "stream",
     "text": [
      " 11%|█         | 29/261 [25:32<3:38:50, 56.60s/it]"
     ]
    },
    {
     "name": "stdout",
     "output_type": "stream",
     "text": [
      "\n",
      "Processing: tnr_2386\n",
      "Warning: (tnr2386) No file or more than one file with pattern `kr.shp` found in given directories\n",
      "Warning: (tnr2386) No file or more than one file with pattern `kr.shp` found in given directories\n",
      "-> tnr_2386: Exception during loading/saving of crowns_human\n"
     ]
    },
    {
     "name": "stderr",
     "output_type": "stream",
     "text": [
      " 11%|█▏        | 30/261 [26:03<3:07:55, 48.81s/it]"
     ]
    },
    {
     "name": "stdout",
     "output_type": "stream",
     "text": [
      "\n",
      "Processing: tnr_2399\n",
      "Warning: (tnr2399) No file or more than one file with pattern `kr.shp` found in given directories\n",
      "Warning: (tnr2399) No file or more than one file with pattern `kr.shp` found in given directories\n",
      "-> tnr_2399: Exception during loading/saving of crowns_human\n"
     ]
    },
    {
     "name": "stderr",
     "output_type": "stream",
     "text": [
      " 12%|█▏        | 31/261 [27:55<4:20:04, 67.85s/it]"
     ]
    },
    {
     "name": "stdout",
     "output_type": "stream",
     "text": [
      "\n",
      "Processing: tnr_2411\n",
      "Warning: (tnr2411) No file or more than one file with pattern `kr.shp` found in given directories\n",
      "Warning: (tnr2411) No file or more than one file with pattern `kr.shp` found in given directories\n",
      "-> tnr_2411: Exception during loading/saving of crowns_human\n"
     ]
    },
    {
     "name": "stderr",
     "output_type": "stream",
     "text": [
      " 12%|█▏        | 32/261 [28:54<4:08:44, 65.17s/it]"
     ]
    },
    {
     "name": "stdout",
     "output_type": "stream",
     "text": [
      "\n",
      "Processing: tnr_2413\n",
      "Warning: (tnr2413) No file or more than one file with pattern `kr.shp` found in given directories\n",
      "Warning: (tnr2413) No file or more than one file with pattern `kr.shp` found in given directories\n",
      "-> tnr_2413: Exception during loading/saving of crowns_human\n"
     ]
    },
    {
     "name": "stderr",
     "output_type": "stream",
     "text": [
      " 13%|█▎        | 33/261 [30:10<4:19:43, 68.35s/it]"
     ]
    },
    {
     "name": "stdout",
     "output_type": "stream",
     "text": [
      "\n",
      "Processing: tnr_3398\n",
      "Warning: (tnr3398) No file or more than one file with pattern `kr.shp` found in given directories\n",
      "Warning: (tnr3398) No file or more than one file with pattern `kr.shp` found in given directories\n",
      "-> tnr_3398: Exception during loading/saving of crowns_human\n"
     ]
    },
    {
     "name": "stderr",
     "output_type": "stream",
     "text": [
      " 13%|█▎        | 34/261 [31:24<4:24:31, 69.92s/it]"
     ]
    },
    {
     "name": "stdout",
     "output_type": "stream",
     "text": [
      "\n",
      "Processing: tnr_3418\n",
      "Warning: (tnr3418) No file or more than one file with pattern `kr.shp` found in given directories\n",
      "Warning: (tnr3418) No file or more than one file with pattern `kr.shp` found in given directories\n",
      "-> tnr_3418: Exception during loading/saving of crowns_human\n"
     ]
    },
    {
     "name": "stderr",
     "output_type": "stream",
     "text": [
      " 13%|█▎        | 35/261 [32:37<4:27:37, 71.05s/it]"
     ]
    },
    {
     "name": "stdout",
     "output_type": "stream",
     "text": [
      "\n",
      "Processing: tnr_3430\n"
     ]
    },
    {
     "name": "stderr",
     "output_type": "stream",
     "text": [
      "100%|██████████| 40/40 [00:02<00:00, 19.00it/s]\n",
      " 14%|█▍        | 36/261 [33:52<4:30:19, 72.08s/it]"
     ]
    },
    {
     "name": "stdout",
     "output_type": "stream",
     "text": [
      "\n",
      "Processing: tnr_3930\n",
      "Warning: (tnr3930) No file or more than one file with pattern `kr.shp` found in given directories\n",
      "Warning: (tnr3930) No file or more than one file with pattern `kr.shp` found in given directories\n",
      "-> tnr_3930: Exception during loading/saving of crowns_human\n"
     ]
    },
    {
     "name": "stderr",
     "output_type": "stream",
     "text": [
      " 14%|█▍        | 37/261 [34:40<4:02:17, 64.90s/it]"
     ]
    },
    {
     "name": "stdout",
     "output_type": "stream",
     "text": [
      "\n",
      "Processing: tnr_4396\n",
      "Warning: (tnr4396) No file or more than one file with pattern `kr.shp` found in given directories\n",
      "Warning: (tnr4396) No file or more than one file with pattern `kr.shp` found in given directories\n",
      "-> tnr_4396: Exception during loading/saving of crowns_human\n"
     ]
    },
    {
     "name": "stderr",
     "output_type": "stream",
     "text": [
      " 15%|█▍        | 38/261 [36:16<4:35:37, 74.16s/it]"
     ]
    },
    {
     "name": "stdout",
     "output_type": "stream",
     "text": [
      "\n",
      "Processing: tnr_4412\n",
      "Warning: (tnr4412) No file or more than one file with pattern `kr.shp` found in given directories\n",
      "Warning: (tnr4412) No file or more than one file with pattern `kr.shp` found in given directories\n",
      "-> tnr_4412: Exception during loading/saving of crowns_human\n"
     ]
    },
    {
     "name": "stderr",
     "output_type": "stream",
     "text": [
      " 15%|█▍        | 39/261 [37:06<4:07:47, 66.97s/it]"
     ]
    },
    {
     "name": "stdout",
     "output_type": "stream",
     "text": [
      "\n",
      "Processing: tnr_4436\n",
      "Warning: (tnr4436) No file or more than one file with pattern `kr.shp` found in given directories\n",
      "Warning: (tnr4436) No file or more than one file with pattern `kr.shp` found in given directories\n",
      "-> tnr_4436: Exception during loading/saving of crowns_human\n"
     ]
    },
    {
     "name": "stderr",
     "output_type": "stream",
     "text": [
      " 15%|█▌        | 40/261 [37:47<3:37:38, 59.09s/it]"
     ]
    },
    {
     "name": "stdout",
     "output_type": "stream",
     "text": [
      "\n",
      "Processing: tnr_4444\n",
      "Warning: (tnr4444) No file or more than one file with pattern `kr.shp` found in given directories\n",
      "Warning: (tnr4444) No file or more than one file with pattern `kr.shp` found in given directories\n",
      "-> tnr_4444: Exception during loading/saving of crowns_human\n"
     ]
    },
    {
     "name": "stderr",
     "output_type": "stream",
     "text": [
      " 16%|█▌        | 41/261 [38:27<3:16:43, 53.65s/it]"
     ]
    },
    {
     "name": "stdout",
     "output_type": "stream",
     "text": [
      "\n",
      "Processing: tnr_5441\n",
      "Warning: (tnr5441) No file or more than one file with pattern `kr.shp` found in given directories\n",
      "Warning: (tnr5441) No file or more than one file with pattern `kr.shp` found in given directories\n",
      "-> tnr_5441: Exception during loading/saving of crowns_human\n"
     ]
    },
    {
     "name": "stderr",
     "output_type": "stream",
     "text": [
      " 16%|█▌        | 42/261 [39:14<3:08:03, 51.52s/it]"
     ]
    },
    {
     "name": "stdout",
     "output_type": "stream",
     "text": [
      "\n",
      "Processing: tnr_5449\n"
     ]
    },
    {
     "name": "stderr",
     "output_type": "stream",
     "text": [
      "100%|██████████| 39/39 [00:01<00:00, 23.11it/s]\n",
      " 16%|█▋        | 43/261 [39:46<2:45:27, 45.54s/it]"
     ]
    },
    {
     "name": "stdout",
     "output_type": "stream",
     "text": [
      "\n",
      "Processing: tnr_5930\n",
      "Warning: (tnr5930) No file or more than one file with pattern `kr.shp` found in given directories\n",
      "Warning: (tnr5930) No file or more than one file with pattern `kr.shp` found in given directories\n",
      "-> tnr_5930: Exception during loading/saving of crowns_human\n"
     ]
    },
    {
     "name": "stderr",
     "output_type": "stream",
     "text": [
      " 17%|█▋        | 44/261 [39:58<2:09:11, 35.72s/it]"
     ]
    },
    {
     "name": "stdout",
     "output_type": "stream",
     "text": [
      "\n",
      "Processing: tnr_5946\n",
      "Warning: (tnr5946) No file or more than one file with pattern `kr.shp` found in given directories\n",
      "Warning: (tnr5946) No file or more than one file with pattern `kr.shp` found in given directories\n",
      "-> tnr_5946: Exception during loading/saving of crowns_human\n"
     ]
    },
    {
     "name": "stderr",
     "output_type": "stream",
     "text": [
      " 17%|█▋        | 45/261 [40:05<1:36:47, 26.89s/it]"
     ]
    },
    {
     "name": "stdout",
     "output_type": "stream",
     "text": [
      "\n",
      "Processing: tnr_6430\n",
      "Warning: (tnr6430) No file or more than one file with pattern `kr.shp` found in given directories\n",
      "Warning: (tnr6430) No file or more than one file with pattern `kr.shp` found in given directories\n",
      "-> tnr_6430: Exception during loading/saving of crowns_human\n"
     ]
    },
    {
     "name": "stderr",
     "output_type": "stream",
     "text": [
      " 18%|█▊        | 46/261 [40:47<1:53:13, 31.60s/it]"
     ]
    },
    {
     "name": "stdout",
     "output_type": "stream",
     "text": [
      "\n",
      "Processing: tnr_6462\n"
     ]
    },
    {
     "name": "stderr",
     "output_type": "stream",
     "text": [
      "100%|██████████| 57/57 [00:02<00:00, 26.26it/s]\n",
      " 18%|█▊        | 47/261 [42:58<3:38:18, 61.21s/it]"
     ]
    },
    {
     "name": "stdout",
     "output_type": "stream",
     "text": [
      "\n",
      "Processing: tnr_6466\n",
      "Warning: (tnr6466) No file or more than one file with pattern `kr.shp` found in given directories\n",
      "Warning: (tnr6466) No file or more than one file with pattern `kr.shp` found in given directories\n",
      "-> tnr_6466: Exception during loading/saving of crowns_human\n"
     ]
    },
    {
     "name": "stderr",
     "output_type": "stream",
     "text": [
      " 18%|█▊        | 48/261 [45:01<4:43:15, 79.79s/it]"
     ]
    },
    {
     "name": "stdout",
     "output_type": "stream",
     "text": [
      "\n",
      "Processing: tnr_6468\n"
     ]
    },
    {
     "name": "stderr",
     "output_type": "stream",
     "text": [
      "100%|██████████| 50/50 [00:02<00:00, 23.86it/s]\n",
      " 19%|█▉        | 49/261 [46:13<4:34:27, 77.68s/it]"
     ]
    },
    {
     "name": "stdout",
     "output_type": "stream",
     "text": [
      "\n",
      "Processing: tnr_6470\n",
      "Warning: (tnr6470) No file or more than one file with pattern `kr.shp` found in given directories\n",
      "Warning: (tnr6470) No file or more than one file with pattern `kr.shp` found in given directories\n",
      "-> tnr_6470: Exception during loading/saving of crowns_human\n"
     ]
    },
    {
     "name": "stderr",
     "output_type": "stream",
     "text": [
      " 19%|█▉        | 50/261 [46:34<3:32:22, 60.39s/it]"
     ]
    },
    {
     "name": "stdout",
     "output_type": "stream",
     "text": [
      "\n",
      "Processing: tnr_6474\n",
      "Warning: (tnr6474) No file or more than one file with pattern `kr.shp` found in given directories\n",
      "Warning: (tnr6474) No file or more than one file with pattern `kr.shp` found in given directories\n",
      "-> tnr_6474: Exception during loading/saving of crowns_human\n"
     ]
    },
    {
     "name": "stderr",
     "output_type": "stream",
     "text": [
      " 20%|█▉        | 51/261 [46:56<2:51:52, 49.11s/it]"
     ]
    },
    {
     "name": "stdout",
     "output_type": "stream",
     "text": [
      "\n",
      "Processing: tnr_6478\n",
      "Warning: (tnr6478) No file or more than one file with pattern `kr.shp` found in given directories\n",
      "Warning: (tnr6478) No file or more than one file with pattern `kr.shp` found in given directories\n",
      "-> tnr_6478: Exception during loading/saving of crowns_human\n"
     ]
    },
    {
     "name": "stderr",
     "output_type": "stream",
     "text": [
      " 20%|█▉        | 52/261 [48:11<3:18:17, 56.93s/it]"
     ]
    },
    {
     "name": "stdout",
     "output_type": "stream",
     "text": [
      "\n",
      "Processing: tnr_6969\n",
      "Warning: (tnr6969) No file or more than one file with pattern `kr.shp` found in given directories\n",
      "Warning: (tnr6969) No file or more than one file with pattern `kr.shp` found in given directories\n",
      "-> tnr_6969: Exception during loading/saving of crowns_human\n"
     ]
    },
    {
     "name": "stderr",
     "output_type": "stream",
     "text": [
      " 20%|██        | 53/261 [48:50<2:58:12, 51.41s/it]"
     ]
    },
    {
     "name": "stdout",
     "output_type": "stream",
     "text": [
      "\n",
      "Processing: tnr_6971\n"
     ]
    },
    {
     "name": "stderr",
     "output_type": "stream",
     "text": [
      "100%|██████████| 7/7 [00:00<00:00, 33.42it/s]\n",
      " 21%|██        | 54/261 [48:59<2:13:25, 38.67s/it]"
     ]
    },
    {
     "name": "stdout",
     "output_type": "stream",
     "text": [
      "\n",
      "Processing: tnr_6977\n",
      "Warning: (tnr6977) No file or more than one file with pattern `kr.shp` found in given directories\n",
      "Warning: (tnr6977) No file or more than one file with pattern `kr.shp` found in given directories\n",
      "-> tnr_6977: Exception during loading/saving of crowns_human\n"
     ]
    },
    {
     "name": "stderr",
     "output_type": "stream",
     "text": [
      " 21%|██        | 55/261 [49:59<2:35:11, 45.20s/it]"
     ]
    },
    {
     "name": "stdout",
     "output_type": "stream",
     "text": [
      "\n",
      "Processing: tnr_7002\n"
     ]
    },
    {
     "name": "stderr",
     "output_type": "stream",
     "text": [
      "100%|██████████| 54/54 [00:02<00:00, 25.00it/s]\n",
      " 21%|██▏       | 56/261 [50:36<2:25:35, 42.61s/it]"
     ]
    },
    {
     "name": "stdout",
     "output_type": "stream",
     "text": [
      "\n",
      "Processing: tnr_7475\n",
      "Warning: (tnr7475) No file or more than one file with pattern `kr.shp` found in given directories\n",
      "Warning: (tnr7475) No file or more than one file with pattern `kr.shp` found in given directories\n",
      "-> tnr_7475: Exception during loading/saving of crowns_human\n"
     ]
    },
    {
     "name": "stderr",
     "output_type": "stream",
     "text": [
      " 22%|██▏       | 57/261 [50:47<1:52:57, 33.22s/it]"
     ]
    },
    {
     "name": "stdout",
     "output_type": "stream",
     "text": [
      "\n",
      "Processing: tnr_7511\n",
      "Warning: (tnr7511) No file or more than one file with pattern `kr.shp` found in given directories\n",
      "Warning: (tnr7511) No file or more than one file with pattern `kr.shp` found in given directories\n",
      "-> tnr_7511: Exception during loading/saving of crowns_human\n"
     ]
    },
    {
     "name": "stderr",
     "output_type": "stream",
     "text": [
      " 22%|██▏       | 58/261 [51:37<2:09:37, 38.31s/it]"
     ]
    },
    {
     "name": "stdout",
     "output_type": "stream",
     "text": [
      "\n",
      "Processing: tnr_7517\n"
     ]
    },
    {
     "name": "stderr",
     "output_type": "stream",
     "text": [
      "100%|██████████| 61/61 [00:02<00:00, 23.65it/s]\n",
      " 23%|██▎       | 59/261 [52:30<2:23:47, 42.71s/it]"
     ]
    },
    {
     "name": "stdout",
     "output_type": "stream",
     "text": [
      "\n",
      "Processing: tnr_7521\n",
      "Warning: (tnr7521) No file or more than one file with pattern `kr.shp` found in given directories\n",
      "Warning: (tnr7521) No file or more than one file with pattern `kr.shp` found in given directories\n",
      "-> tnr_7521: Exception during loading/saving of crowns_human\n"
     ]
    },
    {
     "name": "stderr",
     "output_type": "stream",
     "text": [
      " 23%|██▎       | 60/261 [53:13<2:22:40, 42.59s/it]"
     ]
    },
    {
     "name": "stdout",
     "output_type": "stream",
     "text": [
      "\n",
      "Processing: tnr_7525\n",
      "Warning: (tnr7525) No file or more than one file with pattern `kr.shp` found in given directories\n",
      "Warning: (tnr7525) No file or more than one file with pattern `kr.shp` found in given directories\n",
      "-> tnr_7525: Exception during loading/saving of crowns_human\n"
     ]
    },
    {
     "name": "stderr",
     "output_type": "stream",
     "text": [
      " 23%|██▎       | 61/261 [53:25<1:51:06, 33.33s/it]"
     ]
    },
    {
     "name": "stdout",
     "output_type": "stream",
     "text": [
      "\n",
      "Processing: tnr_8032\n"
     ]
    },
    {
     "name": "stderr",
     "output_type": "stream",
     "text": [
      "100%|██████████| 29/29 [00:01<00:00, 21.96it/s]\n",
      " 24%|██▍       | 62/261 [55:35<3:26:57, 62.40s/it]"
     ]
    },
    {
     "name": "stdout",
     "output_type": "stream",
     "text": [
      "\n",
      "Processing: tnr_8040\n"
     ]
    },
    {
     "name": "stderr",
     "output_type": "stream",
     "text": [
      "100%|██████████| 34/34 [00:01<00:00, 19.81it/s]\n",
      " 24%|██▍       | 63/261 [56:01<2:50:18, 51.61s/it]"
     ]
    },
    {
     "name": "stdout",
     "output_type": "stream",
     "text": [
      "\n",
      "Processing: tnr_8492\n",
      "Warning: (tnr8492) No file or more than one file with pattern `kr.shp` found in given directories\n",
      "Warning: (tnr8492) No file or more than one file with pattern `kr.shp` found in given directories\n",
      "-> tnr_8492: Exception during loading/saving of crowns_human\n"
     ]
    },
    {
     "name": "stderr",
     "output_type": "stream",
     "text": [
      " 25%|██▍       | 64/261 [57:05<3:01:47, 55.37s/it]"
     ]
    },
    {
     "name": "stdout",
     "output_type": "stream",
     "text": [
      "\n",
      "Processing: tnr_8494\n",
      "Warning: (tnr8494) No file or more than one file with pattern `kr.shp` found in given directories\n",
      "Warning: (tnr8494) No file or more than one file with pattern `kr.shp` found in given directories\n",
      "-> tnr_8494: Exception during loading/saving of crowns_human\n"
     ]
    },
    {
     "name": "stderr",
     "output_type": "stream",
     "text": [
      " 25%|██▍       | 65/261 [58:17<3:16:38, 60.20s/it]"
     ]
    },
    {
     "name": "stdout",
     "output_type": "stream",
     "text": [
      "\n",
      "Processing: tnr_8498\n",
      "Warning: (tnr8498) No file or more than one file with pattern `kr.shp` found in given directories\n",
      "Warning: (tnr8498) No file or more than one file with pattern `kr.shp` found in given directories\n",
      "-> tnr_8498: Exception during loading/saving of crowns_human\n"
     ]
    },
    {
     "name": "stderr",
     "output_type": "stream",
     "text": [
      " 25%|██▌       | 66/261 [59:30<3:28:36, 64.19s/it]"
     ]
    },
    {
     "name": "stdout",
     "output_type": "stream",
     "text": [
      "\n",
      "Processing: tnr_8532\n",
      "Warning: (tnr8532) No file or more than one file with pattern `kr.shp` found in given directories\n",
      "Warning: (tnr8532) No file or more than one file with pattern `kr.shp` found in given directories\n",
      "-> tnr_8532: Exception during loading/saving of crowns_human\n"
     ]
    },
    {
     "name": "stderr",
     "output_type": "stream",
     "text": [
      " 26%|██▌       | 67/261 [1:01:40<4:30:53, 83.78s/it]"
     ]
    },
    {
     "name": "stdout",
     "output_type": "stream",
     "text": [
      "\n",
      "Processing: tnr_8973\n",
      "Warning: (tnr8973) No file or more than one file with pattern `kr.shp` found in given directories\n",
      "Warning: (tnr8973) No file or more than one file with pattern `kr.shp` found in given directories\n",
      "-> tnr_8973: Exception during loading/saving of crowns_human\n"
     ]
    },
    {
     "name": "stderr",
     "output_type": "stream",
     "text": [
      " 26%|██▌       | 68/261 [1:02:40<4:06:52, 76.75s/it]"
     ]
    },
    {
     "name": "stdout",
     "output_type": "stream",
     "text": [
      "\n",
      "Processing: tnr_8979\n",
      "Warning: (tnr8979) No file or more than one file with pattern `kr.shp` found in given directories\n",
      "Warning: (tnr8979) No file or more than one file with pattern `kr.shp` found in given directories\n",
      "-> tnr_8979: Exception during loading/saving of crowns_human\n"
     ]
    },
    {
     "name": "stderr",
     "output_type": "stream",
     "text": [
      " 26%|██▋       | 69/261 [1:02:52<3:03:27, 57.33s/it]"
     ]
    },
    {
     "name": "stdout",
     "output_type": "stream",
     "text": [
      "\n",
      "Processing: tnr_8981\n",
      "Warning: (tnr8981) No file or more than one file with pattern `kr.shp` found in given directories\n",
      "Warning: (tnr8981) No file or more than one file with pattern `kr.shp` found in given directories\n",
      "-> tnr_8981: Exception during loading/saving of crowns_human\n"
     ]
    },
    {
     "name": "stderr",
     "output_type": "stream",
     "text": [
      " 27%|██▋       | 70/261 [1:03:38<2:51:56, 54.01s/it]"
     ]
    },
    {
     "name": "stdout",
     "output_type": "stream",
     "text": [
      "\n",
      "Processing: tnr_8989\n",
      "Warning: (tnr8989) No file or more than one file with pattern `kr.shp` found in given directories\n",
      "Warning: (tnr8989) No file or more than one file with pattern `kr.shp` found in given directories\n",
      "-> tnr_8989: Exception during loading/saving of crowns_human\n"
     ]
    },
    {
     "name": "stderr",
     "output_type": "stream",
     "text": [
      " 27%|██▋       | 71/261 [1:04:29<2:47:21, 52.85s/it]"
     ]
    },
    {
     "name": "stdout",
     "output_type": "stream",
     "text": [
      "\n",
      "Processing: tnr_9025\n",
      "Warning: (tnr9025) No file or more than one file with pattern `kr.shp` found in given directories\n",
      "Warning: (tnr9025) No file or more than one file with pattern `kr.shp` found in given directories\n",
      "-> tnr_9025: Exception during loading/saving of crowns_human\n"
     ]
    },
    {
     "name": "stderr",
     "output_type": "stream",
     "text": [
      " 28%|██▊       | 72/261 [1:04:44<2:10:50, 41.54s/it]"
     ]
    },
    {
     "name": "stdout",
     "output_type": "stream",
     "text": [
      "\n",
      "Processing: tnr_9464\n",
      "Warning: (tnr9464) No file or more than one file with pattern `kr.shp` found in given directories\n",
      "Warning: (tnr9464) No file or more than one file with pattern `kr.shp` found in given directories\n",
      "-> tnr_9464: Exception during loading/saving of crowns_human\n"
     ]
    },
    {
     "name": "stderr",
     "output_type": "stream",
     "text": [
      " 28%|██▊       | 73/261 [1:05:46<2:29:31, 47.72s/it]"
     ]
    },
    {
     "name": "stdout",
     "output_type": "stream",
     "text": [
      "\n",
      "Processing: tnr_9468\n",
      "Warning: (tnr9468) No file or more than one file with pattern `kr.shp` found in given directories\n",
      "Warning: (tnr9468) No file or more than one file with pattern `kr.shp` found in given directories\n",
      "-> tnr_9468: Exception during loading/saving of crowns_human\n"
     ]
    },
    {
     "name": "stderr",
     "output_type": "stream",
     "text": [
      " 28%|██▊       | 74/261 [1:08:21<4:08:56, 79.88s/it]"
     ]
    },
    {
     "name": "stdout",
     "output_type": "stream",
     "text": [
      "\n",
      "Processing: tnr_9472\n",
      "Warning: (tnr9472) No file or more than one file with pattern `kr.shp` found in given directories\n",
      "Warning: (tnr9472) No file or more than one file with pattern `kr.shp` found in given directories\n",
      "-> tnr_9472: Exception during loading/saving of crowns_human\n"
     ]
    },
    {
     "name": "stderr",
     "output_type": "stream",
     "text": [
      " 29%|██▊       | 75/261 [1:09:18<3:46:09, 72.95s/it]"
     ]
    },
    {
     "name": "stdout",
     "output_type": "stream",
     "text": [
      "\n",
      "Processing: tnr_9477\n",
      "Warning: (tnr9477) No file or more than one file with pattern `kr.shp` found in given directories\n",
      "Warning: (tnr9477) No file or more than one file with pattern `kr.shp` found in given directories\n",
      "-> tnr_9477: Exception during loading/saving of crowns_human\n"
     ]
    },
    {
     "name": "stderr",
     "output_type": "stream",
     "text": [
      " 29%|██▉       | 76/261 [1:10:04<3:20:25, 65.00s/it]"
     ]
    },
    {
     "name": "stdout",
     "output_type": "stream",
     "text": [
      "\n",
      "Processing: tnr_9479\n"
     ]
    },
    {
     "name": "stderr",
     "output_type": "stream",
     "text": [
      "100%|██████████| 31/31 [00:01<00:00, 22.01it/s]\n",
      " 30%|██▉       | 77/261 [1:11:10<3:19:51, 65.17s/it]"
     ]
    },
    {
     "name": "stdout",
     "output_type": "stream",
     "text": [
      "\n",
      "Processing: tnr_9489\n",
      "Warning: (tnr9489) No file or more than one file with pattern `kr.shp` found in given directories\n",
      "Warning: (tnr9489) No file or more than one file with pattern `kr.shp` found in given directories\n",
      "-> tnr_9489: Exception during loading/saving of crowns_human\n"
     ]
    },
    {
     "name": "stderr",
     "output_type": "stream",
     "text": [
      " 30%|██▉       | 78/261 [1:13:33<4:30:41, 88.75s/it]"
     ]
    },
    {
     "name": "stdout",
     "output_type": "stream",
     "text": [
      "\n",
      "Processing: tnr_9493\n",
      "Warning: (tnr9493) No file or more than one file with pattern `kr.shp` found in given directories\n",
      "Warning: (tnr9493) No file or more than one file with pattern `kr.shp` found in given directories\n",
      "-> tnr_9493: Exception during loading/saving of crowns_human\n"
     ]
    },
    {
     "name": "stderr",
     "output_type": "stream",
     "text": [
      " 30%|███       | 79/261 [1:14:23<3:53:34, 77.00s/it]"
     ]
    },
    {
     "name": "stdout",
     "output_type": "stream",
     "text": [
      "\n",
      "Processing: tnr_9509\n",
      "Warning: (tnr9509) No file or more than one file with pattern `kr.shp` found in given directories\n",
      "Warning: (tnr9509) No file or more than one file with pattern `kr.shp` found in given directories\n",
      "-> tnr_9509: Exception during loading/saving of crowns_human\n"
     ]
    },
    {
     "name": "stderr",
     "output_type": "stream",
     "text": [
      " 31%|███       | 80/261 [1:15:10<3:25:19, 68.06s/it]"
     ]
    },
    {
     "name": "stdout",
     "output_type": "stream",
     "text": [
      "\n",
      "Processing: tnr_9515\n",
      "Warning: (tnr9515) No file or more than one file with pattern `kr.shp` found in given directories\n",
      "Warning: (tnr9515) No file or more than one file with pattern `kr.shp` found in given directories\n",
      "-> tnr_9515: Exception during loading/saving of crowns_human\n"
     ]
    },
    {
     "name": "stderr",
     "output_type": "stream",
     "text": [
      " 31%|███       | 81/261 [1:15:58<3:05:45, 61.92s/it]"
     ]
    },
    {
     "name": "stdout",
     "output_type": "stream",
     "text": [
      "\n",
      "Processing: tnr_9517\n",
      "Warning: (tnr9517) No file or more than one file with pattern `kr.shp` found in given directories\n",
      "Warning: (tnr9517) No file or more than one file with pattern `kr.shp` found in given directories\n",
      "-> tnr_9517: Exception during loading/saving of crowns_human\n"
     ]
    },
    {
     "name": "stderr",
     "output_type": "stream",
     "text": [
      " 31%|███▏      | 82/261 [1:16:47<2:53:02, 58.01s/it]"
     ]
    },
    {
     "name": "stdout",
     "output_type": "stream",
     "text": [
      "\n",
      "Processing: tnr_9948\n",
      "Warning: (tnr9948) No file or more than one file with pattern `kr.shp` found in given directories\n",
      "Warning: (tnr9948) No file or more than one file with pattern `kr.shp` found in given directories\n",
      "-> tnr_9948: Exception during loading/saving of crowns_human\n"
     ]
    },
    {
     "name": "stderr",
     "output_type": "stream",
     "text": [
      " 32%|███▏      | 83/261 [1:17:32<2:41:04, 54.29s/it]"
     ]
    },
    {
     "name": "stdout",
     "output_type": "stream",
     "text": [
      "\n",
      "Processing: tnr_9958\n",
      "Warning: (tnr9958) No file or more than one file with pattern `kr.shp` found in given directories\n",
      "Warning: (tnr9958) No file or more than one file with pattern `kr.shp` found in given directories\n",
      "-> tnr_9958: Exception during loading/saving of crowns_human\n"
     ]
    },
    {
     "name": "stderr",
     "output_type": "stream",
     "text": [
      " 32%|███▏      | 84/261 [1:18:37<2:49:11, 57.36s/it]"
     ]
    },
    {
     "name": "stdout",
     "output_type": "stream",
     "text": [
      "\n",
      "Processing: tnr_9966\n",
      "Warning: (tnr9966) No file or more than one file with pattern `kr.shp` found in given directories\n",
      "Warning: (tnr9966) No file or more than one file with pattern `kr.shp` found in given directories\n",
      "-> tnr_9966: Exception during loading/saving of crowns_human\n"
     ]
    },
    {
     "name": "stderr",
     "output_type": "stream",
     "text": [
      " 33%|███▎      | 85/261 [1:20:02<3:12:40, 65.68s/it]"
     ]
    },
    {
     "name": "stdout",
     "output_type": "stream",
     "text": [
      "\n",
      "Processing: tnr_9973\n",
      "Warning: (tnr9973) No file or more than one file with pattern `kr.shp` found in given directories\n",
      "Warning: (tnr9973) No file or more than one file with pattern `kr.shp` found in given directories\n",
      "-> tnr_9973: Exception during loading/saving of crowns_human\n"
     ]
    },
    {
     "name": "stderr",
     "output_type": "stream",
     "text": [
      " 33%|███▎      | 86/261 [1:20:46<2:53:02, 59.33s/it]"
     ]
    },
    {
     "name": "stdout",
     "output_type": "stream",
     "text": [
      "\n",
      "Processing: tnr_9976\n",
      "Warning: (tnr9976) No file or more than one file with pattern `kr.shp` found in given directories\n",
      "Warning: (tnr9976) No file or more than one file with pattern `kr.shp` found in given directories\n",
      "-> tnr_9976: Exception during loading/saving of crowns_human\n"
     ]
    },
    {
     "name": "stderr",
     "output_type": "stream",
     "text": [
      " 33%|███▎      | 87/261 [1:20:57<2:10:09, 44.88s/it]"
     ]
    },
    {
     "name": "stdout",
     "output_type": "stream",
     "text": [
      "\n",
      "Processing: tnr_9980\n",
      "Warning: (tnr9980) No file or more than one file with pattern `kr.shp` found in given directories\n",
      "Warning: (tnr9980) No file or more than one file with pattern `kr.shp` found in given directories\n",
      "-> tnr_9980: Exception during loading/saving of crowns_human\n"
     ]
    },
    {
     "name": "stderr",
     "output_type": "stream",
     "text": [
      " 34%|███▎      | 88/261 [1:23:14<3:28:24, 72.28s/it]"
     ]
    },
    {
     "name": "stdout",
     "output_type": "stream",
     "text": [
      "\n",
      "Processing: tnr_9984\n",
      "Warning: (tnr9984) No file or more than one file with pattern `kr.shp` found in given directories\n",
      "Warning: (tnr9984) No file or more than one file with pattern `kr.shp` found in given directories\n",
      "-> tnr_9984: Exception during loading/saving of crowns_human\n"
     ]
    },
    {
     "name": "stderr",
     "output_type": "stream",
     "text": [
      " 34%|███▍      | 89/261 [1:23:59<3:04:11, 64.25s/it]"
     ]
    },
    {
     "name": "stdout",
     "output_type": "stream",
     "text": [
      "\n",
      "Processing: tnr_9986\n",
      "Warning: (tnr9986) No file or more than one file with pattern `kr.shp` found in given directories\n",
      "Warning: (tnr9986) No file or more than one file with pattern `kr.shp` found in given directories\n",
      "-> tnr_9986: Exception during loading/saving of crowns_human\n"
     ]
    },
    {
     "name": "stderr",
     "output_type": "stream",
     "text": [
      " 34%|███▍      | 90/261 [1:25:51<3:43:22, 78.38s/it]"
     ]
    },
    {
     "name": "stdout",
     "output_type": "stream",
     "text": [
      "\n",
      "Processing: tnr_9988\n",
      "Warning: (tnr9988) No file or more than one file with pattern `kr.shp` found in given directories\n",
      "Warning: (tnr9988) No file or more than one file with pattern `kr.shp` found in given directories\n",
      "-> tnr_9988: Exception during loading/saving of crowns_human\n"
     ]
    },
    {
     "name": "stderr",
     "output_type": "stream",
     "text": [
      " 35%|███▍      | 91/261 [1:27:05<3:38:19, 77.05s/it]"
     ]
    },
    {
     "name": "stdout",
     "output_type": "stream",
     "text": [
      "\n",
      "Processing: tnr_9996\n",
      "Warning: (tnr9996) No file or more than one file with pattern `kr.shp` found in given directories\n",
      "Warning: (tnr9996) No file or more than one file with pattern `kr.shp` found in given directories\n",
      "-> tnr_9996: Exception during loading/saving of crowns_human\n"
     ]
    },
    {
     "name": "stderr",
     "output_type": "stream",
     "text": [
      " 35%|███▌      | 92/261 [1:28:13<3:30:11, 74.62s/it]"
     ]
    },
    {
     "name": "stdout",
     "output_type": "stream",
     "text": [
      "\n",
      "Processing: tnr_10527\n"
     ]
    },
    {
     "name": "stderr",
     "output_type": "stream",
     "text": [
      "100%|██████████| 26/26 [00:01<00:00, 22.02it/s]\n",
      " 36%|███▌      | 93/261 [1:28:29<2:39:33, 56.98s/it]"
     ]
    },
    {
     "name": "stdout",
     "output_type": "stream",
     "text": [
      "\n",
      "Processing: tnr_10533\n"
     ]
    },
    {
     "name": "stderr",
     "output_type": "stream",
     "text": [
      "100%|██████████| 45/45 [00:01<00:00, 26.45it/s]\n",
      " 36%|███▌      | 94/261 [1:29:42<2:52:07, 61.84s/it]"
     ]
    },
    {
     "name": "stdout",
     "output_type": "stream",
     "text": [
      "\n",
      "Processing: tnr_10545\n"
     ]
    },
    {
     "name": "stderr",
     "output_type": "stream",
     "text": [
      "100%|██████████| 36/36 [00:01<00:00, 27.84it/s]\n",
      " 36%|███▋      | 95/261 [1:30:07<2:19:51, 50.55s/it]"
     ]
    },
    {
     "name": "stdout",
     "output_type": "stream",
     "text": [
      "\n",
      "Processing: tnr_10547\n"
     ]
    },
    {
     "name": "stderr",
     "output_type": "stream",
     "text": [
      "100%|██████████| 41/41 [00:01<00:00, 26.37it/s]\n",
      " 37%|███▋      | 96/261 [1:30:55<2:17:18, 49.93s/it]"
     ]
    },
    {
     "name": "stdout",
     "output_type": "stream",
     "text": [
      "\n",
      "Processing: tnr_10912\n"
     ]
    },
    {
     "name": "stderr",
     "output_type": "stream",
     "text": [
      "100%|██████████| 5/5 [00:00<00:00, 26.25it/s]\n",
      " 37%|███▋      | 97/261 [1:31:07<1:45:01, 38.42s/it]"
     ]
    },
    {
     "name": "stdout",
     "output_type": "stream",
     "text": [
      "\n",
      "Processing: tnr_11032\n"
     ]
    },
    {
     "name": "stderr",
     "output_type": "stream",
     "text": [
      "100%|██████████| 29/29 [00:00<00:00, 29.92it/s]\n",
      " 38%|███▊      | 98/261 [1:32:26<2:17:38, 50.67s/it]"
     ]
    },
    {
     "name": "stdout",
     "output_type": "stream",
     "text": [
      "\n",
      "Processing: tnr_11040\n"
     ]
    },
    {
     "name": "stderr",
     "output_type": "stream",
     "text": [
      "100%|██████████| 30/30 [00:01<00:00, 23.61it/s]\n",
      " 38%|███▊      | 99/261 [1:33:27<2:25:18, 53.82s/it]"
     ]
    },
    {
     "name": "stdout",
     "output_type": "stream",
     "text": [
      "\n",
      "Processing: tnr_11044\n"
     ]
    },
    {
     "name": "stderr",
     "output_type": "stream",
     "text": [
      "100%|██████████| 54/54 [00:02<00:00, 25.28it/s]\n",
      " 38%|███▊      | 100/261 [1:34:21<2:24:03, 53.69s/it]"
     ]
    },
    {
     "name": "stdout",
     "output_type": "stream",
     "text": [
      "\n",
      "Processing: tnr_11048\n"
     ]
    },
    {
     "name": "stderr",
     "output_type": "stream",
     "text": [
      "100%|██████████| 47/47 [00:01<00:00, 26.36it/s]\n",
      " 39%|███▊      | 101/261 [1:36:37<3:29:44, 78.65s/it]"
     ]
    },
    {
     "name": "stdout",
     "output_type": "stream",
     "text": [
      "\n",
      "Processing: tnr_11052\n"
     ]
    },
    {
     "name": "stderr",
     "output_type": "stream",
     "text": [
      "100%|██████████| 52/52 [00:01<00:00, 28.53it/s]\n",
      " 39%|███▉      | 102/261 [1:38:41<4:03:56, 92.05s/it]"
     ]
    },
    {
     "name": "stdout",
     "output_type": "stream",
     "text": [
      "\n",
      "Processing: tnr_11056\n"
     ]
    },
    {
     "name": "stderr",
     "output_type": "stream",
     "text": [
      "100%|██████████| 29/29 [00:01<00:00, 26.48it/s]\n",
      " 39%|███▉      | 103/261 [1:38:55<3:01:12, 68.82s/it]"
     ]
    },
    {
     "name": "stdout",
     "output_type": "stream",
     "text": [
      "\n",
      "Processing: tnr_11062\n",
      "Warning: (tnr11062) No file or more than one file with pattern `kr.shp` found in given directories\n",
      "Warning: (tnr11062) No file or more than one file with pattern `kr.shp` found in given directories\n",
      "-> tnr_11062: Exception during loading/saving of crowns_human\n"
     ]
    },
    {
     "name": "stderr",
     "output_type": "stream",
     "text": [
      " 40%|███▉      | 104/261 [1:39:13<2:19:53, 53.46s/it]"
     ]
    },
    {
     "name": "stdout",
     "output_type": "stream",
     "text": [
      "\n",
      "Processing: tnr_11068\n",
      "Warning: (tnr11068) No file or more than one file with pattern `kr.shp` found in given directories\n",
      "Warning: (tnr11068) No file or more than one file with pattern `kr.shp` found in given directories\n",
      "-> tnr_11068: Exception during loading/saving of crowns_human\n"
     ]
    },
    {
     "name": "stderr",
     "output_type": "stream",
     "text": [
      " 40%|████      | 105/261 [1:39:35<1:54:11, 43.92s/it]"
     ]
    },
    {
     "name": "stdout",
     "output_type": "stream",
     "text": [
      "\n",
      "Processing: tnr_11078\n"
     ]
    },
    {
     "name": "stderr",
     "output_type": "stream",
     "text": [
      "100%|██████████| 41/41 [00:01<00:00, 24.63it/s]\n",
      " 41%|████      | 106/261 [1:40:38<2:08:53, 49.89s/it]"
     ]
    },
    {
     "name": "stdout",
     "output_type": "stream",
     "text": [
      "\n",
      "Processing: tnr_11080\n"
     ]
    },
    {
     "name": "stderr",
     "output_type": "stream",
     "text": [
      "100%|██████████| 59/59 [00:03<00:00, 15.73it/s]\n",
      " 41%|████      | 107/261 [1:43:01<3:19:34, 77.76s/it]"
     ]
    },
    {
     "name": "stdout",
     "output_type": "stream",
     "text": [
      "\n",
      "Processing: tnr_11090\n"
     ]
    },
    {
     "name": "stderr",
     "output_type": "stream",
     "text": [
      "100%|██████████| 39/39 [00:02<00:00, 15.71it/s]\n",
      " 41%|████▏     | 108/261 [1:44:00<3:03:35, 72.00s/it]"
     ]
    },
    {
     "name": "stdout",
     "output_type": "stream",
     "text": [
      "\n",
      "Processing: tnr_11092\n"
     ]
    },
    {
     "name": "stderr",
     "output_type": "stream",
     "text": [
      "100%|██████████| 40/40 [00:01<00:00, 23.58it/s]\n",
      " 42%|████▏     | 109/261 [1:44:37<2:35:44, 61.48s/it]"
     ]
    },
    {
     "name": "stdout",
     "output_type": "stream",
     "text": [
      "\n",
      "Processing: tnr_11179\n"
     ]
    },
    {
     "name": "stderr",
     "output_type": "stream",
     "text": [
      "100%|██████████| 12/12 [00:00<00:00, 25.49it/s]\n",
      " 42%|████▏     | 110/261 [1:44:50<1:57:58, 46.88s/it]"
     ]
    },
    {
     "name": "stdout",
     "output_type": "stream",
     "text": [
      "\n",
      "Processing: tnr_11189\n"
     ]
    },
    {
     "name": "stderr",
     "output_type": "stream",
     "text": [
      "100%|██████████| 19/19 [00:00<00:00, 26.54it/s]\n",
      " 43%|████▎     | 111/261 [1:45:07<1:34:54, 37.97s/it]"
     ]
    },
    {
     "name": "stdout",
     "output_type": "stream",
     "text": [
      "\n",
      "Processing: tnr_11325\n"
     ]
    },
    {
     "name": "stderr",
     "output_type": "stream",
     "text": [
      "100%|██████████| 7/7 [00:00<00:00, 21.66it/s]\n",
      " 43%|████▎     | 112/261 [1:45:17<1:14:02, 29.81s/it]"
     ]
    },
    {
     "name": "stdout",
     "output_type": "stream",
     "text": [
      "\n",
      "Processing: tnr_11327\n"
     ]
    },
    {
     "name": "stderr",
     "output_type": "stream",
     "text": [
      "100%|██████████| 6/6 [00:00<00:00, 23.87it/s]\n",
      " 43%|████▎     | 113/261 [1:45:32<1:01:55, 25.11s/it]"
     ]
    },
    {
     "name": "stdout",
     "output_type": "stream",
     "text": [
      "\n",
      "Processing: tnr_11453\n"
     ]
    },
    {
     "name": "stderr",
     "output_type": "stream",
     "text": [
      "100%|██████████| 12/12 [00:00<00:00, 14.78it/s]\n",
      " 44%|████▎     | 114/261 [1:45:51<56:59, 23.26s/it]  "
     ]
    },
    {
     "name": "stdout",
     "output_type": "stream",
     "text": [
      "\n",
      "Processing: tnr_11459\n"
     ]
    },
    {
     "name": "stderr",
     "output_type": "stream",
     "text": [
      "100%|██████████| 13/13 [00:00<00:00, 17.98it/s]\n",
      " 44%|████▍     | 115/261 [1:46:08<52:33, 21.60s/it]"
     ]
    },
    {
     "name": "stdout",
     "output_type": "stream",
     "text": [
      "\n",
      "Processing: tnr_11576\n",
      "Warning: (tnr11576) No file or more than one file with pattern `kr.shp` found in given directories\n",
      "Warning: (tnr11576) No file or more than one file with pattern `kr.shp` found in given directories\n",
      "-> tnr_11576: Exception during loading/saving of crowns_human\n"
     ]
    },
    {
     "name": "stderr",
     "output_type": "stream",
     "text": [
      " 44%|████▍     | 116/261 [1:47:09<1:20:22, 33.26s/it]"
     ]
    },
    {
     "name": "stdout",
     "output_type": "stream",
     "text": [
      "\n",
      "Processing: tnr_11581\n",
      "-> tnr_11581: Exception during loading/saving of crowns_human\n"
     ]
    },
    {
     "name": "stderr",
     "output_type": "stream",
     "text": [
      " 45%|████▍     | 117/261 [1:47:44<1:20:58, 33.74s/it]"
     ]
    },
    {
     "name": "stdout",
     "output_type": "stream",
     "text": [
      "\n",
      "Processing: tnr_11597\n",
      "Warning: (tnr11597) No file or more than one file with pattern `kr.shp` found in given directories\n",
      "Warning: (tnr11597) No file or more than one file with pattern `kr.shp` found in given directories\n",
      "-> tnr_11597: Exception during loading/saving of crowns_human\n"
     ]
    },
    {
     "name": "stderr",
     "output_type": "stream",
     "text": [
      " 45%|████▌     | 118/261 [1:48:01<1:08:45, 28.85s/it]"
     ]
    },
    {
     "name": "stdout",
     "output_type": "stream",
     "text": [
      "\n",
      "Processing: tnr_11601\n",
      "-> tnr_11601: Exception during loading/saving of crowns_human\n"
     ]
    },
    {
     "name": "stderr",
     "output_type": "stream",
     "text": [
      " 46%|████▌     | 119/261 [1:49:09<1:36:01, 40.57s/it]"
     ]
    },
    {
     "name": "stdout",
     "output_type": "stream",
     "text": [
      "\n",
      "Processing: tnr_11610\n"
     ]
    },
    {
     "name": "stderr",
     "output_type": "stream",
     "text": [
      "100%|██████████| 11/11 [00:00<00:00, 25.07it/s]\n",
      " 46%|████▌     | 120/261 [1:49:22<1:16:15, 32.45s/it]"
     ]
    },
    {
     "name": "stdout",
     "output_type": "stream",
     "text": [
      "\n",
      "Processing: tnr_11612\n",
      "Warning: (tnr11612) No file or more than one file with pattern `kr.shp` found in given directories\n",
      "Warning: (tnr11612) No file or more than one file with pattern `kr.shp` found in given directories\n",
      "-> tnr_11612: Exception during loading/saving of crowns_human\n"
     ]
    },
    {
     "name": "stderr",
     "output_type": "stream",
     "text": [
      " 46%|████▋     | 121/261 [1:49:49<1:11:21, 30.58s/it]"
     ]
    },
    {
     "name": "stdout",
     "output_type": "stream",
     "text": [
      "\n",
      "Processing: tnr_11622\n"
     ]
    },
    {
     "name": "stderr",
     "output_type": "stream",
     "text": [
      "100%|██████████| 45/45 [00:02<00:00, 16.63it/s]\n",
      " 47%|████▋     | 122/261 [1:50:45<1:28:40, 38.28s/it]"
     ]
    },
    {
     "name": "stdout",
     "output_type": "stream",
     "text": [
      "\n",
      "Processing: tnr_11626\n"
     ]
    },
    {
     "name": "stderr",
     "output_type": "stream",
     "text": [
      "100%|██████████| 48/48 [00:02<00:00, 22.23it/s]\n",
      " 47%|████▋     | 123/261 [1:52:01<1:54:24, 49.75s/it]"
     ]
    },
    {
     "name": "stdout",
     "output_type": "stream",
     "text": [
      "\n",
      "Processing: tnr_11638\n"
     ]
    },
    {
     "name": "stderr",
     "output_type": "stream",
     "text": [
      "100%|██████████| 57/57 [00:03<00:00, 17.48it/s]\n",
      " 48%|████▊     | 124/261 [1:53:10<2:06:40, 55.47s/it]"
     ]
    },
    {
     "name": "stdout",
     "output_type": "stream",
     "text": [
      "\n",
      "Processing: tnr_11640\n"
     ]
    },
    {
     "name": "stderr",
     "output_type": "stream",
     "text": [
      "100%|██████████| 51/51 [00:02<00:00, 21.39it/s]\n",
      " 48%|████▊     | 125/261 [1:54:04<2:04:20, 54.86s/it]"
     ]
    },
    {
     "name": "stdout",
     "output_type": "stream",
     "text": [
      "\n",
      "Processing: tnr_11727\n"
     ]
    },
    {
     "name": "stderr",
     "output_type": "stream",
     "text": [
      "100%|██████████| 14/14 [00:00<00:00, 24.76it/s]\n",
      " 48%|████▊     | 126/261 [1:54:17<1:35:40, 42.53s/it]"
     ]
    },
    {
     "name": "stdout",
     "output_type": "stream",
     "text": [
      "\n",
      "Processing: tnr_11729\n"
     ]
    },
    {
     "name": "stderr",
     "output_type": "stream",
     "text": [
      "100%|██████████| 7/7 [00:00<00:00, 24.12it/s]\n",
      " 49%|████▊     | 127/261 [1:54:30<1:15:04, 33.61s/it]"
     ]
    },
    {
     "name": "stdout",
     "output_type": "stream",
     "text": [
      "\n",
      "Processing: tnr_11733\n"
     ]
    },
    {
     "name": "stderr",
     "output_type": "stream",
     "text": [
      "100%|██████████| 15/15 [00:00<00:00, 22.15it/s]\n",
      " 49%|████▉     | 128/261 [1:55:33<1:33:34, 42.22s/it]"
     ]
    },
    {
     "name": "stdout",
     "output_type": "stream",
     "text": [
      "\n",
      "Processing: tnr_11866\n"
     ]
    },
    {
     "name": "stderr",
     "output_type": "stream",
     "text": [
      "100%|██████████| 14/14 [00:00<00:00, 24.20it/s]\n",
      " 49%|████▉     | 129/261 [1:55:47<1:14:13, 33.74s/it]"
     ]
    },
    {
     "name": "stdout",
     "output_type": "stream",
     "text": [
      "\n",
      "Processing: tnr_11874\n"
     ]
    },
    {
     "name": "stderr",
     "output_type": "stream",
     "text": [
      "100%|██████████| 21/21 [00:01<00:00, 18.39it/s]\n",
      " 50%|████▉     | 130/261 [1:56:36<1:23:53, 38.43s/it]"
     ]
    },
    {
     "name": "stdout",
     "output_type": "stream",
     "text": [
      "\n",
      "Processing: tnr_11878\n"
     ]
    },
    {
     "name": "stderr",
     "output_type": "stream",
     "text": [
      "100%|██████████| 9/9 [00:00<00:00, 24.86it/s]\n",
      " 50%|█████     | 131/261 [1:56:51<1:08:25, 31.58s/it]"
     ]
    },
    {
     "name": "stdout",
     "output_type": "stream",
     "text": [
      "\n",
      "Processing: tnr_12013\n"
     ]
    },
    {
     "name": "stderr",
     "output_type": "stream",
     "text": [
      "100%|██████████| 6/6 [00:00<00:00, 14.67it/s]\n",
      " 51%|█████     | 132/261 [1:57:09<59:00, 27.44s/it]  "
     ]
    },
    {
     "name": "stdout",
     "output_type": "stream",
     "text": [
      "\n",
      "Processing: tnr_12019\n"
     ]
    },
    {
     "name": "stderr",
     "output_type": "stream",
     "text": [
      "100%|██████████| 12/12 [00:00<00:00, 26.86it/s]\n",
      " 51%|█████     | 133/261 [1:57:24<50:12, 23.54s/it]"
     ]
    },
    {
     "name": "stdout",
     "output_type": "stream",
     "text": [
      "\n",
      "Processing: tnr_12120\n"
     ]
    },
    {
     "name": "stderr",
     "output_type": "stream",
     "text": [
      "100%|██████████| 22/22 [00:01<00:00, 16.79it/s]\n",
      " 51%|█████▏    | 134/261 [1:57:53<53:40, 25.36s/it]"
     ]
    },
    {
     "name": "stdout",
     "output_type": "stream",
     "text": [
      "\n",
      "Processing: tnr_12124\n"
     ]
    },
    {
     "name": "stderr",
     "output_type": "stream",
     "text": [
      "100%|██████████| 45/45 [00:02<00:00, 17.86it/s]\n",
      " 52%|█████▏    | 135/261 [1:58:49<1:12:10, 34.37s/it]"
     ]
    },
    {
     "name": "stdout",
     "output_type": "stream",
     "text": [
      "\n",
      "Processing: tnr_12145\n"
     ]
    },
    {
     "name": "stderr",
     "output_type": "stream",
     "text": [
      "100%|██████████| 49/49 [00:02<00:00, 22.87it/s]\n",
      " 52%|█████▏    | 136/261 [2:01:37<2:35:07, 74.46s/it]"
     ]
    },
    {
     "name": "stdout",
     "output_type": "stream",
     "text": [
      "\n",
      "Processing: tnr_12153\n",
      "Warning: (tnr12153) No file or more than one file with pattern `kr.shp` found in given directories\n",
      "Warning: (tnr12153) No file or more than one file with pattern `kr.shp` found in given directories\n",
      "-> tnr_12153: Exception during loading/saving of crowns_human\n"
     ]
    },
    {
     "name": "stderr",
     "output_type": "stream",
     "text": [
      " 52%|█████▏    | 137/261 [2:03:48<3:09:23, 91.64s/it]"
     ]
    },
    {
     "name": "stdout",
     "output_type": "stream",
     "text": [
      "\n",
      "Processing: tnr_12161\n",
      "Warning: (tnr12161) No file or more than one file with pattern `kr.shp` found in given directories\n",
      "Warning: (tnr12161) No file or more than one file with pattern `kr.shp` found in given directories\n",
      "-> tnr_12161: Exception during loading/saving of crowns_human\n"
     ]
    },
    {
     "name": "stderr",
     "output_type": "stream",
     "text": [
      " 53%|█████▎    | 138/261 [2:04:03<2:20:39, 68.62s/it]"
     ]
    },
    {
     "name": "stdout",
     "output_type": "stream",
     "text": [
      "\n",
      "Processing: tnr_12169\n",
      "Warning: (tnr12169) No file or more than one file with pattern `kr.shp` found in given directories\n",
      "Warning: (tnr12169) No file or more than one file with pattern `kr.shp` found in given directories\n",
      "-> tnr_12169: Exception during loading/saving of crowns_human\n"
     ]
    },
    {
     "name": "stderr",
     "output_type": "stream",
     "text": [
      " 53%|█████▎    | 139/261 [2:05:09<2:17:40, 67.71s/it]"
     ]
    },
    {
     "name": "stdout",
     "output_type": "stream",
     "text": [
      "\n",
      "Processing: tnr_12179\n",
      "Warning: (tnr12179) No file or more than one file with pattern `kr.shp` found in given directories\n",
      "Warning: (tnr12179) No file or more than one file with pattern `kr.shp` found in given directories\n",
      "-> tnr_12179: Exception during loading/saving of crowns_human\n"
     ]
    },
    {
     "name": "stderr",
     "output_type": "stream",
     "text": [
      " 54%|█████▎    | 140/261 [2:06:07<2:10:28, 64.70s/it]"
     ]
    },
    {
     "name": "stdout",
     "output_type": "stream",
     "text": [
      "\n",
      "Processing: tnr_12277\n"
     ]
    },
    {
     "name": "stderr",
     "output_type": "stream",
     "text": [
      "100%|██████████| 9/9 [00:00<00:00, 24.59it/s]\n",
      " 54%|█████▍    | 141/261 [2:06:20<1:38:44, 49.37s/it]"
     ]
    },
    {
     "name": "stdout",
     "output_type": "stream",
     "text": [
      "\n",
      "Processing: tnr_12285\n"
     ]
    },
    {
     "name": "stderr",
     "output_type": "stream",
     "text": [
      "100%|██████████| 7/7 [00:00<00:00, 21.27it/s]\n",
      " 54%|█████▍    | 142/261 [2:06:35<1:17:22, 39.01s/it]"
     ]
    },
    {
     "name": "stdout",
     "output_type": "stream",
     "text": [
      "\n",
      "Processing: tnr_12426\n"
     ]
    },
    {
     "name": "stderr",
     "output_type": "stream",
     "text": [
      "100%|██████████| 9/9 [00:00<00:00, 23.38it/s]\n",
      " 55%|█████▍    | 143/261 [2:06:51<1:02:57, 32.01s/it]"
     ]
    },
    {
     "name": "stdout",
     "output_type": "stream",
     "text": [
      "\n",
      "Processing: tnr_12545\n"
     ]
    },
    {
     "name": "stderr",
     "output_type": "stream",
     "text": [
      "100%|██████████| 10/10 [00:00<00:00, 25.38it/s]\n"
     ]
    },
    {
     "name": "stdout",
     "output_type": "stream",
     "text": [
      "-> tnr_12545: Exception during loading/saving of crowns_human\n"
     ]
    },
    {
     "name": "stderr",
     "output_type": "stream",
     "text": [
      "BokehUserWarning: ColumnDataSource's columns must be of the same length. Current lengths: ('ba', 11), ('id', 10), ('xs', 11), ('ys', 11)\n",
      " 55%|█████▌    | 144/261 [2:07:03<51:01, 26.17s/it]  "
     ]
    },
    {
     "name": "stdout",
     "output_type": "stream",
     "text": [
      "\n",
      "Processing: tnr_12549\n"
     ]
    },
    {
     "name": "stderr",
     "output_type": "stream",
     "text": [
      "100%|██████████| 11/11 [00:00<00:00, 24.46it/s]\n",
      " 56%|█████▌    | 145/261 [2:07:17<43:21, 22.43s/it]"
     ]
    },
    {
     "name": "stdout",
     "output_type": "stream",
     "text": [
      "\n",
      "Processing: tnr_12551\n"
     ]
    },
    {
     "name": "stderr",
     "output_type": "stream",
     "text": [
      "100%|██████████| 14/14 [00:00<00:00, 23.09it/s]\n",
      " 56%|█████▌    | 146/261 [2:07:31<37:55, 19.79s/it]"
     ]
    },
    {
     "name": "stdout",
     "output_type": "stream",
     "text": [
      "\n",
      "Processing: tnr_12553\n"
     ]
    },
    {
     "name": "stderr",
     "output_type": "stream",
     "text": [
      "100%|██████████| 8/8 [00:00<00:00, 21.45it/s]\n",
      " 56%|█████▋    | 147/261 [2:09:59<1:51:05, 58.47s/it]"
     ]
    },
    {
     "name": "stdout",
     "output_type": "stream",
     "text": [
      "\n",
      "Processing: tnr_12557\n"
     ]
    },
    {
     "name": "stderr",
     "output_type": "stream",
     "text": [
      "100%|██████████| 10/10 [00:00<00:00, 21.89it/s]\n",
      " 57%|█████▋    | 148/261 [2:10:10<1:23:16, 44.21s/it]"
     ]
    },
    {
     "name": "stdout",
     "output_type": "stream",
     "text": [
      "\n",
      "Processing: tnr_12673\n"
     ]
    },
    {
     "name": "stderr",
     "output_type": "stream",
     "text": [
      "100%|██████████| 47/47 [00:02<00:00, 23.39it/s]\n",
      " 57%|█████▋    | 149/261 [2:11:41<1:48:40, 58.22s/it]"
     ]
    },
    {
     "name": "stdout",
     "output_type": "stream",
     "text": [
      "\n",
      "Processing: tnr_12678\n"
     ]
    },
    {
     "name": "stderr",
     "output_type": "stream",
     "text": [
      "100%|██████████| 46/46 [00:01<00:00, 24.84it/s]\n",
      " 57%|█████▋    | 150/261 [2:12:41<1:48:19, 58.56s/it]"
     ]
    },
    {
     "name": "stdout",
     "output_type": "stream",
     "text": [
      "\n",
      "Processing: tnr_12694\n",
      "Warning: (tnr12694) No file or more than one file with pattern `kr.shp` found in given directories\n",
      "Warning: (tnr12694) No file or more than one file with pattern `kr.shp` found in given directories\n",
      "-> tnr_12694: Exception during loading/saving of crowns_human\n"
     ]
    },
    {
     "name": "stderr",
     "output_type": "stream",
     "text": [
      " 58%|█████▊    | 151/261 [2:15:19<2:42:28, 88.62s/it]"
     ]
    },
    {
     "name": "stdout",
     "output_type": "stream",
     "text": [
      "\n",
      "Processing: tnr_12698\n"
     ]
    },
    {
     "name": "stderr",
     "output_type": "stream",
     "text": [
      "100%|██████████| 5/5 [00:00<00:00, 25.58it/s]\n",
      " 58%|█████▊    | 152/261 [2:15:32<1:59:27, 65.75s/it]"
     ]
    },
    {
     "name": "stdout",
     "output_type": "stream",
     "text": [
      "\n",
      "Processing: tnr_12702\n"
     ]
    },
    {
     "name": "stderr",
     "output_type": "stream",
     "text": [
      "100%|██████████| 55/55 [00:02<00:00, 24.72it/s]\n",
      " 59%|█████▊    | 153/261 [2:16:58<2:09:11, 71.78s/it]"
     ]
    },
    {
     "name": "stdout",
     "output_type": "stream",
     "text": [
      "\n",
      "Processing: tnr_12711\n",
      "Warning: (tnr12711) No file or more than one file with pattern `kr.shp` found in given directories\n",
      "Warning: (tnr12711) No file or more than one file with pattern `kr.shp` found in given directories\n",
      "-> tnr_12711: Exception during loading/saving of crowns_human\n"
     ]
    },
    {
     "name": "stderr",
     "output_type": "stream",
     "text": [
      " 59%|█████▉    | 154/261 [2:18:54<2:31:56, 85.20s/it]"
     ]
    },
    {
     "name": "stdout",
     "output_type": "stream",
     "text": [
      "\n",
      "Processing: tnr_12713\n"
     ]
    },
    {
     "name": "stderr",
     "output_type": "stream",
     "text": [
      "100%|██████████| 12/12 [00:00<00:00, 25.17it/s]\n",
      " 59%|█████▉    | 155/261 [2:19:31<2:05:07, 70.83s/it]"
     ]
    },
    {
     "name": "stdout",
     "output_type": "stream",
     "text": [
      "\n",
      "Processing: tnr_12715\n",
      "Warning: (tnr12715) No file or more than one file with pattern `kr.shp` found in given directories\n",
      "Warning: (tnr12715) No file or more than one file with pattern `kr.shp` found in given directories\n",
      "-> tnr_12715: Exception during loading/saving of crowns_human\n"
     ]
    },
    {
     "name": "stderr",
     "output_type": "stream",
     "text": [
      " 60%|█████▉    | 156/261 [2:21:42<2:35:31, 88.87s/it]"
     ]
    },
    {
     "name": "stdout",
     "output_type": "stream",
     "text": [
      "\n",
      "Processing: tnr_12717\n"
     ]
    },
    {
     "name": "stderr",
     "output_type": "stream",
     "text": [
      "100%|██████████| 55/55 [00:02<00:00, 24.08it/s]\n",
      " 60%|██████    | 157/261 [2:23:59<2:59:08, 103.35s/it]"
     ]
    },
    {
     "name": "stdout",
     "output_type": "stream",
     "text": [
      "\n",
      "Processing: tnr_12719\n"
     ]
    },
    {
     "name": "stderr",
     "output_type": "stream",
     "text": [
      "100%|██████████| 34/34 [00:01<00:00, 26.37it/s]\n",
      " 61%|██████    | 158/261 [2:24:25<2:17:06, 79.87s/it] "
     ]
    },
    {
     "name": "stdout",
     "output_type": "stream",
     "text": [
      "\n",
      "Processing: tnr_12820\n"
     ]
    },
    {
     "name": "stderr",
     "output_type": "stream",
     "text": [
      "100%|██████████| 8/8 [00:00<00:00, 30.97it/s]\n",
      " 61%|██████    | 159/261 [2:24:37<1:41:19, 59.60s/it]"
     ]
    },
    {
     "name": "stdout",
     "output_type": "stream",
     "text": [
      "\n",
      "Processing: tnr_12950\n"
     ]
    },
    {
     "name": "stderr",
     "output_type": "stream",
     "text": [
      "100%|██████████| 15/15 [00:00<00:00, 27.80it/s]\n",
      " 61%|██████▏   | 160/261 [2:24:53<1:18:24, 46.58s/it]"
     ]
    },
    {
     "name": "stdout",
     "output_type": "stream",
     "text": [
      "\n",
      "Processing: tnr_12960\n"
     ]
    },
    {
     "name": "stderr",
     "output_type": "stream",
     "text": [
      "100%|██████████| 7/7 [00:00<00:00, 24.98it/s]\n",
      " 62%|██████▏   | 161/261 [2:25:04<59:51, 35.91s/it]  "
     ]
    },
    {
     "name": "stdout",
     "output_type": "stream",
     "text": [
      "\n",
      "Processing: tnr_13212\n",
      "Warning: (tnr13212) No file or more than one file with pattern `kr.shp` found in given directories\n",
      "Warning: (tnr13212) No file or more than one file with pattern `kr.shp` found in given directories\n",
      "-> tnr_13212: Exception during loading/saving of crowns_human\n"
     ]
    },
    {
     "name": "stderr",
     "output_type": "stream",
     "text": [
      " 62%|██████▏   | 162/261 [2:25:59<1:08:49, 41.71s/it]"
     ]
    },
    {
     "name": "stdout",
     "output_type": "stream",
     "text": [
      "\n",
      "Processing: tnr_13225\n"
     ]
    },
    {
     "name": "stderr",
     "output_type": "stream",
     "text": [
      "100%|██████████| 67/67 [00:02<00:00, 23.13it/s]\n",
      " 62%|██████▏   | 163/261 [2:27:27<1:30:51, 55.63s/it]"
     ]
    },
    {
     "name": "stdout",
     "output_type": "stream",
     "text": [
      "\n",
      "Processing: tnr_13229\n",
      "Warning: (tnr13229) No file or more than one file with pattern `kr.shp` found in given directories\n",
      "Warning: (tnr13229) No file or more than one file with pattern `kr.shp` found in given directories\n",
      "-> tnr_13229: Exception during loading/saving of crowns_human\n"
     ]
    },
    {
     "name": "stderr",
     "output_type": "stream",
     "text": [
      " 63%|██████▎   | 164/261 [2:27:40<1:08:57, 42.65s/it]"
     ]
    },
    {
     "name": "stdout",
     "output_type": "stream",
     "text": [
      "\n",
      "Processing: tnr_13233\n"
     ]
    },
    {
     "name": "stderr",
     "output_type": "stream",
     "text": [
      "100%|██████████| 46/46 [00:01<00:00, 27.25it/s]\n",
      " 63%|██████▎   | 165/261 [2:29:53<1:51:56, 69.97s/it]"
     ]
    },
    {
     "name": "stdout",
     "output_type": "stream",
     "text": [
      "\n",
      "Processing: tnr_13247\n"
     ]
    },
    {
     "name": "stderr",
     "output_type": "stream",
     "text": [
      "100%|██████████| 6/6 [00:00<00:00, 24.49it/s]\n",
      " 64%|██████▎   | 166/261 [2:30:07<1:24:11, 53.17s/it]"
     ]
    },
    {
     "name": "stdout",
     "output_type": "stream",
     "text": [
      "\n",
      "Processing: tnr_13259\n",
      "Warning: (tnr13259) No file or more than one file with pattern `kr.shp` found in given directories\n",
      "Warning: (tnr13259) No file or more than one file with pattern `kr.shp` found in given directories\n",
      "-> tnr_13259: Exception during loading/saving of crowns_human\n"
     ]
    },
    {
     "name": "stderr",
     "output_type": "stream",
     "text": [
      " 64%|██████▍   | 167/261 [2:32:11<1:56:32, 74.39s/it]"
     ]
    },
    {
     "name": "stdout",
     "output_type": "stream",
     "text": [
      "\n",
      "Processing: tnr_13508\n"
     ]
    },
    {
     "name": "stderr",
     "output_type": "stream",
     "text": [
      "100%|██████████| 9/9 [00:00<00:00, 26.08it/s]\n",
      " 64%|██████▍   | 168/261 [2:32:21<1:25:17, 55.02s/it]"
     ]
    },
    {
     "name": "stdout",
     "output_type": "stream",
     "text": [
      "\n",
      "Processing: tnr_13758\n"
     ]
    },
    {
     "name": "stderr",
     "output_type": "stream",
     "text": [
      "100%|██████████| 36/36 [00:01<00:00, 23.33it/s]\n",
      " 65%|██████▍   | 169/261 [2:32:48<1:11:09, 46.41s/it]"
     ]
    },
    {
     "name": "stdout",
     "output_type": "stream",
     "text": [
      "\n",
      "Processing: tnr_13766\n"
     ]
    },
    {
     "name": "stderr",
     "output_type": "stream",
     "text": [
      "100%|██████████| 28/28 [00:01<00:00, 16.87it/s]\n",
      " 65%|██████▌   | 170/261 [2:33:47<1:16:21, 50.34s/it]"
     ]
    },
    {
     "name": "stdout",
     "output_type": "stream",
     "text": [
      "\n",
      "Processing: tnr_13779\n"
     ]
    },
    {
     "name": "stderr",
     "output_type": "stream",
     "text": [
      "100%|██████████| 61/61 [00:02<00:00, 27.69it/s]\n",
      " 66%|██████▌   | 171/261 [2:35:59<1:52:21, 74.91s/it]"
     ]
    },
    {
     "name": "stdout",
     "output_type": "stream",
     "text": [
      "\n",
      "Processing: tnr_13783\n"
     ]
    },
    {
     "name": "stderr",
     "output_type": "stream",
     "text": [
      "100%|██████████| 32/32 [00:01<00:00, 28.85it/s]\n",
      " 66%|██████▌   | 172/261 [2:38:43<2:30:37, 101.55s/it]"
     ]
    },
    {
     "name": "stdout",
     "output_type": "stream",
     "text": [
      "\n",
      "Processing: tnr_13819\n"
     ]
    },
    {
     "name": "stderr",
     "output_type": "stream",
     "text": [
      "100%|██████████| 32/32 [00:01<00:00, 25.36it/s]\n",
      " 66%|██████▋   | 173/261 [2:39:50<2:13:33, 91.07s/it] "
     ]
    },
    {
     "name": "stdout",
     "output_type": "stream",
     "text": [
      "\n",
      "Processing: tnr_13825\n",
      "Warning: (tnr13825) No file or more than one file with pattern `kr.shp` found in given directories\n",
      "Warning: (tnr13825) No file or more than one file with pattern `kr.shp` found in given directories\n",
      "-> tnr_13825: Exception during loading/saving of crowns_human\n"
     ]
    },
    {
     "name": "stderr",
     "output_type": "stream",
     "text": [
      " 67%|██████▋   | 174/261 [2:41:54<2:26:32, 101.06s/it]"
     ]
    },
    {
     "name": "stdout",
     "output_type": "stream",
     "text": [
      "\n",
      "Processing: tnr_13898\n"
     ]
    },
    {
     "name": "stderr",
     "output_type": "stream",
     "text": [
      "100%|██████████| 14/14 [00:00<00:00, 25.95it/s]\n",
      " 67%|██████▋   | 175/261 [2:42:07<1:46:53, 74.57s/it] "
     ]
    },
    {
     "name": "stdout",
     "output_type": "stream",
     "text": [
      "\n",
      "Processing: tnr_13922\n"
     ]
    },
    {
     "name": "stderr",
     "output_type": "stream",
     "text": [
      "100%|██████████| 30/30 [00:01<00:00, 22.70it/s]\n",
      " 67%|██████▋   | 176/261 [2:44:16<2:08:52, 90.97s/it]"
     ]
    },
    {
     "name": "stdout",
     "output_type": "stream",
     "text": [
      "\n",
      "Processing: tnr_14064\n"
     ]
    },
    {
     "name": "stderr",
     "output_type": "stream",
     "text": [
      "100%|██████████| 9/9 [00:00<00:00, 27.60it/s]\n",
      " 68%|██████▊   | 177/261 [2:44:27<1:33:37, 66.87s/it]"
     ]
    },
    {
     "name": "stdout",
     "output_type": "stream",
     "text": [
      "\n",
      "Processing: tnr_14156\n"
     ]
    },
    {
     "name": "stderr",
     "output_type": "stream",
     "text": [
      "100%|██████████| 6/6 [00:00<00:00, 26.39it/s]\n",
      " 68%|██████▊   | 178/261 [2:44:39<1:09:43, 50.40s/it]"
     ]
    },
    {
     "name": "stdout",
     "output_type": "stream",
     "text": [
      "\n",
      "Processing: tnr_14272\n",
      "Warning: (tnr14272) No file or more than one file with pattern `kr.shp` found in given directories\n",
      "Warning: (tnr14272) No file or more than one file with pattern `kr.shp` found in given directories\n",
      "-> tnr_14272: Exception during loading/saving of crowns_human\n"
     ]
    },
    {
     "name": "stderr",
     "output_type": "stream",
     "text": [
      " 69%|██████▊   | 179/261 [2:45:12<1:01:50, 45.25s/it]"
     ]
    },
    {
     "name": "stdout",
     "output_type": "stream",
     "text": [
      "\n",
      "Processing: tnr_14293\n",
      "Warning: (tnr14293) No file or more than one file with pattern `kr.shp` found in given directories\n",
      "Warning: (tnr14293) No file or more than one file with pattern `kr.shp` found in given directories\n",
      "-> tnr_14293: Exception during loading/saving of crowns_human\n"
     ]
    },
    {
     "name": "stderr",
     "output_type": "stream",
     "text": [
      " 69%|██████▉   | 180/261 [2:46:04<1:03:46, 47.25s/it]"
     ]
    },
    {
     "name": "stdout",
     "output_type": "stream",
     "text": [
      "\n",
      "Processing: tnr_14309\n",
      "Warning: (tnr14309) No file or more than one file with pattern `kr.shp` found in given directories\n",
      "Warning: (tnr14309) No file or more than one file with pattern `kr.shp` found in given directories\n",
      "-> tnr_14309: Exception during loading/saving of crowns_human\n"
     ]
    },
    {
     "name": "stderr",
     "output_type": "stream",
     "text": [
      " 69%|██████▉   | 181/261 [2:46:26<52:51, 39.64s/it]  "
     ]
    },
    {
     "name": "stdout",
     "output_type": "stream",
     "text": [
      "\n",
      "Processing: tnr_14327\n",
      "Warning: (tnr14327) No file or more than one file with pattern `kr.shp` found in given directories\n",
      "Warning: (tnr14327) No file or more than one file with pattern `kr.shp` found in given directories\n",
      "-> tnr_14327: Exception during loading/saving of crowns_human\n"
     ]
    },
    {
     "name": "stderr",
     "output_type": "stream",
     "text": [
      " 70%|██████▉   | 182/261 [2:46:49<45:43, 34.72s/it]"
     ]
    },
    {
     "name": "stdout",
     "output_type": "stream",
     "text": [
      "\n",
      "Processing: tnr_14666\n"
     ]
    },
    {
     "name": "stderr",
     "output_type": "stream",
     "text": [
      "100%|██████████| 29/29 [00:01<00:00, 22.06it/s]\n",
      " 70%|███████   | 183/261 [2:47:02<36:36, 28.16s/it]"
     ]
    },
    {
     "name": "stdout",
     "output_type": "stream",
     "text": [
      "\n",
      "Processing: tnr_14712\n"
     ]
    },
    {
     "name": "stderr",
     "output_type": "stream",
     "text": [
      "100%|██████████| 64/64 [00:02<00:00, 26.25it/s]\n",
      " 70%|███████   | 184/261 [2:49:20<1:18:28, 61.15s/it]"
     ]
    },
    {
     "name": "stdout",
     "output_type": "stream",
     "text": [
      "\n",
      "Processing: tnr_14723\n",
      "Warning: (tnr14723) No file or more than one file with pattern `kr.shp` found in given directories\n",
      "Warning: (tnr14723) No file or more than one file with pattern `kr.shp` found in given directories\n",
      "-> tnr_14723: Exception during loading/saving of crowns_human\n"
     ]
    },
    {
     "name": "stderr",
     "output_type": "stream",
     "text": [
      " 71%|███████   | 185/261 [2:49:29<57:46, 45.61s/it]  "
     ]
    },
    {
     "name": "stdout",
     "output_type": "stream",
     "text": [
      "\n",
      "Processing: tnr_14727\n",
      "Warning: (tnr14727) No file or more than one file with pattern `kr.shp` found in given directories\n",
      "Warning: (tnr14727) No file or more than one file with pattern `kr.shp` found in given directories\n",
      "-> tnr_14727: Exception during loading/saving of crowns_human\n"
     ]
    },
    {
     "name": "stderr",
     "output_type": "stream",
     "text": [
      " 71%|███████▏  | 186/261 [2:49:46<46:10, 36.94s/it]"
     ]
    },
    {
     "name": "stdout",
     "output_type": "stream",
     "text": [
      "\n",
      "Processing: tnr_14732\n"
     ]
    },
    {
     "name": "stderr",
     "output_type": "stream",
     "text": [
      "100%|██████████| 32/32 [00:01<00:00, 26.02it/s]\n",
      " 72%|███████▏  | 187/261 [2:50:13<42:04, 34.11s/it]"
     ]
    },
    {
     "name": "stdout",
     "output_type": "stream",
     "text": [
      "\n",
      "Processing: tnr_14781\n"
     ]
    },
    {
     "name": "stderr",
     "output_type": "stream",
     "text": [
      "100%|██████████| 11/11 [00:00<00:00, 24.29it/s]\n",
      " 72%|███████▏  | 188/261 [2:50:23<32:34, 26.77s/it]"
     ]
    },
    {
     "name": "stdout",
     "output_type": "stream",
     "text": [
      "\n",
      "Processing: tnr_14877\n",
      "Warning: (tnr14877) No file or more than one file with pattern `kr.shp` found in given directories\n",
      "Warning: (tnr14877) No file or more than one file with pattern `kr.shp` found in given directories\n",
      "-> tnr_14877: Exception during loading/saving of crowns_human\n"
     ]
    },
    {
     "name": "stderr",
     "output_type": "stream",
     "text": [
      " 72%|███████▏  | 189/261 [2:50:35<26:37, 22.19s/it]"
     ]
    },
    {
     "name": "stdout",
     "output_type": "stream",
     "text": [
      "\n",
      "Processing: tnr_14879\n",
      "Warning: (tnr14879) No file or more than one file with pattern `kr.shp` found in given directories\n",
      "Warning: (tnr14879) No file or more than one file with pattern `kr.shp` found in given directories\n",
      "-> tnr_14879: Exception during loading/saving of crowns_human\n"
     ]
    },
    {
     "name": "stderr",
     "output_type": "stream",
     "text": [
      " 73%|███████▎  | 190/261 [2:50:50<23:45, 20.07s/it]"
     ]
    },
    {
     "name": "stdout",
     "output_type": "stream",
     "text": [
      "\n",
      "Processing: tnr_14887\n",
      "Warning: (tnr14887) No file or more than one file with pattern `kr.shp` found in given directories\n",
      "Warning: (tnr14887) No file or more than one file with pattern `kr.shp` found in given directories\n",
      "-> tnr_14887: Exception during loading/saving of crowns_human\n"
     ]
    },
    {
     "name": "stderr",
     "output_type": "stream",
     "text": [
      " 73%|███████▎  | 191/261 [2:51:00<19:53, 17.04s/it]"
     ]
    },
    {
     "name": "stdout",
     "output_type": "stream",
     "text": [
      "\n",
      "Processing: tnr_15016\n"
     ]
    },
    {
     "name": "stderr",
     "output_type": "stream",
     "text": [
      "100%|██████████| 35/35 [00:01<00:00, 26.75it/s]\n",
      " 74%|███████▎  | 192/261 [2:52:24<42:48, 37.23s/it]"
     ]
    },
    {
     "name": "stdout",
     "output_type": "stream",
     "text": [
      "\n",
      "Processing: tnr_15020\n"
     ]
    },
    {
     "name": "stderr",
     "output_type": "stream",
     "text": [
      "100%|██████████| 44/44 [00:02<00:00, 21.08it/s]\n",
      " 74%|███████▍  | 193/261 [2:53:34<53:19, 47.06s/it]"
     ]
    },
    {
     "name": "stdout",
     "output_type": "stream",
     "text": [
      "\n",
      "Processing: tnr_15024\n",
      "Warning: (tnr15024) No file or more than one file with pattern `kr.shp` found in given directories\n",
      "Warning: (tnr15024) No file or more than one file with pattern `kr.shp` found in given directories\n",
      "-> tnr_15024: Exception during loading/saving of crowns_human\n"
     ]
    },
    {
     "name": "stderr",
     "output_type": "stream",
     "text": [
      " 74%|███████▍  | 194/261 [2:53:42<39:24, 35.28s/it]"
     ]
    },
    {
     "name": "stdout",
     "output_type": "stream",
     "text": [
      "\n",
      "Processing: tnr_15027\n",
      "Warning: (tnr15027) No file or more than one file with pattern `kr.shp` found in given directories\n",
      "Warning: (tnr15027) No file or more than one file with pattern `kr.shp` found in given directories\n",
      "-> tnr_15027: Exception during loading/saving of crowns_human\n"
     ]
    },
    {
     "name": "stderr",
     "output_type": "stream",
     "text": [
      " 75%|███████▍  | 195/261 [2:55:48<1:08:42, 62.47s/it]"
     ]
    },
    {
     "name": "stdout",
     "output_type": "stream",
     "text": [
      "\n",
      "Processing: tnr_15031\n"
     ]
    },
    {
     "name": "stderr",
     "output_type": "stream",
     "text": [
      "100%|██████████| 12/12 [00:00<00:00, 28.85it/s]\n",
      " 75%|███████▌  | 196/261 [2:55:59<50:56, 47.02s/it]  "
     ]
    },
    {
     "name": "stdout",
     "output_type": "stream",
     "text": [
      "\n",
      "Processing: tnr_15035\n"
     ]
    },
    {
     "name": "stderr",
     "output_type": "stream",
     "text": [
      "100%|██████████| 43/43 [00:01<00:00, 22.52it/s]\n",
      " 75%|███████▌  | 197/261 [2:57:46<1:09:30, 65.16s/it]"
     ]
    },
    {
     "name": "stdout",
     "output_type": "stream",
     "text": [
      "\n",
      "Processing: tnr_15039\n"
     ]
    },
    {
     "name": "stderr",
     "output_type": "stream",
     "text": [
      "100%|██████████| 70/70 [00:02<00:00, 24.15it/s]\n",
      " 76%|███████▌  | 198/261 [2:58:52<1:08:43, 65.45s/it]"
     ]
    },
    {
     "name": "stdout",
     "output_type": "stream",
     "text": [
      "\n",
      "Processing: tnr_15043\n"
     ]
    },
    {
     "name": "stderr",
     "output_type": "stream",
     "text": [
      "100%|██████████| 11/11 [00:00<00:00, 27.57it/s]\n",
      " 76%|███████▌  | 199/261 [2:59:06<51:27, 49.80s/it]  "
     ]
    },
    {
     "name": "stdout",
     "output_type": "stream",
     "text": [
      "\n",
      "Processing: tnr_15046\n",
      "Warning: (tnr15046) No file or more than one file with pattern `kr.shp` found in given directories\n",
      "Warning: (tnr15046) No file or more than one file with pattern `kr.shp` found in given directories\n",
      "-> tnr_15046: Exception during loading/saving of crowns_human\n"
     ]
    },
    {
     "name": "stderr",
     "output_type": "stream",
     "text": [
      " 77%|███████▋  | 200/261 [3:00:10<54:59, 54.09s/it]"
     ]
    },
    {
     "name": "stdout",
     "output_type": "stream",
     "text": [
      "\n",
      "Processing: tnr_15050\n"
     ]
    },
    {
     "name": "stderr",
     "output_type": "stream",
     "text": [
      "100%|██████████| 31/31 [00:01<00:00, 24.71it/s]\n",
      " 77%|███████▋  | 201/261 [3:00:35<45:24, 45.40s/it]"
     ]
    },
    {
     "name": "stdout",
     "output_type": "stream",
     "text": [
      "\n",
      "Processing: tnr_15101\n"
     ]
    },
    {
     "name": "stderr",
     "output_type": "stream",
     "text": [
      "100%|██████████| 8/8 [00:00<00:00, 30.97it/s]\n",
      " 77%|███████▋  | 202/261 [3:00:46<34:37, 35.21s/it]"
     ]
    },
    {
     "name": "stdout",
     "output_type": "stream",
     "text": [
      "\n",
      "Processing: tnr_15273\n"
     ]
    },
    {
     "name": "stderr",
     "output_type": "stream",
     "text": [
      "100%|██████████| 54/54 [00:02<00:00, 23.09it/s]\n",
      " 78%|███████▊  | 203/261 [3:02:11<48:19, 50.00s/it]"
     ]
    },
    {
     "name": "stdout",
     "output_type": "stream",
     "text": [
      "\n",
      "Processing: tnr_15277\n"
     ]
    },
    {
     "name": "stderr",
     "output_type": "stream",
     "text": [
      "100%|██████████| 42/42 [00:02<00:00, 20.30it/s]\n",
      " 78%|███████▊  | 204/261 [3:03:03<48:16, 50.81s/it]"
     ]
    },
    {
     "name": "stdout",
     "output_type": "stream",
     "text": [
      "\n",
      "Processing: tnr_15297\n"
     ]
    },
    {
     "name": "stderr",
     "output_type": "stream",
     "text": [
      "100%|██████████| 9/9 [00:00<00:00, 26.13it/s]\n",
      " 79%|███████▊  | 205/261 [3:03:16<36:37, 39.23s/it]"
     ]
    },
    {
     "name": "stdout",
     "output_type": "stream",
     "text": [
      "\n",
      "Processing: tnr_15299\n"
     ]
    },
    {
     "name": "stderr",
     "output_type": "stream",
     "text": [
      "100%|██████████| 45/45 [00:01<00:00, 22.69it/s]\n",
      " 79%|███████▉  | 206/261 [3:05:25<1:00:52, 66.41s/it]"
     ]
    },
    {
     "name": "stdout",
     "output_type": "stream",
     "text": [
      "\n",
      "Processing: tnr_15301\n"
     ]
    },
    {
     "name": "stderr",
     "output_type": "stream",
     "text": [
      "100%|██████████| 29/29 [00:01<00:00, 24.68it/s]\n",
      " 79%|███████▉  | 207/261 [3:06:30<59:23, 65.99s/it]  "
     ]
    },
    {
     "name": "stdout",
     "output_type": "stream",
     "text": [
      "\n",
      "Processing: tnr_15303\n",
      "Warning: (tnr15303) No file or more than one file with pattern `kr.shp` found in given directories\n",
      "Warning: (tnr15303) No file or more than one file with pattern `kr.shp` found in given directories\n",
      "-> tnr_15303: Exception during loading/saving of crowns_human\n"
     ]
    },
    {
     "name": "stderr",
     "output_type": "stream",
     "text": [
      " 80%|███████▉  | 208/261 [3:07:19<53:40, 60.77s/it]"
     ]
    },
    {
     "name": "stdout",
     "output_type": "stream",
     "text": [
      "\n",
      "Processing: tnr_15306\n"
     ]
    },
    {
     "name": "stderr",
     "output_type": "stream",
     "text": [
      "100%|██████████| 21/21 [00:00<00:00, 25.84it/s]\n",
      " 80%|████████  | 209/261 [3:07:44<43:17, 49.96s/it]"
     ]
    },
    {
     "name": "stdout",
     "output_type": "stream",
     "text": [
      "\n",
      "Processing: tnr_15311\n",
      "Warning: (tnr15311) No file or more than one file with pattern `kr.shp` found in given directories\n",
      "Warning: (tnr15311) No file or more than one file with pattern `kr.shp` found in given directories\n",
      "-> tnr_15311: Exception during loading/saving of crowns_human\n"
     ]
    },
    {
     "name": "stderr",
     "output_type": "stream",
     "text": [
      " 80%|████████  | 210/261 [3:08:08<35:46, 42.09s/it]"
     ]
    },
    {
     "name": "stdout",
     "output_type": "stream",
     "text": [
      "\n",
      "Processing: tnr_15313\n",
      "Warning: (tnr15313) No file or more than one file with pattern `kr.shp` found in given directories\n",
      "Warning: (tnr15313) No file or more than one file with pattern `kr.shp` found in given directories\n",
      "-> tnr_15313: Exception during loading/saving of crowns_human\n"
     ]
    },
    {
     "name": "stderr",
     "output_type": "stream",
     "text": [
      " 81%|████████  | 211/261 [3:08:57<36:51, 44.22s/it]"
     ]
    },
    {
     "name": "stdout",
     "output_type": "stream",
     "text": [
      "\n",
      "Processing: tnr_15317\n"
     ]
    },
    {
     "name": "stderr",
     "output_type": "stream",
     "text": [
      "100%|██████████| 30/30 [00:01<00:00, 25.78it/s]\n",
      " 81%|████████  | 212/261 [3:09:43<36:42, 44.95s/it]"
     ]
    },
    {
     "name": "stdout",
     "output_type": "stream",
     "text": [
      "\n",
      "Processing: tnr_15319\n",
      "Warning: (tnr15319) No file or more than one file with pattern `kr.shp` found in given directories\n",
      "Warning: (tnr15319) No file or more than one file with pattern `kr.shp` found in given directories\n",
      "-> tnr_15319: Exception during loading/saving of crowns_human\n"
     ]
    },
    {
     "name": "stderr",
     "output_type": "stream",
     "text": [
      " 82%|████████▏ | 213/261 [3:10:03<29:51, 37.33s/it]"
     ]
    },
    {
     "name": "stdout",
     "output_type": "stream",
     "text": [
      "\n",
      "Processing: tnr_15327\n",
      "Warning: (tnr15327) No file or more than one file with pattern `kr.shp` found in given directories\n",
      "Warning: (tnr15327) No file or more than one file with pattern `kr.shp` found in given directories\n",
      "-> tnr_15327: Exception during loading/saving of crowns_human\n"
     ]
    },
    {
     "name": "stderr",
     "output_type": "stream",
     "text": [
      " 82%|████████▏ | 214/261 [3:11:18<38:01, 48.53s/it]"
     ]
    },
    {
     "name": "stdout",
     "output_type": "stream",
     "text": [
      "\n",
      "Processing: tnr_15519\n"
     ]
    },
    {
     "name": "stderr",
     "output_type": "stream",
     "text": [
      "100%|██████████| 24/24 [00:01<00:00, 23.27it/s]\n",
      " 82%|████████▏ | 215/261 [3:13:39<58:34, 76.40s/it]"
     ]
    },
    {
     "name": "stdout",
     "output_type": "stream",
     "text": [
      "\n",
      "Processing: tnr_15521\n"
     ]
    },
    {
     "name": "stderr",
     "output_type": "stream",
     "text": [
      "100%|██████████| 29/29 [00:01<00:00, 18.99it/s]\n",
      " 83%|████████▎ | 216/261 [3:14:45<55:03, 73.41s/it]"
     ]
    },
    {
     "name": "stdout",
     "output_type": "stream",
     "text": [
      "\n",
      "Processing: tnr_15531\n",
      "Warning: (tnr15531) No file or more than one file with pattern `kr.shp` found in given directories\n",
      "Warning: (tnr15531) No file or more than one file with pattern `kr.shp` found in given directories\n",
      "-> tnr_15531: Exception during loading/saving of crowns_human\n"
     ]
    },
    {
     "name": "stderr",
     "output_type": "stream",
     "text": [
      " 83%|████████▎ | 217/261 [3:15:47<51:18, 69.96s/it]"
     ]
    },
    {
     "name": "stdout",
     "output_type": "stream",
     "text": [
      "\n",
      "Processing: tnr_15537\n",
      "Warning: (tnr15537) No file or more than one file with pattern `kr.shp` found in given directories\n",
      "Warning: (tnr15537) No file or more than one file with pattern `kr.shp` found in given directories\n",
      "-> tnr_15537: Exception during loading/saving of crowns_human\n"
     ]
    },
    {
     "name": "stderr",
     "output_type": "stream",
     "text": [
      " 84%|████████▎ | 218/261 [3:16:35<45:25, 63.39s/it]"
     ]
    },
    {
     "name": "stdout",
     "output_type": "stream",
     "text": [
      "\n",
      "Processing: tnr_15730\n"
     ]
    },
    {
     "name": "stderr",
     "output_type": "stream",
     "text": [
      "100%|██████████| 54/54 [00:02<00:00, 23.12it/s]\n",
      " 84%|████████▍ | 219/261 [3:17:44<45:28, 64.96s/it]"
     ]
    },
    {
     "name": "stdout",
     "output_type": "stream",
     "text": [
      "\n",
      "Processing: tnr_15736\n"
     ]
    },
    {
     "name": "stderr",
     "output_type": "stream",
     "text": [
      "100%|██████████| 32/32 [00:01<00:00, 25.36it/s]\n",
      " 84%|████████▍ | 220/261 [3:20:19<1:02:52, 92.00s/it]"
     ]
    },
    {
     "name": "stdout",
     "output_type": "stream",
     "text": [
      "\n",
      "Processing: tnr_15746\n",
      "Warning: (tnr15746) No file or more than one file with pattern `kr.shp` found in given directories\n",
      "Warning: (tnr15746) No file or more than one file with pattern `kr.shp` found in given directories\n",
      "-> tnr_15746: Exception during loading/saving of crowns_human\n"
     ]
    },
    {
     "name": "stderr",
     "output_type": "stream",
     "text": [
      " 85%|████████▍ | 221/261 [3:20:54<49:50, 74.77s/it]  "
     ]
    },
    {
     "name": "stdout",
     "output_type": "stream",
     "text": [
      "\n",
      "Processing: tnr_15748\n"
     ]
    },
    {
     "name": "stderr",
     "output_type": "stream",
     "text": [
      "100%|██████████| 42/42 [00:02<00:00, 20.04it/s]\n",
      " 85%|████████▌ | 222/261 [3:22:11<49:05, 75.52s/it]"
     ]
    },
    {
     "name": "stdout",
     "output_type": "stream",
     "text": [
      "\n",
      "Processing: tnr_15780\n"
     ]
    },
    {
     "name": "stderr",
     "output_type": "stream",
     "text": [
      "100%|██████████| 36/36 [00:01<00:00, 22.66it/s]\n",
      " 85%|████████▌ | 223/261 [3:22:59<42:34, 67.23s/it]"
     ]
    },
    {
     "name": "stdout",
     "output_type": "stream",
     "text": [
      "\n",
      "Processing: tnr_15966\n"
     ]
    },
    {
     "name": "stderr",
     "output_type": "stream",
     "text": [
      "100%|██████████| 32/32 [00:01<00:00, 19.06it/s]\n",
      " 86%|████████▌ | 224/261 [3:23:27<34:08, 55.36s/it]"
     ]
    },
    {
     "name": "stdout",
     "output_type": "stream",
     "text": [
      "\n",
      "Processing: tnr_15974\n",
      "Warning: (tnr15974) No file or more than one file with pattern `kr.shp` found in given directories\n",
      "Warning: (tnr15974) No file or more than one file with pattern `kr.shp` found in given directories\n",
      "-> tnr_15974: Exception during loading/saving of crowns_human\n"
     ]
    },
    {
     "name": "stderr",
     "output_type": "stream",
     "text": [
      " 86%|████████▌ | 225/261 [3:23:40<25:39, 42.76s/it]"
     ]
    },
    {
     "name": "stdout",
     "output_type": "stream",
     "text": [
      "\n",
      "Processing: tnr_15986\n"
     ]
    },
    {
     "name": "stderr",
     "output_type": "stream",
     "text": [
      "100%|██████████| 31/31 [00:01<00:00, 25.01it/s]\n",
      " 87%|████████▋ | 226/261 [3:24:12<23:09, 39.71s/it]"
     ]
    },
    {
     "name": "stdout",
     "output_type": "stream",
     "text": [
      "\n",
      "Processing: tnr_15988\n"
     ]
    },
    {
     "name": "stderr",
     "output_type": "stream",
     "text": [
      "100%|██████████| 32/32 [00:01<00:00, 25.73it/s]\n",
      " 87%|████████▋ | 227/261 [3:26:20<37:28, 66.14s/it]"
     ]
    },
    {
     "name": "stdout",
     "output_type": "stream",
     "text": [
      "\n",
      "Processing: tnr_15998\n",
      "Warning: (tnr15998) No file or more than one file with pattern `kr.shp` found in given directories\n",
      "Warning: (tnr15998) No file or more than one file with pattern `kr.shp` found in given directories\n",
      "-> tnr_15998: Exception during loading/saving of crowns_human\n"
     ]
    },
    {
     "name": "stderr",
     "output_type": "stream",
     "text": [
      " 87%|████████▋ | 228/261 [3:27:02<32:22, 58.87s/it]"
     ]
    },
    {
     "name": "stdout",
     "output_type": "stream",
     "text": [
      "\n",
      "Processing: tnr_16173\n"
     ]
    },
    {
     "name": "stderr",
     "output_type": "stream",
     "text": [
      "100%|██████████| 48/48 [00:02<00:00, 19.89it/s]\n",
      " 88%|████████▊ | 229/261 [3:27:58<30:58, 58.07s/it]"
     ]
    },
    {
     "name": "stdout",
     "output_type": "stream",
     "text": [
      "\n",
      "Processing: tnr_16177\n"
     ]
    },
    {
     "name": "stderr",
     "output_type": "stream",
     "text": [
      "100%|██████████| 50/50 [00:02<00:00, 21.43it/s]\n",
      " 88%|████████▊ | 230/261 [3:29:21<33:49, 65.47s/it]"
     ]
    },
    {
     "name": "stdout",
     "output_type": "stream",
     "text": [
      "\n",
      "Processing: tnr_16181\n",
      "Warning: (tnr16181) No file or more than one file with pattern `kr.shp` found in given directories\n",
      "Warning: (tnr16181) No file or more than one file with pattern `kr.shp` found in given directories\n",
      "-> tnr_16181: Exception during loading/saving of crowns_human\n"
     ]
    },
    {
     "name": "stderr",
     "output_type": "stream",
     "text": [
      " 89%|████████▊ | 231/261 [3:30:11<30:19, 60.65s/it]"
     ]
    },
    {
     "name": "stdout",
     "output_type": "stream",
     "text": [
      "\n",
      "Processing: tnr_16193\n"
     ]
    },
    {
     "name": "stderr",
     "output_type": "stream",
     "text": [
      "100%|██████████| 43/43 [00:01<00:00, 22.97it/s]\n",
      " 89%|████████▉ | 232/261 [3:31:23<31:05, 64.34s/it]"
     ]
    },
    {
     "name": "stdout",
     "output_type": "stream",
     "text": [
      "\n",
      "Processing: tnr_16195\n",
      "Warning: (tnr16195) No file or more than one file with pattern `kr.shp` found in given directories\n",
      "Warning: (tnr16195) No file or more than one file with pattern `kr.shp` found in given directories\n",
      "-> tnr_16195: Exception during loading/saving of crowns_human\n"
     ]
    },
    {
     "name": "stderr",
     "output_type": "stream",
     "text": [
      " 89%|████████▉ | 233/261 [3:32:27<29:54, 64.11s/it]"
     ]
    },
    {
     "name": "stdout",
     "output_type": "stream",
     "text": [
      "\n",
      "Processing: tnr_16197\n",
      "Warning: (tnr16197) No file or more than one file with pattern `kr.shp` found in given directories\n",
      "Warning: (tnr16197) No file or more than one file with pattern `kr.shp` found in given directories\n",
      "-> tnr_16197: Exception during loading/saving of crowns_human\n"
     ]
    },
    {
     "name": "stderr",
     "output_type": "stream",
     "text": [
      " 90%|████████▉ | 234/261 [3:32:52<23:31, 52.29s/it]"
     ]
    },
    {
     "name": "stdout",
     "output_type": "stream",
     "text": [
      "\n",
      "Processing: tnr_16201\n",
      "Warning: (tnr16201) No file or more than one file with pattern `kr.shp` found in given directories\n",
      "Warning: (tnr16201) No file or more than one file with pattern `kr.shp` found in given directories\n",
      "-> tnr_16201: Exception during loading/saving of crowns_human\n"
     ]
    },
    {
     "name": "stderr",
     "output_type": "stream",
     "text": [
      " 90%|█████████ | 235/261 [3:33:38<21:53, 50.52s/it]"
     ]
    },
    {
     "name": "stdout",
     "output_type": "stream",
     "text": [
      "\n",
      "Processing: tnr_16205\n"
     ]
    },
    {
     "name": "stderr",
     "output_type": "stream",
     "text": [
      "100%|██████████| 35/35 [00:01<00:00, 23.15it/s]\n",
      " 90%|█████████ | 236/261 [3:36:41<37:36, 90.26s/it]"
     ]
    },
    {
     "name": "stdout",
     "output_type": "stream",
     "text": [
      "\n",
      "Processing: tnr_16211\n"
     ]
    },
    {
     "name": "stderr",
     "output_type": "stream",
     "text": [
      "100%|██████████| 28/28 [00:01<00:00, 25.73it/s]\n",
      " 91%|█████████ | 237/261 [3:37:00<27:32, 68.87s/it]"
     ]
    },
    {
     "name": "stdout",
     "output_type": "stream",
     "text": [
      "\n",
      "Processing: tnr_16223\n"
     ]
    },
    {
     "name": "stderr",
     "output_type": "stream",
     "text": [
      "100%|██████████| 32/32 [00:01<00:00, 25.67it/s]\n",
      " 91%|█████████ | 238/261 [3:37:25<21:17, 55.56s/it]"
     ]
    },
    {
     "name": "stdout",
     "output_type": "stream",
     "text": [
      "\n",
      "Processing: tnr_16227\n"
     ]
    },
    {
     "name": "stderr",
     "output_type": "stream",
     "text": [
      "100%|██████████| 66/66 [00:02<00:00, 23.61it/s]\n",
      " 92%|█████████▏| 239/261 [3:39:23<27:18, 74.47s/it]"
     ]
    },
    {
     "name": "stdout",
     "output_type": "stream",
     "text": [
      "\n",
      "Processing: tnr_16400\n"
     ]
    },
    {
     "name": "stderr",
     "output_type": "stream",
     "text": [
      "100%|██████████| 43/43 [00:01<00:00, 25.35it/s]\n",
      " 92%|█████████▏| 240/261 [3:40:49<27:14, 77.84s/it]"
     ]
    },
    {
     "name": "stdout",
     "output_type": "stream",
     "text": [
      "\n",
      "Processing: tnr_16404\n"
     ]
    },
    {
     "name": "stderr",
     "output_type": "stream",
     "text": [
      "100%|██████████| 33/33 [00:01<00:00, 23.74it/s]\n",
      " 92%|█████████▏| 241/261 [3:42:02<25:27, 76.38s/it]"
     ]
    },
    {
     "name": "stdout",
     "output_type": "stream",
     "text": [
      "\n",
      "Processing: tnr_16412\n",
      "Warning: (tnr16412) No file or more than one file with pattern `kr.shp` found in given directories\n",
      "Warning: (tnr16412) No file or more than one file with pattern `kr.shp` found in given directories\n",
      "-> tnr_16412: Exception during loading/saving of crowns_human\n"
     ]
    },
    {
     "name": "stderr",
     "output_type": "stream",
     "text": [
      " 93%|█████████▎| 242/261 [3:43:55<27:40, 87.37s/it]"
     ]
    },
    {
     "name": "stdout",
     "output_type": "stream",
     "text": [
      "\n",
      "Processing: tnr_16422\n"
     ]
    },
    {
     "name": "stderr",
     "output_type": "stream",
     "text": [
      "100%|██████████| 29/29 [00:01<00:00, 20.49it/s]\n",
      " 93%|█████████▎| 243/261 [3:45:14<25:27, 84.88s/it]"
     ]
    },
    {
     "name": "stdout",
     "output_type": "stream",
     "text": [
      "\n",
      "Processing: tnr_16426\n"
     ]
    },
    {
     "name": "stderr",
     "output_type": "stream",
     "text": [
      "100%|██████████| 31/31 [00:01<00:00, 25.15it/s]\n",
      " 93%|█████████▎| 244/261 [3:45:54<20:16, 71.54s/it]"
     ]
    },
    {
     "name": "stdout",
     "output_type": "stream",
     "text": [
      "\n",
      "Processing: tnr_16620\n"
     ]
    },
    {
     "name": "stderr",
     "output_type": "stream",
     "text": [
      "100%|██████████| 35/35 [00:01<00:00, 23.74it/s]\n",
      " 94%|█████████▍| 245/261 [3:46:19<15:18, 57.38s/it]"
     ]
    },
    {
     "name": "stdout",
     "output_type": "stream",
     "text": [
      "\n",
      "Processing: tnr_16624\n"
     ]
    },
    {
     "name": "stderr",
     "output_type": "stream",
     "text": [
      "100%|██████████| 50/50 [00:02<00:00, 24.94it/s]\n",
      " 94%|█████████▍| 246/261 [3:47:29<15:18, 61.24s/it]"
     ]
    },
    {
     "name": "stdout",
     "output_type": "stream",
     "text": [
      "\n",
      "Processing: tnr_16632\n"
     ]
    },
    {
     "name": "stderr",
     "output_type": "stream",
     "text": [
      "100%|██████████| 48/48 [00:01<00:00, 25.53it/s]\n",
      " 95%|█████████▍| 247/261 [3:48:14<13:09, 56.40s/it]"
     ]
    },
    {
     "name": "stdout",
     "output_type": "stream",
     "text": [
      "\n",
      "Processing: tnr_16636\n",
      "Warning: (tnr16636) No file or more than one file with pattern `kr.shp` found in given directories\n",
      "Warning: (tnr16636) No file or more than one file with pattern `kr.shp` found in given directories\n",
      "-> tnr_16636: Exception during loading/saving of crowns_human\n"
     ]
    },
    {
     "name": "stderr",
     "output_type": "stream",
     "text": [
      " 95%|█████████▌| 248/261 [3:49:18<12:43, 58.71s/it]"
     ]
    },
    {
     "name": "stdout",
     "output_type": "stream",
     "text": [
      "\n",
      "Processing: tnr_16639\n"
     ]
    },
    {
     "name": "stderr",
     "output_type": "stream",
     "text": [
      "100%|██████████| 28/28 [00:01<00:00, 26.79it/s]\n",
      " 95%|█████████▌| 249/261 [3:51:09<14:53, 74.44s/it]"
     ]
    },
    {
     "name": "stdout",
     "output_type": "stream",
     "text": [
      "\n",
      "Processing: tnr_16643\n"
     ]
    },
    {
     "name": "stderr",
     "output_type": "stream",
     "text": [
      "100%|██████████| 30/30 [00:01<00:00, 26.40it/s]\n",
      " 96%|█████████▌| 250/261 [3:52:02<12:27, 67.99s/it]"
     ]
    },
    {
     "name": "stdout",
     "output_type": "stream",
     "text": [
      "\n",
      "Processing: tnr_16645\n",
      "Warning: (tnr16645) No file or more than one file with pattern `kr.shp` found in given directories\n",
      "Warning: (tnr16645) No file or more than one file with pattern `kr.shp` found in given directories\n",
      "-> tnr_16645: Exception during loading/saving of crowns_human\n"
     ]
    },
    {
     "name": "stderr",
     "output_type": "stream",
     "text": [
      " 96%|█████████▌| 251/261 [3:52:51<10:22, 62.29s/it]"
     ]
    },
    {
     "name": "stdout",
     "output_type": "stream",
     "text": [
      "\n",
      "Processing: tnr_16649\n",
      "Warning: (tnr16649) No file or more than one file with pattern `kr.shp` found in given directories\n",
      "Warning: (tnr16649) No file or more than one file with pattern `kr.shp` found in given directories\n",
      "-> tnr_16649: Exception during loading/saving of crowns_human\n"
     ]
    },
    {
     "name": "stderr",
     "output_type": "stream",
     "text": [
      " 97%|█████████▋| 252/261 [3:53:36<08:34, 57.13s/it]"
     ]
    },
    {
     "name": "stdout",
     "output_type": "stream",
     "text": [
      "\n",
      "Processing: tnr_16657\n",
      "Warning: (tnr16657) No file or more than one file with pattern `kr.shp` found in given directories\n",
      "Warning: (tnr16657) No file or more than one file with pattern `kr.shp` found in given directories\n",
      "-> tnr_16657: Exception during loading/saving of crowns_human\n"
     ]
    },
    {
     "name": "stderr",
     "output_type": "stream",
     "text": [
      " 97%|█████████▋| 253/261 [3:54:18<06:58, 52.36s/it]"
     ]
    },
    {
     "name": "stdout",
     "output_type": "stream",
     "text": [
      "\n",
      "Processing: tnr_16829\n",
      "Warning: (tnr16829) No file or more than one file with pattern `kr.shp` found in given directories\n",
      "Warning: (tnr16829) No file or more than one file with pattern `kr.shp` found in given directories\n",
      "-> tnr_16829: Exception during loading/saving of crowns_human\n"
     ]
    },
    {
     "name": "stderr",
     "output_type": "stream",
     "text": [
      " 97%|█████████▋| 254/261 [3:54:29<04:40, 40.01s/it]"
     ]
    },
    {
     "name": "stdout",
     "output_type": "stream",
     "text": [
      "\n",
      "Processing: tnr_16833\n",
      "Warning: (tnr16833) No file or more than one file with pattern `kr.shp` found in given directories\n",
      "Warning: (tnr16833) No file or more than one file with pattern `kr.shp` found in given directories\n",
      "-> tnr_16833: Exception during loading/saving of crowns_human\n"
     ]
    },
    {
     "name": "stderr",
     "output_type": "stream",
     "text": [
      " 98%|█████████▊| 255/261 [3:56:41<06:45, 67.56s/it]"
     ]
    },
    {
     "name": "stdout",
     "output_type": "stream",
     "text": [
      "\n",
      "Processing: tnr_16838\n",
      "Warning: (tnr16838) No file or more than one file with pattern `kr.shp` found in given directories\n",
      "Warning: (tnr16838) No file or more than one file with pattern `kr.shp` found in given directories\n",
      "-> tnr_16838: Exception during loading/saving of crowns_human\n"
     ]
    },
    {
     "name": "stderr",
     "output_type": "stream",
     "text": [
      " 98%|█████████▊| 256/261 [3:58:56<07:20, 88.03s/it]"
     ]
    },
    {
     "name": "stdout",
     "output_type": "stream",
     "text": [
      "\n",
      "Processing: tnr_17019\n",
      "Warning: (tnr17019) No file or more than one file with pattern `kr.shp` found in given directories\n",
      "Warning: (tnr17019) No file or more than one file with pattern `kr.shp` found in given directories\n",
      "-> tnr_17019: Exception during loading/saving of crowns_human\n"
     ]
    },
    {
     "name": "stderr",
     "output_type": "stream",
     "text": [
      " 98%|█████████▊| 257/261 [3:59:17<04:31, 67.78s/it]"
     ]
    },
    {
     "name": "stdout",
     "output_type": "stream",
     "text": [
      "\n",
      "Processing: tnr_17032\n",
      "Warning: (tnr17032) No file or more than one file with pattern `kr.shp` found in given directories\n",
      "Warning: (tnr17032) No file or more than one file with pattern `kr.shp` found in given directories\n",
      "-> tnr_17032: Exception during loading/saving of crowns_human\n"
     ]
    },
    {
     "name": "stderr",
     "output_type": "stream",
     "text": [
      " 99%|█████████▉| 258/261 [3:59:56<02:57, 59.16s/it]"
     ]
    },
    {
     "name": "stdout",
     "output_type": "stream",
     "text": [
      "\n",
      "Processing: tnr_17034\n",
      "Warning: (tnr17034) No file or more than one file with pattern `kr.shp` found in given directories\n",
      "Warning: (tnr17034) No file or more than one file with pattern `kr.shp` found in given directories\n",
      "-> tnr_17034: Exception during loading/saving of crowns_human\n"
     ]
    },
    {
     "name": "stderr",
     "output_type": "stream",
     "text": [
      " 99%|█████████▉| 259/261 [4:00:39<01:48, 54.43s/it]"
     ]
    },
    {
     "name": "stdout",
     "output_type": "stream",
     "text": [
      "\n",
      "Processing: tnr_17042\n",
      "Warning: (tnr17042) No file or more than one file with pattern `kr.shp` found in given directories\n",
      "Warning: (tnr17042) No file or more than one file with pattern `kr.shp` found in given directories\n",
      "-> tnr_17042: Exception during loading/saving of crowns_human\n"
     ]
    },
    {
     "name": "stderr",
     "output_type": "stream",
     "text": [
      "100%|█████████▉| 260/261 [4:01:41<00:56, 56.49s/it]"
     ]
    },
    {
     "name": "stdout",
     "output_type": "stream",
     "text": [
      "\n",
      "Processing: tnr_17339\n",
      "Warning: (tnr17339) No file or more than one file with pattern `kr.shp` found in given directories\n",
      "Warning: (tnr17339) No file or more than one file with pattern `kr.shp` found in given directories\n",
      "-> tnr_17339: Exception during loading/saving of crowns_human\n"
     ]
    },
    {
     "name": "stderr",
     "output_type": "stream",
     "text": [
      "100%|██████████| 261/261 [4:03:06<00:00, 55.89s/it]"
     ]
    },
    {
     "name": "stdout",
     "output_type": "stream",
     "text": [
      "\n",
      "Done!\n",
      "Exceptions occured @[35, 73, 75, 79, 84, 86, 171, 176, 182, 184, 185, 188, 190, 192, 194, 460, 462, 477, 479, 485, 489, 879, 1356, 1381, 1898, 2386, 2399, 2411, 2413, 3398, 3418, 3930, 4396, 4412, 4436, 4444, 5441, 5930, 5946, 6430, 6466, 6470, 6474, 6478, 6969, 6977, 7475, 7511, 7521, 7525, 8492, 8494, 8498, 8532, 8973, 8979, 8981, 8989, 9025, 9464, 9468, 9472, 9477, 9489, 9493, 9509, 9515, 9517, 9948, 9958, 9966, 9973, 9976, 9980, 9984, 9986, 9988, 9996, 11062, 11068, 11576, 11581, 11597, 11601, 11612, 12153, 12161, 12169, 12179, 12545, 12694, 12711, 12715, 13212, 13229, 13259, 13825, 14272, 14293, 14309, 14327, 14723, 14727, 14877, 14879, 14887, 15024, 15027, 15046, 15303, 15311, 15313, 15319, 15327, 15531, 15537, 15746, 15974, 15998, 16181, 16195, 16197, 16201, 16412, 16636, 16645, 16649, 16657, 16829, 16833, 16838, 17019, 17032, 17034, 17042, 17339]\n"
     ]
    },
    {
     "name": "stderr",
     "output_type": "stream",
     "text": [
      "\n"
     ]
    }
   ],
   "source": [
    "for tnr in tqdm(tnrs):\n",
    "    \n",
    "    print()\n",
    "    print(f\"Processing: tnr_{tnr}\")\n",
    "\n",
    "    ################# [1] Load and save channels\n",
    "    try:\n",
    "        params_channels = {'tnr': tnr}\n",
    "        channels, params_channels = geo_to_image.channels_load(dir_names, params_channels, verbose=False)\n",
    "        io.channels_to_hdf5(channels, params_channels, dir_name = save_dir_hdf5)\n",
    "    \n",
    "    except:\n",
    "        print(f\"-> tnr_{tnr}: Exception during loading/saving of channels\")\n",
    "        exception_list.extend([tnr])\n",
    "\n",
    "    ################# [2] Load and save human generated crowns with added photometric features\n",
    "    try:\n",
    "        crowns_human, params_crowns_human = io.load_shapefile(dir_names, params_channels, verbose=False)\n",
    "        photometric.crowns_add_features(\n",
    "            channels,\n",
    "            params_channels,\n",
    "            crowns_human,\n",
    "            params_crowns_human,\n",
    "        )\n",
    "        io.crowns_to_hdf5(crowns_human, params_crowns_human, dir_name = save_dir_hdf5)\n",
    "    \n",
    "    except:\n",
    "        print(f\"-> tnr_{tnr}: Exception during loading/saving of crowns_human\")\n",
    "        exception_list.extend([tnr])\n",
    "\n",
    "    ################# [3] Generate and save watershed crowns\n",
    "    try:\n",
    "        params_crowns_water = {}\n",
    "\n",
    "        crowns_water, params_crowns_water = segmentation.watershed(\n",
    "            channels,\n",
    "            params_channels,\n",
    "            params_crowns_water,\n",
    "            verbose=False,\n",
    "        )\n",
    "        io.crowns_to_hdf5(crowns_water, params_crowns_water, dir_name = save_dir_hdf5)\n",
    "    \n",
    "    except:\n",
    "        print(f\"-> tnr_{tnr}: Exception during generation/saving of crowns_water\")\n",
    "        exception_list.extend([tnr])\n",
    "\n",
    "    ################# [4] Create bokeh plot and save as html\n",
    "    try:\n",
    "        # Init Plotter object and adjust some attributes \n",
    "        plt = interactive.Plotter()\n",
    "        plt.width = 500\n",
    "        plt.channels_downscale = 1\n",
    "        plt.show_features = ['id', 'ba', 'nbv', 'gilb', 'perc25_brightest_ndvi', 'median_brightest_ndvi', 'perc75_brightest_ndvi']\n",
    "\n",
    "        # Add channels\n",
    "        plt.add_channels(channels, params_channels)\n",
    "        plt.figures_add_rgb()\n",
    "        plt.figures_add_gray('chm')\n",
    "\n",
    "        # Add crowns\n",
    "        plt.togglers_add_crowns(crowns_water, params_crowns_water)\n",
    "        plt.togglers_add_crowns(crowns_human, params_crowns_human)\n",
    "\n",
    "        # Create and save layout\n",
    "        layout = plt.create_layout()\n",
    "        output_file(\n",
    "            filename = os.path.join(save_dir_html, f\"tnr{tnr}.html\"),\n",
    "            title = f\"tnr{tnr}_{transformations.current_datetime()}\",\n",
    "            mode='inline',\n",
    "            )\n",
    "        save(layout)\n",
    "\n",
    "    except:\n",
    "        print(f\"-> tnr_{tnr}: Exception during creation of html\")\n",
    "        exception_list.extend([tnr])\n",
    "\n",
    "\n",
    "print()\n",
    "print('Done!')\n",
    "print(f\"Exceptions occured @{exception_list}\")"
   ]
  }
 ],
 "metadata": {
  "kernelspec": {
   "display_name": "Python 3.9.7 ('findatree_v01')",
   "language": "python",
   "name": "python3"
  },
  "language_info": {
   "codemirror_mode": {
    "name": "ipython",
    "version": 3
   },
   "file_extension": ".py",
   "mimetype": "text/x-python",
   "name": "python",
   "nbconvert_exporter": "python",
   "pygments_lexer": "ipython3",
   "version": "3.9.7"
  },
  "orig_nbformat": 4,
  "vscode": {
   "interpreter": {
    "hash": "635c494a99b4919ffc46b3179c211e3df0819f0dc50ebdacd534597eabf9f7f9"
   }
  }
 },
 "nbformat": 4,
 "nbformat_minor": 2
}
