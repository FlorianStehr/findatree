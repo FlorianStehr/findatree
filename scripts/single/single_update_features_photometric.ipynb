{
 "cells": [
  {
   "cell_type": "markdown",
   "metadata": {},
   "source": [
    "### (1) Imports"
   ]
  },
  {
   "cell_type": "code",
   "execution_count": null,
   "metadata": {},
   "outputs": [],
   "source": [
    "import importlib\n",
    "import numpy as np\n",
    "import os\n",
    "\n",
    "import findatree.io as io\n",
    "import findatree.transformations as transformations\n",
    "import findatree.interactive as interactive\n",
    "import findatree.photometric as photometric\n",
    "\n",
    "from bokeh.plotting import show, save\n",
    "from bokeh.io import output_notebook, output_file\n",
    "output_notebook()"
   ]
  },
  {
   "cell_type": "markdown",
   "metadata": {},
   "source": [
    "### (2) Load hdf5"
   ]
  },
  {
   "cell_type": "code",
   "execution_count": null,
   "metadata": {},
   "outputs": [],
   "source": [
    "importlib.reload(io)\n",
    "\n",
    "path = r\"C:\\data\\lwf\\processed\\2020\\hdf5\\tnr12545.hdf5\"\n",
    "\n",
    "data, params_data = io.load_hdf5(path)\n",
    "\n",
    "channels, params_channels = data['channels'], params_data['channels']\n",
    "crowns_human, params_crowns_human = data['crowns_human'], params_data['crowns_human']\n",
    "crowns_water, params_crowns_water= data['crowns_water'], params_data['crowns_water']\n",
    "\n",
    "del data, params_data"
   ]
  },
  {
   "cell_type": "markdown",
   "metadata": {},
   "source": [
    "### (3) Compute photometric crown features"
   ]
  },
  {
   "cell_type": "code",
   "execution_count": null,
   "metadata": {},
   "outputs": [],
   "source": [
    "importlib.reload(photometric)\n",
    "importlib.reload(io)\n",
    "\n",
    "photometric.crowns_add_features(\n",
    "    channels,\n",
    "    params_channels,\n",
    "    crowns_human,\n",
    "    params_crowns_human,\n",
    ")\n",
    "\n",
    "# Uncomment if you want to save the update\n",
    "io.crowns_to_hdf5(crowns_human, params_crowns_human, dir_name = os.path.split(path)[0])"
   ]
  },
  {
   "cell_type": "markdown",
   "metadata": {},
   "source": [
    "#### (4) Plotting"
   ]
  },
  {
   "cell_type": "code",
   "execution_count": null,
   "metadata": {},
   "outputs": [],
   "source": [
    "importlib.reload(interactive)\n",
    "\n",
    "plt = interactive.Plotter()\n",
    "plt.width = 500\n",
    "plt.channels_downscale = 0\n",
    "plt.show_features = [\n",
    "    'id','ba',\n",
    "    'nbv','gilb',\n",
    "    'perc25_brightest_ndvi',\n",
    "    ]\n",
    "\n",
    "plt.add_channels(channels, params_channels)\n",
    "\n",
    "plt.figures_add_rgb()\n",
    "\n",
    "plt.togglers_add_crowns(crowns_human, params_crowns_human)\n",
    "# plt.togglers_add_crowns(crowns_water, params_crowns_water)\n",
    "\n",
    "layout = plt.create_layout()"
   ]
  },
  {
   "cell_type": "code",
   "execution_count": null,
   "metadata": {},
   "outputs": [],
   "source": [
    "show(layout)"
   ]
  }
 ],
 "metadata": {
  "kernelspec": {
   "display_name": ".venv",
   "language": "python",
   "name": "python3"
  },
  "language_info": {
   "codemirror_mode": {
    "name": "ipython",
    "version": 3
   },
   "file_extension": ".py",
   "mimetype": "text/x-python",
   "name": "python",
   "nbconvert_exporter": "python",
   "pygments_lexer": "ipython3",
   "version": "3.9.16"
  },
  "orig_nbformat": 4,
  "vscode": {
   "interpreter": {
    "hash": "b54456f8d6fc2e19d5baead7cdaab66eda82227b8d5f7a26b7fe80df631c83af"
   }
  }
 },
 "nbformat": 4,
 "nbformat_minor": 2
}
