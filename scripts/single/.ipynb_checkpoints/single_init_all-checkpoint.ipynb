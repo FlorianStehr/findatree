{
 "cells": [
  {
   "cell_type": "markdown",
   "metadata": {},
   "source": [
    "### Imports"
   ]
  },
  {
   "cell_type": "code",
   "execution_count": null,
   "metadata": {
    "ExecuteTime": {
     "end_time": "2022-10-28T16:28:45.108971Z",
     "start_time": "2022-10-28T16:28:33.832334Z"
    }
   },
   "outputs": [],
   "source": [
    "import numpy as np\n",
    "import pandas as pd\n",
    "import importlib\n",
    "import os\n",
    "\n",
    "import findatree.io as io\n",
    "import findatree.transformations as transformations\n",
    "import findatree.interactive as interactive\n",
    "import findatree.geo_to_image as geo_to_image\n",
    "import findatree.segmentation as segmentation\n",
    "import findatree.photometric.shadow as shadow\n",
    "import findatree.photometric.features as features\n",
    "\n",
    "from bokeh.plotting import show, save\n",
    "from bokeh.io import output_notebook, output_file\n",
    "\n",
    "output_notebook()"
   ]
  },
  {
   "cell_type": "markdown",
   "metadata": {},
   "source": [
    "### Definitions"
   ]
  },
  {
   "cell_type": "code",
   "execution_count": null,
   "metadata": {
    "ExecuteTime": {
     "end_time": "2022-10-28T16:34:17.310256Z",
     "start_time": "2022-10-28T16:34:17.294395Z"
    }
   },
   "outputs": [],
   "source": [
    "tnr = 11733\n",
    "\n",
    "dir_names = []\n",
    "dir_names.extend([r'C:\\Data\\lwf\\WZE-UAV-2020\\DSMs'])\n",
    "dir_names.extend([r'C:\\Data\\lwf\\WZE-UAV-2020\\DTMs'])\n",
    "dir_names.extend([r'C:\\Data\\lwf\\WZE-UAV-2020\\Orthos'])\n",
    "dir_names.extend([r'C:\\Data\\lwf\\WZE-UAV-2020\\Kronen'])\n",
    "\n",
    "\n",
    "dir_name_hdf5 = r\"C:\\Data\\lwf\\processed\\2020\\hdf5\"\n",
    "dir_name_html = r\"C:\\Data\\lwf\\analysis\\px-wise_correlation\\html\""
   ]
  },
  {
   "cell_type": "markdown",
   "metadata": {},
   "source": [
    "### Load channels from .tif"
   ]
  },
  {
   "cell_type": "code",
   "execution_count": null,
   "metadata": {
    "ExecuteTime": {
     "end_time": "2022-10-14T16:16:12.636110Z",
     "start_time": "2022-10-14T16:15:36.782557Z"
    }
   },
   "outputs": [],
   "source": [
    "importlib.reload(geo_to_image)\n",
    "\n",
    "params_channels = {\n",
    "    'tnr': tnr,\n",
    "    'px_width_reproject': 0.2,\n",
    "    'downscale': 0,\n",
    "}\n",
    "\n",
    "# Load, reproject, normalize & downscale rasters\n",
    "channels, params_channels = geo_to_image.channels_load(\n",
    "    dir_names,\n",
    "    params_channels,\n",
    ")\n",
    "\n",
    "# Save repojected rasters as channels in .hdf5\n",
    "# io.channels_to_hdf5(channels, params_channels, dir_name = dir_name_hdf5)"
   ]
  },
  {
   "cell_type": "markdown",
   "metadata": {},
   "source": [
    "### Load channels from .hdf5"
   ]
  },
  {
   "cell_type": "code",
   "execution_count": null,
   "metadata": {
    "ExecuteTime": {
     "end_time": "2022-10-28T16:34:22.215586Z",
     "start_time": "2022-10-28T16:34:21.862276Z"
    }
   },
   "outputs": [],
   "source": [
    "importlib.reload(io)\n",
    "\n",
    "# Load data\n",
    "data, params_data = io.load_hdf5(\n",
    "    path=os.path.join(dir_name_hdf5, f\"tnr{tnr}.hdf5\"),\n",
    "    groups=['channels'],\n",
    ")\n",
    "\n",
    "# Assign channels\n",
    "channels = data['channels']\n",
    "params_channels = params_data['channels']\n",
    "del data, params_data"
   ]
  },
  {
   "cell_type": "markdown",
   "metadata": {},
   "source": [
    "### Load human crowns"
   ]
  },
  {
   "cell_type": "code",
   "execution_count": null,
   "metadata": {
    "ExecuteTime": {
     "end_time": "2022-10-28T16:34:26.506166Z",
     "start_time": "2022-10-28T16:34:25.543457Z"
    }
   },
   "outputs": [],
   "source": [
    "importlib.reload(io)\n",
    "\n",
    "# Load 'hand selected' human crowns\n",
    "crowns_human, params_crowns_human = io.load_shapefile(\n",
    "    dir_names,\n",
    "    params_channels,\n",
    "    remove_outliers = True,\n",
    "    )\n",
    "\n",
    "# Save crowns in .hdf5\n",
    "# io.crowns_to_hdf5(crowns_human, params_crowns_human, dir_name = dir_name_hdf5)"
   ]
  },
  {
   "cell_type": "markdown",
   "metadata": {},
   "source": [
    "### Add photometric features to human crowns"
   ]
  },
  {
   "cell_type": "code",
   "execution_count": null,
   "metadata": {
    "ExecuteTime": {
     "end_time": "2022-10-28T16:35:30.310901Z",
     "start_time": "2022-10-28T16:35:18.807327Z"
    }
   },
   "outputs": [],
   "source": [
    "importlib.reload(features)\n",
    "importlib.reload(io)\n",
    "\n",
    "# Add photometric features to human crowns\n",
    "features.crowns_add_features(\n",
    "    channels,\n",
    "    params_channels,\n",
    "    crowns_human,\n",
    "    params_crowns_human,\n",
    ")\n",
    "# Save crowns in .hdf5\n",
    "# io.crowns_to_hdf5(crowns_human, params_crowns_human, dir_name = dir_name_hdf5)"
   ]
  },
  {
   "cell_type": "markdown",
   "metadata": {},
   "source": [
    "### View human crown features as DataFrame"
   ]
  },
  {
   "cell_type": "code",
   "execution_count": null,
   "metadata": {
    "ExecuteTime": {
     "end_time": "2022-10-28T16:42:40.803994Z",
     "start_time": "2022-10-28T16:42:40.621811Z"
    }
   },
   "outputs": [],
   "source": [
    "df = pd.merge(\n",
    "    left = pd.DataFrame(crowns_human['features']['photometric']),\n",
    "    right = pd.DataFrame(crowns_human['features']['terrestrial']),\n",
    "    how= 'inner',\n",
    "    on = ['id'],\n",
    "    )\n",
    "\n",
    "# df.loc[:,['ba','perc5_evi', 'perc25_evi','perc50_evi', 'perc75_evi','perc95_evi']].groupby(['ba']).apply('mean')\n",
    "\n",
    "df.loc[:,['sst','perc5_evi', 'perc25_evi','perc50_evi', 'perc75_evi','perc95_evi']].groupby(['sst']).describe().loc[:, (slice(None), ['count', 'mean', 'std'])]\n",
    "\n",
    "\n"
   ]
  },
  {
   "cell_type": "markdown",
   "metadata": {},
   "source": [
    "### Plotting"
   ]
  },
  {
   "cell_type": "code",
   "execution_count": null,
   "metadata": {
    "ExecuteTime": {
     "end_time": "2022-10-28T16:35:54.392932Z",
     "start_time": "2022-10-28T16:35:52.344063Z"
    }
   },
   "outputs": [],
   "source": [
    "importlib.reload(interactive)\n",
    "\n",
    "plt = interactive.Plotter()\n",
    "plt.width = 400\n",
    "plt.channels_downscale = 0\n",
    "plt.show_features = [\n",
    "    'id',\n",
    "    'ba', 'kkl','nbv',\n",
    "    'perc25_ndvi','perc50_ndvi','perc75_ndvi',\n",
    "]\n",
    "\n",
    "plt.add_channels(channels, params_channels)\n",
    "\n",
    "plt.figures_add_rgb(perc=2)\n",
    "plt.figures_add_rgb(perc=2, color_code='533', weight_code = '133')\n",
    "plt.figures_add_gray('evi')\n",
    "\n",
    "plt.togglers_add_crowns(crowns_human, params_crowns_human)\n",
    "\n",
    "layout = plt.create_layout()"
   ]
  },
  {
   "cell_type": "code",
   "execution_count": null,
   "metadata": {
    "ExecuteTime": {
     "end_time": "2022-10-28T16:36:02.168634Z",
     "start_time": "2022-10-28T16:35:55.644000Z"
    }
   },
   "outputs": [],
   "source": [
    "show(layout)\n",
    "\n",
    "# output_file(os.path.join(dir_name_html, f\"tnr{tnr}.html\"), mode='inline')\n",
    "# save(layout)"
   ]
  }
 ],
 "metadata": {
  "interpreter": {
   "hash": "635c494a99b4919ffc46b3179c211e3df0819f0dc50ebdacd534597eabf9f7f9"
  },
  "kernelspec": {
   "display_name": "Python [conda env:findatree_v01] *",
   "language": "python",
   "name": "conda-env-findatree_v01-py"
  },
  "language_info": {
   "codemirror_mode": {
    "name": "ipython",
    "version": 3
   },
   "file_extension": ".py",
   "mimetype": "text/x-python",
   "name": "python",
   "nbconvert_exporter": "python",
   "pygments_lexer": "ipython3",
   "version": "3.9.7"
  },
  "toc": {
   "base_numbering": 1,
   "nav_menu": {},
   "number_sections": true,
   "sideBar": true,
   "skip_h1_title": false,
   "title_cell": "Table of Contents",
   "title_sidebar": "Contents",
   "toc_cell": false,
   "toc_position": {
    "height": "calc(100% - 180px)",
    "left": "10px",
    "top": "150px",
    "width": "278.792px"
   },
   "toc_section_display": false,
   "toc_window_display": false
  },
  "varInspector": {
   "cols": {
    "lenName": 16,
    "lenType": 16,
    "lenVar": 40
   },
   "kernels_config": {
    "python": {
     "delete_cmd_postfix": "",
     "delete_cmd_prefix": "del ",
     "library": "var_list.py",
     "varRefreshCmd": "print(var_dic_list())"
    },
    "r": {
     "delete_cmd_postfix": ") ",
     "delete_cmd_prefix": "rm(",
     "library": "var_list.r",
     "varRefreshCmd": "cat(var_dic_list()) "
    }
   },
   "position": {
    "height": "430.871px",
    "left": "1782.26px",
    "right": "20px",
    "top": "97.9981px",
    "width": "530.009px"
   },
   "types_to_exclude": [
    "module",
    "function",
    "builtin_function_or_method",
    "instance",
    "_Feature"
   ],
   "window_display": false
  }
 },
 "nbformat": 4,
 "nbformat_minor": 2
}
