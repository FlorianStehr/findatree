{
 "cells": [
  {
   "cell_type": "markdown",
   "metadata": {},
   "source": [
    "### Imports"
   ]
  },
  {
   "cell_type": "code",
   "execution_count": 1,
   "metadata": {},
   "outputs": [
    {
     "data": {
      "text/plain": [
       "<module 'findatree.io' from 'C:\\\\Repos\\\\findatree\\\\findatree\\\\io.py'>"
      ]
     },
     "execution_count": 1,
     "metadata": {},
     "output_type": "execute_result"
    }
   ],
   "source": [
    "import importlib\n",
    "import os\n",
    "from tqdm import tqdm\n",
    "\n",
    "import findatree.io as io\n",
    "\n",
    "importlib.reload(io)"
   ]
  },
  {
   "cell_type": "markdown",
   "metadata": {},
   "source": [
    "### Definitions"
   ]
  },
  {
   "cell_type": "code",
   "execution_count": 2,
   "metadata": {},
   "outputs": [],
   "source": [
    "# Define full paths to directories containing dtm, dsm, ortho and shape-files \n",
    "dir_names=[]\n",
    "dir_names.extend([r'C:\\Data\\lwf\\DSM_2020'])\n",
    "dir_names.extend([r'C:\\Data\\lwf\\DTM'])\n",
    "dir_names.extend([r'C:\\Data\\lwf\\Orthophotos_2020'])\n",
    "dir_names.extend([r'C:\\Data\\lwf\\CrownDelineation_2020'])\n",
    "\n",
    "\n",
    "# Define directories where return hdf5s and htmls are stored\n",
    "dir_hdf5 = r\"C:\\Data\\lwf\\processed\\2020\\hdf5\""
   ]
  },
  {
   "cell_type": "markdown",
   "metadata": {},
   "source": [
    "### Processing"
   ]
  },
  {
   "cell_type": "markdown",
   "metadata": {},
   "source": [
    "#### Prepare main loop"
   ]
  },
  {
   "cell_type": "code",
   "execution_count": 3,
   "metadata": {},
   "outputs": [],
   "source": [
    "# Get all available tnr numbers in directory\n",
    "paths = [os.path.join(dir_hdf5, name) for name in os.listdir(dir_hdf5) if os.path.splitext(name)[-1] == '.hdf5']\n",
    "\n",
    "# Init list of exceptions\n",
    "exception_list = []"
   ]
  },
  {
   "cell_type": "markdown",
   "metadata": {},
   "source": [
    "#### Run main loop"
   ]
  },
  {
   "cell_type": "code",
   "execution_count": 4,
   "metadata": {},
   "outputs": [
    {
     "name": "stderr",
     "output_type": "stream",
     "text": [
      "100%|██████████| 14/14 [00:06<00:00,  2.29it/s]"
     ]
    },
    {
     "name": "stdout",
     "output_type": "stream",
     "text": [
      "\n",
      "Done!\n",
      "Exceptions occured @[]\n"
     ]
    },
    {
     "name": "stderr",
     "output_type": "stream",
     "text": [
      "\n"
     ]
    }
   ],
   "source": [
    "for path in tqdm(paths):\n",
    "    \n",
    "    ################# [1] Load channels and crowns group from hdf5\n",
    "    try:\n",
    "        data, params_data = io.load_hdf5(path, groups = ['channels'])\n",
    "        channels, params_channels = data['channels'], params_data['channels']\n",
    "        del data, params_data, channels\n",
    "\n",
    "    except:\n",
    "        print(f\"-> {path}: Exception during loading of hdf5\")\n",
    "        exception_list.extend([path])\n",
    "\n",
    "    ################# [2] Load and save shapefile to correct tnr and save in hdf5 under group 'crowns_human'\n",
    "    try:\n",
    "        crowns_human, params_crowns_human = io.load_shapefile(dir_names, params_channels, verbose=False)\n",
    "        io.crowns_to_hdf5(crowns_human, params_crowns_human, dir_name = dir_hdf5)\n",
    "\n",
    "    except:\n",
    "        print(f\"-> {path}: Exception loading/saving of shapefile\")\n",
    "        exception_list.extend([path])\n",
    "\n",
    "\n",
    "print()\n",
    "print('Done!')\n",
    "print(f\"Exceptions occured @{exception_list}\")"
   ]
  }
 ],
 "metadata": {
  "kernelspec": {
   "display_name": "Python 3.9.7 ('findatree_v01')",
   "language": "python",
   "name": "python3"
  },
  "language_info": {
   "codemirror_mode": {
    "name": "ipython",
    "version": 3
   },
   "file_extension": ".py",
   "mimetype": "text/x-python",
   "name": "python",
   "nbconvert_exporter": "python",
   "pygments_lexer": "ipython3",
   "version": "3.9.7"
  },
  "orig_nbformat": 4,
  "vscode": {
   "interpreter": {
    "hash": "635c494a99b4919ffc46b3179c211e3df0819f0dc50ebdacd534597eabf9f7f9"
   }
  }
 },
 "nbformat": 4,
 "nbformat_minor": 2
}
