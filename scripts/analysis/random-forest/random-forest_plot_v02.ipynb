{
 "cells": [
  {
   "cell_type": "markdown",
   "metadata": {},
   "source": [
    "##  Random Forest: [healthy, damaged, dead] for all weather\n",
    "* healthy -> sst in [0,1]\n",
    "* damaged -> sst in [2,3]\n",
    "* dead -> sst in [4]"
   ]
  },
  {
   "cell_type": "markdown",
   "metadata": {},
   "source": [
    "### Imports"
   ]
  },
  {
   "cell_type": "code",
   "execution_count": 27,
   "metadata": {
    "ExecuteTime": {
     "end_time": "2022-10-30T21:29:36.585614Z",
     "start_time": "2022-10-30T21:29:36.547850Z"
    }
   },
   "outputs": [],
   "source": [
    "import os\n",
    "import joblib\n",
    "import numpy as np\n",
    "import pandas as pd\n",
    "import importlib\n",
    "import re\n",
    "import yaml\n",
    "\n",
    "import sklearn.ensemble \n",
    "import sklearn.model_selection\n",
    "import sklearn.inspection\n",
    "import sklearn.metrics\n",
    "\n",
    "import matplotlib.pyplot as plt\n",
    "\n",
    "import findatree.io as io\n",
    "import findatree.descriptions as descriptions\n",
    "\n",
    "plt.style.use(r'C:\\Repos\\findatree\\own.mplstyle')\n",
    "\n",
    "# Dictionaries: species_name to ba and vice versa\n",
    "species_id_to_name = descriptions.species_id_to_name()\n",
    "species_name_to_id = descriptions.species_name_to_id()"
   ]
  },
  {
   "cell_type": "markdown",
   "metadata": {},
   "source": [
    "### Definitions"
   ]
  },
  {
   "cell_type": "code",
   "execution_count": 28,
   "metadata": {
    "ExecuteTime": {
     "end_time": "2022-10-30T21:29:38.821823Z",
     "start_time": "2022-10-30T21:29:38.806198Z"
    }
   },
   "outputs": [],
   "source": [
    "# Directory: Plots\n",
    "dir_plots = r\"C:\\Data\\lwf\\analysis\\221029_random_forest\\plots\"\n",
    "\n",
    "# Directory: sklearn\n",
    "dirs_sklearn = [\n",
    "#     r\"C:\\Data\\lwf\\analysis\\221029_random_forest\\sklearn\\v02\\2020\",\n",
    "    r\"C:\\Data\\lwf\\analysis\\221029_random_forest\\sklearn\\v02\\2021\",\n",
    "]\n",
    "\n",
    "# Save names:\n",
    "load_name_params = 'params.yaml'\n",
    "load_name_gridcv = 'grid.joblib'\n",
    "load_name_dataset = 'dataset.joblib'\n",
    "# load_name_permutation_test_score = 'permutation_test_score.joblib'\n",
    "# load_name_permutation_feature_importance = 'permutation_feature_importance.joblib'"
   ]
  },
  {
   "cell_type": "markdown",
   "metadata": {},
   "source": [
    "### Load classifiers & datasets"
   ]
  },
  {
   "cell_type": "code",
   "execution_count": 29,
   "metadata": {
    "ExecuteTime": {
     "end_time": "2022-10-30T21:29:41.142225Z",
     "start_time": "2022-10-30T21:29:40.941640Z"
    }
   },
   "outputs": [],
   "source": [
    "datasets = []\n",
    "grds = []\n",
    "params = []\n",
    "\n",
    "for dir_sklearn in dirs_sklearn:\n",
    "\n",
    "    # Load dataset & sklearn results\n",
    "    datasets.append(joblib.load(os.path.join(dir_sklearn, load_name_dataset)))\n",
    "    grds.append(joblib.load(os.path.join(dir_sklearn, load_name_gridcv)))\n",
    "    # permutation_test_score = joblib.load(os.path.join(dir_sklearn, load_name_permutation_test_score))\n",
    "    # permutation_feature_importance = joblib.load(os.path.join(dir_sklearn, load_name_permutation_feature_importance))\n",
    "\n",
    "    # Load params\n",
    "    with open(os.path.join(dir_sklearn, load_name_params), \"r\") as f:\n",
    "        params.append(yaml.safe_load(f))"
   ]
  },
  {
   "cell_type": "markdown",
   "metadata": {},
   "source": [
    "## 2021"
   ]
  },
  {
   "cell_type": "markdown",
   "metadata": {},
   "source": [
    "#### 2021: Prepare & Overview"
   ]
  },
  {
   "cell_type": "code",
   "execution_count": 50,
   "metadata": {
    "ExecuteTime": {
     "end_time": "2022-10-30T21:43:09.799277Z",
     "start_time": "2022-10-30T21:43:09.645642Z"
    }
   },
   "outputs": [
    {
     "name": "stdout",
     "output_type": "stream",
     "text": [
      "Grid Search Cross Validation: Best estimator\n",
      "--------------------------------------------------\n",
      "Params:             {'criterion': 'entropy', 'max_samples': 0.75, 'min_samples_leaf': 3, 'n_estimators': 50}\n",
      "Scoring:            balanced_accuracy\n",
      "Validation score:   0.55\n",
      "Test score:         0.96 (accuracy)\n",
      "Test score:         0.61 (balanced_accuracy)\n",
      "Shape of training features:   (2907, 108)\n",
      "Shape of test features:       (969, 108)\n"
     ]
    }
   ],
   "source": [
    "#### Load classifier and dataset\n",
    "i_grd = 0\n",
    "i_data = 0\n",
    "\n",
    "grd = grds[i_grd]\n",
    "dataset = datasets[i_data]\n",
    "param_grd = params[i_grd]\n",
    "param_data = params[i_data]\n",
    "\n",
    "x = dataset['x_test'].copy()\n",
    "y = dataset['y_test'].copy()\n",
    "y_extend_names = dataset['y_extend_names'].copy()\n",
    "y_extend = dataset['y_extend_test'].copy()\n",
    "\n",
    "# Prediction probalities\n",
    "y_pred = grd.best_estimator_.predict(x)\n",
    "y_pred_proba = grd.best_estimator_.predict_proba(x)\n",
    "\n",
    "\n",
    "#### Overview\n",
    "print(f\"Grid Search Cross Validation: Best estimator\")\n",
    "print('-'*50)\n",
    "print(f\"{'Params:':<20}{grd.best_params_}\")\n",
    "print(f\"{'Scoring:':<20}{grd.scoring}\")\n",
    "print(f\"{'Validation score:':<20}{grd.best_score_:.2f}\")\n",
    "print(f\"{'Test score:':<20}{sklearn.metrics.accuracy_score(y, y_pred):.2f} (accuracy)\")\n",
    "print(f\"{'Test score:':<20}{sklearn.metrics.balanced_accuracy_score(y, y_pred):.2f} (balanced_accuracy)\")\n",
    "print(f\"{'Shape of training features:':<30}{datasets[i_grd]['x_train'].shape}\")\n",
    "print(f\"{'Shape of test features:':<30}{x.shape}\")\n",
    "\n",
    "\n",
    "cv_results = pd.DataFrame(grd.cv_results_)\n",
    "cv_results.drop(columns=['params'], inplace=True)"
   ]
  },
  {
   "cell_type": "markdown",
   "metadata": {},
   "source": [
    "#### 2021: Confusion matrix"
   ]
  },
  {
   "cell_type": "code",
   "execution_count": 35,
   "metadata": {
    "ExecuteTime": {
     "end_time": "2022-10-30T21:33:27.152617Z",
     "start_time": "2022-10-30T21:33:26.782687Z"
    }
   },
   "outputs": [
    {
     "data": {
      "image/png": "[encoded data removed]",
      "text/plain": [
       "<Figure size 600x600 with 1 Axes>"
      ]
     },
     "metadata": {
      "needs_background": "light"
     },
     "output_type": "display_data"
    }
   ],
   "source": [
    "# Select samples based on max.prediction probability threshold\n",
    "proba_thresh = 0.\n",
    "\n",
    "select = np.max(y_pred_proba, axis=1) > proba_thresh\n",
    "y_reduce = y[select]\n",
    "y_pred_reduce = y_pred[select]\n",
    "\n",
    "# Compute diffusion matrices\n",
    "confusion_matrix = sklearn.metrics.confusion_matrix(y_reduce, y_pred_reduce)\n",
    "confusion_matrix_norm = sklearn.metrics.confusion_matrix(y_reduce, y_pred_reduce, normalize='true')\n",
    "\n",
    "\n",
    "# Plotting\n",
    "f = plt.figure(figsize=[4,4])\n",
    "f.clear()\n",
    "f.subplots_adjust(bottom=0.2, top=0.8, left=0.3, right=0.7)\n",
    "ax = f.add_subplot(111)\n",
    "\n",
    "ticks = range(len(confusion_matrix))\n",
    "\n",
    "ax.imshow(\n",
    "    confusion_matrix,\n",
    "    cmap='Blues',\n",
    "    alpha=0.7,\n",
    ")\n",
    "\n",
    "for xtick in ticks:\n",
    "    for ytick in ticks:\n",
    "        ax.text(ytick, xtick, f\"{confusion_matrix_norm[xtick,ytick]:.2f}\", ha='center', va='center', fontsize=13)\n",
    " \n",
    "ax.set_title(\n",
    "    f\"Overall test {grd.scoring}: {grd.best_estimator_.score(x, y):.2f}\\n\" +\n",
    "    f\"Maximum prediction probability > {proba_thresh:.1f}\"\n",
    ")\n",
    "\n",
    "ax.set_xticks(ticks)\n",
    "ax.set_xticklabels([param_grd['labels'][tick] for tick in ticks], rotation=60)\n",
    "ax.set_yticks(ticks)\n",
    "ax.set_yticklabels(['True: ' + param_grd['labels'][tick] for tick in ticks], rotation=0)\n",
    "\n",
    "for label, name in param_grd['labels'].items():\n",
    "    ax.text(\n",
    "        2.7,\n",
    "        1.3 + 0.3 * label,\n",
    "        f\"#{name}: {np.sum(y_reduce == label)}\",\n",
    "    )\n",
    "\n",
    "\n",
    "save_name = f\"2021_rf_v02_confusion_p{proba_thresh*100:.0f}\" + '.pdf'\n",
    "# plt.savefig(os.path.join(dir_plots, save_name), transparent=True)"
   ]
  }
 ],
 "metadata": {
  "kernelspec": {
   "display_name": "Python 3 (ipykernel)",
   "language": "python",
   "name": "python3"
  },
  "language_info": {
   "codemirror_mode": {
    "name": "ipython",
    "version": 3
   },
   "file_extension": ".py",
   "mimetype": "text/x-python",
   "name": "python",
   "nbconvert_exporter": "python",
   "pygments_lexer": "ipython3",
   "version": "3.9.7"
  },
  "toc": {
   "base_numbering": 1,
   "nav_menu": {},
   "number_sections": true,
   "sideBar": true,
   "skip_h1_title": false,
   "title_cell": "Table of Contents",
   "title_sidebar": "Contents",
   "toc_cell": false,
   "toc_position": {
    "height": "calc(100% - 180px)",
    "left": "10px",
    "top": "150px",
    "width": "512px"
   },
   "toc_section_display": true,
   "toc_window_display": true
  },
  "varInspector": {
   "cols": {
    "lenName": 16,
    "lenType": 16,
    "lenVar": 40
   },
   "kernels_config": {
    "python": {
     "delete_cmd_postfix": "",
     "delete_cmd_prefix": "del ",
     "library": "var_list.py",
     "varRefreshCmd": "print(var_dic_list())"
    },
    "r": {
     "delete_cmd_postfix": ") ",
     "delete_cmd_prefix": "rm(",
     "library": "var_list.r",
     "varRefreshCmd": "cat(var_dic_list()) "
    }
   },
   "types_to_exclude": [
    "module",
    "function",
    "builtin_function_or_method",
    "instance",
    "_Feature"
   ],
   "window_display": false
  },
  "vscode": {
   "interpreter": {
    "hash": "635c494a99b4919ffc46b3179c211e3df0819f0dc50ebdacd534597eabf9f7f9"
   }
  }
 },
 "nbformat": 4,
 "nbformat_minor": 2
}
