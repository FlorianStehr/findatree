{
 "cells": [
  {
   "cell_type": "markdown",
   "metadata": {},
   "source": [
    "### Imports"
   ]
  },
  {
   "cell_type": "code",
   "execution_count": 125,
   "metadata": {},
   "outputs": [],
   "source": [
    "import os\n",
    "import numpy as np\n",
    "import pandas as pd\n",
    "import importlib\n",
    "\n",
    "import matplotlib.pyplot as plt\n",
    "\n",
    "import findatree.io as io\n",
    "import findatree.descriptions as descriptions\n",
    "\n",
    "plt.style.use(r'C:\\Repos\\findatree\\own.mplstyle')"
   ]
  },
  {
   "cell_type": "markdown",
   "metadata": {},
   "source": [
    "### Definitions"
   ]
  },
  {
   "cell_type": "code",
   "execution_count": 3,
   "metadata": {},
   "outputs": [],
   "source": [
    "# Define directories where processed hdf5s are stored\n",
    "dir_hdf5 = r\"C:\\Data\\lwf\\processed\\2020\\hdf5\""
   ]
  },
  {
   "cell_type": "markdown",
   "metadata": {},
   "source": [
    "### Load crowns' features of all hdf5s"
   ]
  },
  {
   "cell_type": "code",
   "execution_count": 58,
   "metadata": {},
   "outputs": [],
   "source": [
    "# Get paths to all available hdf5 files\n",
    "paths = [os.path.join(dir_hdf5, name) for name in os.listdir(dir_hdf5) if os.path.splitext(name)[-1] == '.hdf5']\n",
    "\n",
    "# Init list of features, elements will pd.DataFrames\n",
    "feats_terr = []\n",
    "feats_photo = []\n",
    "# Init list of features keys which will correspond to tnr identifier\n",
    "feats_keys = []\n",
    "\n",
    "for path in paths:\n",
    "    # Load `crowns_human` data\n",
    "    data, params_data = io.load_hdf5(path, groups = ['crowns_human'], features_only=True)\n",
    "    \n",
    "    # Append to feature/key lists\n",
    "    feats_terr.append( pd.DataFrame(data['crowns_human']['features']['terrestrial']) )\n",
    "    feats_photo.append( pd.DataFrame(data['crowns_human']['features']['photometric']) )\n",
    "    feats_keys.append(int(params_data['crowns_human']['tnr']))\n",
    "\n",
    "############## Combine terrestrial features\n",
    "# Combine feats lists to one pd.DataFrame containing all tnrs\n",
    "df_terr = pd.concat(\n",
    "    feats_terr,\n",
    "    keys=feats_keys,\n",
    "    names=['tnr'],\n",
    "    )\n",
    "# Convert MultiIndex pd.DataFrame to standard pd.DataFrame by resetting tnr identifiers as index\n",
    "df_terr.reset_index(level=['tnr'], inplace=True)\n",
    "# Continuous relabeling of index\n",
    "df_terr.reset_index(inplace=True, drop=True)\n",
    "\n",
    "############## Combine photometric features\n",
    "# Combine feats lists to one pd.DataFrame containing all tnrs\n",
    "df_photo = pd.concat(\n",
    "    feats_photo,\n",
    "    keys=feats_keys,\n",
    "    names=['tnr'],\n",
    "    )\n",
    "# Convert MultiIndex pd.DataFrame to standard pd.DataFrame by resetting tnr identifiers as index\n",
    "df_photo.reset_index(level=['tnr'], inplace=True)\n",
    "# Continuous relabeling of index\n",
    "df_photo.reset_index(inplace=True, drop=True)\n",
    "\n",
    "############## Combine terrestic and photometric features\n",
    "df = pd.concat(\n",
    "    [df_terr, df_photo],\n",
    "    axis=1,  \n",
    ")"
   ]
  },
  {
   "cell_type": "markdown",
   "metadata": {},
   "source": [
    "### Inspect the features"
   ]
  },
  {
   "cell_type": "markdown",
   "metadata": {},
   "source": [
    "#### Optionally print some infos about features"
   ]
  },
  {
   "cell_type": "code",
   "execution_count": null,
   "metadata": {},
   "outputs": [],
   "source": [
    "print('-> Terrestrial features info:')\n",
    "df_terr.info()\n",
    "print()\n",
    "print('-> Photometric features info:')\n",
    "df_photo.info()\n",
    "print()\n",
    "print('-> Combined terrestrial and photometric features info:')\n",
    "df.info()"
   ]
  },
  {
   "cell_type": "markdown",
   "metadata": {},
   "source": [
    "#### Plot histograms"
   ]
  },
  {
   "cell_type": "code",
   "execution_count": 123,
   "metadata": {},
   "outputs": [
    {
     "data": {
      "image/png": "[encoded data removed]",
      "text/plain": [
       "<Figure size 432x288 with 1 Axes>"
      ]
     },
     "metadata": {
      "needs_background": "light"
     },
     "output_type": "display_data"
    }
   ],
   "source": [
    "############### Define a query string to filter all features\n",
    "query_str = 'ba >= 0'\n",
    "# query_str = 'ba in [134]' # Select 'Gemeine Kiefer'\n",
    "# query_str = 'ba in [118]' # Select 'Gemeine Fichte'\n",
    "# query_str = 'ba in [100]' # Select Weißtanne'\n",
    "\n",
    "############### Which feature to plot\n",
    "# name = ('kkl', 'Kraft Baum Klasse')\n",
    "# bins = range(0,6)\n",
    "\n",
    "# name = ('ba', 'Baumart')\n",
    "# bins = 100\n",
    "\n",
    "# name = ('bk', 'Baumklasse')\n",
    "# bins = 100\n",
    "\n",
    "name = ('perc25_brightest_ndvi', r'NDVI: 25% quantile of brightest pixels')\n",
    "bins = 50\n",
    "\n",
    "# name = ('perc75_brightest_ndvi', r'NDVI: 75% quantile of brightest pixels')\n",
    "# bins = 50\n",
    "\n",
    "# name = ('median_brightest_ndvi', r'NDVI: Median of brightest pixels')\n",
    "# bins = 50\n",
    "\n",
    "############### Plot histogram\n",
    "f = plt.figure(figsize= [6, 4])\n",
    "ax = f.add_subplot(111)\n",
    "_ = ax.hist(\n",
    "    df.query(query_str)[name[0]],\n",
    "    bins=bins,\n",
    "    fc='grey',\n",
    "    ec='black',\n",
    "    )\n",
    "_ = ax.set_ylabel('Counts')\n",
    "_ = ax.set_xlabel(name[1])"
   ]
  },
  {
   "cell_type": "markdown",
   "metadata": {},
   "source": [
    "#### List counts of tree species"
   ]
  },
  {
   "cell_type": "code",
   "execution_count": 108,
   "metadata": {},
   "outputs": [
    {
     "name": "stdout",
     "output_type": "stream",
     "text": [
      "Total number of trees: 590\n",
      "\n",
      "id | name                     | count\n",
      "----------------------------------------\n",
      "134, Gemeine Kiefer           : 257\n",
      "118, Gemeine Fichte           : 143\n",
      "100, Weißtanne                : 63\n",
      "20 , Rotbuche                 : 35\n",
      "48 , Traubeneiche             : 29\n",
      "116, Europäische Lärche       : 19\n",
      "7  , Schwarzerle              : 10\n",
      "51 , Stieleiche               : 9\n",
      "10 , Gemeine Birke            : 8\n",
      "36 , Kirsche                  : 5\n",
      "13 , Hainbuche                : 5\n",
      "22 , Gemeine Esche            : 3\n",
      "5  , Bergahorn                : 2\n",
      "35 , Aspe                     : 1\n",
      "1  , Feldahorn                : 1\n"
     ]
    }
   ],
   "source": [
    "# Get unique species ids and counts\n",
    "ids, counts = np.unique(df['ba'], return_counts=True)\n",
    "\n",
    "# Sort from highest count to lowest count\n",
    "sort_idx= np.flip(np.argsort(counts))\n",
    "counts = counts[sort_idx]\n",
    "ids = ids[sort_idx]\n",
    "\n",
    "# Get mapper dict from species id to name\n",
    "mapper = descriptions.species_id_to_name()\n",
    "\n",
    "print(f\"Total number of trees: {len(df)}\")\n",
    "print()\n",
    "print(f\"{'id':<3}| {'name':<25}| {'count'}\")\n",
    "print('-'*40)\n",
    "for id, count in zip(ids, counts):    \n",
    "    print(f\"{id:<3}, {mapper[id]:<25}: {count}\")"
   ]
  },
  {
   "cell_type": "markdown",
   "metadata": {},
   "source": [
    "#### Scatter plot: 'Nadel Blatt Verlust' vs. Vegetation Indices for spec. tree species"
   ]
  },
  {
   "cell_type": "code",
   "execution_count": 270,
   "metadata": {},
   "outputs": [
    {
     "data": {
      "image/png": "[encoded data removed]",
      "text/plain": [
       "<Figure size 600x450 with 1 Axes>"
      ]
     },
     "metadata": {
      "needs_background": "light"
     },
     "output_type": "display_data"
    }
   ],
   "source": [
    "# Tree species mapper\n",
    "mapper = descriptions.species_id_to_name()\n",
    "\n",
    "############### Define a query string to filter all features\n",
    "query_str = 'ba >= 0' # Select all tree species\n",
    "\n",
    "ba_ids = [134] # Select 'Gemeine Kiefer'\n",
    "ba_ids = [118] # Select 'Gemeine Fichte'\n",
    "ba_ids = [100] # Select 'Weißtanne'\n",
    "\n",
    "query_str = 'ba in @ba_ids' # Query for tree species\n",
    "# query_str += ' and min_brightest_light > 2e-2' # Select all with min value of brightest px above fixed threshold\n",
    "query_str += ' and kkl in [1,2]'\n",
    "\n",
    "############### Which feature to plot\n",
    "name_x = ('nbv', r'Nadel/Blatt Verlust')\n",
    "\n",
    "# name_y = ('perc25_ndvi', r'NDVI: 25% quantile of all pixels')\n",
    "# name_y = ('perc25_brightest_ndvi', r'NDVI: 25% quantile of brightest pixels')\n",
    "# name_y = ('perc25_brightest_ndvire', r'NDVIRE: 25% quantile of brightest pixels')\n",
    "\n",
    "############### Some plotting specs\n",
    "xlim = [-5,105]\n",
    "ylim = [0.2, 0.95] # For NDVI and NDVIRE\n",
    "# ylim = [0., 0.4] # For NDRE\n",
    "\n",
    "title_str = ''\n",
    "for id in ba_ids: title_str += mapper[id].replace(' ', '') + '-'\n",
    "title_str = title_str[:-1]\n",
    "\n",
    "save_dir = r\"C:\\Users\\flori\\Documents\\prof\\lwf\\plots\\220722\\nbv_vs_vegidx\"\n",
    "save_name = title_str + '__' + name_y[0] + '.pdf'\n",
    "\n",
    "############### Plot histogram\n",
    "x = np.array(df.query(query_str).loc[:, name_x[0]])\n",
    "y = np.array(df.query(query_str).loc[:, name_y[0]])\n",
    "\n",
    "f = plt.figure(figsize= [4, 3])\n",
    "ax = f.add_subplot(111)\n",
    "\n",
    "# Scatter plot\n",
    "_ = ax.scatter(\n",
    "    x,\n",
    "    y,\n",
    "    fc='grey',\n",
    "    ec='k',\n",
    "    alpha=0.5,\n",
    "    )\n",
    "\n",
    "# Errorbar plot for uniqe x values and respective y means\n",
    "x_unique = np.unique(x)\n",
    "y_unique = np.array([np.nanmean(y[np.where(x == xu)[0]]) for xu in x_unique])\n",
    "y_unique_err = np.array([np.nanstd(y[np.where(x == xu)[0]]) for xu in x_unique])\n",
    "\n",
    "_ = ax.errorbar(\n",
    "    x_unique,\n",
    "    y_unique,\n",
    "    y_unique_err,\n",
    "    fmt='-s',\n",
    "    ms=7,\n",
    "    color='darkred',\n",
    "    mec='k',\n",
    "    mfc='darkred',\n",
    "    )\n",
    "\n",
    "\n",
    "ax.set_title(title_str)\n",
    "_ = ax.set_xlabel(name_x[1])\n",
    "_ = ax.set_ylabel(name_y[1])\n",
    "_ = ax.set_xlim(xlim)\n",
    "_ = ax.set_ylim(ylim)\n",
    "\n",
    "plt.savefig(os.path.join(save_dir, save_name), transparent=True)"
   ]
  }
 ],
 "metadata": {
  "kernelspec": {
   "display_name": "Python 3.9.7 ('findatree_v01')",
   "language": "python",
   "name": "python3"
  },
  "language_info": {
   "codemirror_mode": {
    "name": "ipython",
    "version": 3
   },
   "file_extension": ".py",
   "mimetype": "text/x-python",
   "name": "python",
   "nbconvert_exporter": "python",
   "pygments_lexer": "ipython3",
   "version": "3.9.7"
  },
  "orig_nbformat": 4,
  "vscode": {
   "interpreter": {
    "hash": "635c494a99b4919ffc46b3179c211e3df0819f0dc50ebdacd534597eabf9f7f9"
   }
  }
 },
 "nbformat": 4,
 "nbformat_minor": 2
}
