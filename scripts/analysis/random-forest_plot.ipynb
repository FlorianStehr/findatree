{
 "cells": [
  {
   "cell_type": "markdown",
   "metadata": {},
   "source": [
    "### Imports"
   ]
  },
  {
   "cell_type": "code",
   "execution_count": 1,
   "metadata": {
    "ExecuteTime": {
     "end_time": "2022-10-29T21:13:21.338646Z",
     "start_time": "2022-10-29T21:13:13.313004Z"
    }
   },
   "outputs": [],
   "source": [
    "import os\n",
    "import joblib\n",
    "import numpy as np\n",
    "import pandas as pd\n",
    "import importlib\n",
    "import re\n",
    "import yaml\n",
    "\n",
    "import sklearn.ensemble \n",
    "import sklearn.model_selection\n",
    "import sklearn.inspection\n",
    "import sklearn.metrics\n",
    "\n",
    "import matplotlib.pyplot as plt\n",
    "\n",
    "import findatree.io as io\n",
    "import findatree.descriptions as descriptions\n",
    "\n",
    "plt.style.use(r'C:\\Repos\\findatree\\own.mplstyle')\n",
    "\n",
    "# Dictionaries: species_name to ba and vice versa\n",
    "species_id_to_name = descriptions.species_id_to_name()\n",
    "species_name_to_id = descriptions.species_name_to_id()"
   ]
  },
  {
   "cell_type": "markdown",
   "metadata": {},
   "source": [
    "### Definitions"
   ]
  },
  {
   "cell_type": "code",
   "execution_count": 2,
   "metadata": {
    "ExecuteTime": {
     "end_time": "2022-10-29T21:13:21.407771Z",
     "start_time": "2022-10-29T21:13:21.377057Z"
    }
   },
   "outputs": [],
   "source": [
    "# Directory: Plots\n",
    "dir_plots = r\"C:\\Data\\lwf\\analysis\\220830_random-forest\\plots\"\n",
    "\n",
    "# Directory: sklearn\n",
    "dirs_sklearn = [\n",
    "    r\"C:\\Data\\lwf\\analysis\\221029_random_forest\\sklearn\\v01\",\n",
    "]\n",
    "\n",
    "# Save names:\n",
    "load_name_params = 'params.yaml'\n",
    "load_name_gridcv = 'grid.joblib'\n",
    "load_name_dataset = 'dataset.joblib'\n",
    "# load_name_permutation_test_score = 'permutation_test_score.joblib'\n",
    "# load_name_permutation_feature_importance = 'permutation_feature_importance.joblib'"
   ]
  },
  {
   "cell_type": "markdown",
   "metadata": {},
   "source": [
    "### Load"
   ]
  },
  {
   "cell_type": "markdown",
   "metadata": {},
   "source": [
    "#### Load: Pre-computed dataset and sklearn results"
   ]
  },
  {
   "cell_type": "code",
   "execution_count": 3,
   "metadata": {
    "ExecuteTime": {
     "end_time": "2022-10-29T21:13:21.808650Z",
     "start_time": "2022-10-29T21:13:21.480171Z"
    }
   },
   "outputs": [],
   "source": [
    "datasets = []\n",
    "grds = []\n",
    "params = []\n",
    "\n",
    "for dir_sklearn in dirs_sklearn:\n",
    "\n",
    "    # Load dataset & sklearn results\n",
    "    datasets.append(joblib.load(os.path.join(dir_sklearn, load_name_dataset)))\n",
    "    grds.append(joblib.load(os.path.join(dir_sklearn, load_name_gridcv)))\n",
    "    # permutation_test_score = joblib.load(os.path.join(dir_sklearn, load_name_permutation_test_score))\n",
    "    # permutation_feature_importance = joblib.load(os.path.join(dir_sklearn, load_name_permutation_feature_importance))\n",
    "\n",
    "    # Load params\n",
    "    with open(os.path.join(dir_sklearn, load_name_params), \"r\") as f:\n",
    "        params.append(yaml.safe_load(f))"
   ]
  },
  {
   "cell_type": "markdown",
   "metadata": {},
   "source": [
    "### v01"
   ]
  },
  {
   "cell_type": "markdown",
   "metadata": {},
   "source": [
    "#### v01: Best estimator"
   ]
  },
  {
   "cell_type": "code",
   "execution_count": 7,
   "metadata": {
    "ExecuteTime": {
     "end_time": "2022-10-29T21:16:03.646955Z",
     "start_time": "2022-10-29T21:16:03.509269Z"
    }
   },
   "outputs": [
    {
     "name": "stdout",
     "output_type": "stream",
     "text": [
      "v01: Grid Search Cross Validation: Best estimator\n",
      "--------------------------------------------------\n",
      "Params:             {'criterion': 'entropy', 'max_samples': 0.75, 'min_samples_leaf': 1, 'n_estimators': 100}\n",
      "Validation score:   0.94\n",
      "Test score:         0.93\n",
      "Shape of training features:(3021, 108)\n"
     ]
    }
   ],
   "source": [
    "i = 0\n",
    "grd = grds[i]\n",
    "dataset = datasets[i]\n",
    "param = params[i]\n",
    "\n",
    "print(f\"v{str(i+1).zfill(2)}: Grid Search Cross Validation: Best estimator\")\n",
    "print('-'*50)\n",
    "print(f\"{'Params:':<20}{grd.best_params_}\")\n",
    "print(f\"{'Validation score:':<20}{grd.best_score_:.2f}\")\n",
    "print(f\"{'Test score:':<20}{grd.best_estimator_.score(dataset['x_test'], dataset['y_test']):.2f}\")\n",
    "print(f\"{'Shape of training features:':<20}{dataset['x_train'].shape}\")\n",
    "\n",
    "\n",
    "cv_results = pd.DataFrame(grd.cv_results_)\n",
    "cv_results.drop(columns=['params'], inplace=True)"
   ]
  },
  {
   "cell_type": "markdown",
   "metadata": {},
   "source": [
    "#### v01: Confusion matrix"
   ]
  },
  {
   "cell_type": "code",
   "execution_count": 62,
   "metadata": {
    "ExecuteTime": {
     "end_time": "2022-10-29T21:40:14.944047Z",
     "start_time": "2022-10-29T21:40:14.396386Z"
    }
   },
   "outputs": [
    {
     "data": {
      "image/png": "[encoded data removed]",
      "text/plain": [
       "<Figure size 600x600 with 1 Axes>"
      ]
     },
     "metadata": {
      "needs_background": "light"
     },
     "output_type": "display_data"
    }
   ],
   "source": [
    "x = dataset['x_test'].copy()\n",
    "y = dataset['y_test'].copy()\n",
    "\n",
    "y_extend_names = dataset['y_extend_names'].copy()\n",
    "y_extend = dataset['y_extend_test'].copy()\n",
    "\n",
    "y_pred = grd.best_estimator_.predict(x)\n",
    "y_pred_proba = grd.best_estimator_.predict_proba(x)\n",
    "\n",
    "proba_thresh = 0.0\n",
    "select = np.max(y_pred_proba, axis=1) > proba_thresh\n",
    "\n",
    "y = y[select]\n",
    "y_pred = y_pred[select]\n",
    "\n",
    "confusion_matrix = sklearn.metrics.confusion_matrix(y, y_pred)\n",
    "confusion_matrix_norm = sklearn.metrics.confusion_matrix(y, y_pred, normalize='true')\n",
    "\n",
    "\n",
    "f = plt.figure(figsize=[4,4])\n",
    "f.clear()\n",
    "f.subplots_adjust(bottom=0.2, top=0.8, left=0.2, right=0.8)\n",
    "ax = f.add_subplot(111)\n",
    "\n",
    "ticks = range(len(confusion_matrix))\n",
    "\n",
    "ax.imshow(\n",
    "    confusion_matrix,\n",
    "    cmap='Blues',\n",
    "    alpha=0.7,\n",
    ")\n",
    "\n",
    "for xtick in ticks:\n",
    "    for ytick in ticks:\n",
    "        ax.text(ytick, xtick, f\"{confusion_matrix_norm[xtick,ytick]:.2f}\", ha='center', va='center', fontsize=13)\n",
    " \n",
    "ax.set_title(f\"Overal test accuracy: {grd.best_estimator_.score(dataset['x_test'], dataset['y_test']):.2f}\")\n",
    "\n",
    "ax.set_xticks(ticks)\n",
    "ax.set_xticklabels([param['classes'][tick]['family_name'] for tick in ticks], rotation=60)\n",
    "ax.set_yticks(ticks)\n",
    "_ = ax.set_yticklabels(['True: ' + param['classes'][tick]['family_name'] for tick in ticks], rotation=0)\n",
    "\n",
    "for class_id, class_dict in param['classes'].items():\n",
    "    ax.text(\n",
    "        1.7,\n",
    "        -0.3 + 0.2 * class_id,\n",
    "        f\"#{class_dict['family_name']}: {np.sum(y==class_id)}\",\n",
    "    )"
   ]
  }
 ],
 "metadata": {
  "kernelspec": {
   "display_name": "Python 3 (ipykernel)",
   "language": "python",
   "name": "python3"
  },
  "language_info": {
   "codemirror_mode": {
    "name": "ipython",
    "version": 3
   },
   "file_extension": ".py",
   "mimetype": "text/x-python",
   "name": "python",
   "nbconvert_exporter": "python",
   "pygments_lexer": "ipython3",
   "version": "3.9.7"
  },
  "toc": {
   "base_numbering": 1,
   "nav_menu": {},
   "number_sections": true,
   "sideBar": true,
   "skip_h1_title": false,
   "title_cell": "Table of Contents",
   "title_sidebar": "Contents",
   "toc_cell": false,
   "toc_position": {},
   "toc_section_display": true,
   "toc_window_display": true
  },
  "varInspector": {
   "cols": {
    "lenName": 16,
    "lenType": 16,
    "lenVar": 40
   },
   "kernels_config": {
    "python": {
     "delete_cmd_postfix": "",
     "delete_cmd_prefix": "del ",
     "library": "var_list.py",
     "varRefreshCmd": "print(var_dic_list())"
    },
    "r": {
     "delete_cmd_postfix": ") ",
     "delete_cmd_prefix": "rm(",
     "library": "var_list.r",
     "varRefreshCmd": "cat(var_dic_list()) "
    }
   },
   "types_to_exclude": [
    "module",
    "function",
    "builtin_function_or_method",
    "instance",
    "_Feature"
   ],
   "window_display": false
  },
  "vscode": {
   "interpreter": {
    "hash": "635c494a99b4919ffc46b3179c211e3df0819f0dc50ebdacd534597eabf9f7f9"
   }
  }
 },
 "nbformat": 4,
 "nbformat_minor": 2
}
