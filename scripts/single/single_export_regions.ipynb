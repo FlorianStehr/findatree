{
 "cells": [
  {
   "cell_type": "markdown",
   "metadata": {},
   "source": [
    "### Imports"
   ]
  },
  {
   "cell_type": "code",
   "execution_count": null,
   "metadata": {
    "tags": []
   },
   "outputs": [],
   "source": [
    "import numpy as np\n",
    "import pandas as pd\n",
    "import importlib\n",
    "import os\n",
    "import skimage.exposure\n",
    "import matplotlib.pyplot as pyplot\n",
    "\n",
    "import findatree.io as io\n",
    "import findatree.interactive as interactive\n",
    "import findatree.exporter as exporter\n",
    "\n",
    "from bokeh.plotting import show, save\n",
    "from bokeh.io import output_notebook, output_file\n",
    "\n",
    "output_notebook()"
   ]
  },
  {
   "cell_type": "markdown",
   "metadata": {},
   "source": [
    "### Define paths"
   ]
  },
  {
   "cell_type": "code",
   "execution_count": null,
   "metadata": {
    "tags": []
   },
   "outputs": [],
   "source": [
    "path_load = \"/home/flostehr/data/lwf/processed/2020/hdf5/channels/tnr9996.hdf5\" # Load channels & crowns from this path\n",
    "\n",
    "path_dir_save_roi = \"/home/flostehr/data/lwf/processed/2020/hdf5/rois/rgb/\" # ROIs are saved to this directory\n",
    "path_load_roi = \"/home/flostehr/data/lwf/processed/2020/hdf5/rois/rgb/tnr9996_rois.hdf5\"  #Load this ROI from hdf5"
   ]
  },
  {
   "cell_type": "markdown",
   "metadata": {},
   "source": [
    "### Load channels & crowns hdf5"
   ]
  },
  {
   "cell_type": "code",
   "execution_count": null,
   "metadata": {},
   "outputs": [],
   "source": [
    "importlib.reload(io)\n",
    "\n",
    "data, params_data = io.load_hdf5(path_load)\n",
    "\n",
    "channels, params_channels = data['channels'], params_data['channels']\n",
    "crowns_human, params_crowns_human = data['crowns_human'], params_data['crowns_human']\n",
    "\n",
    "del data, params_data"
   ]
  },
  {
   "cell_type": "markdown",
   "metadata": {},
   "source": [
    "### Export ROIs to hdf5"
   ]
  },
  {
   "cell_type": "code",
   "execution_count": null,
   "metadata": {
    "scrolled": false
   },
   "outputs": [],
   "source": [
    "importlib.reload(exporter)\n",
    "\n",
    "params_export = {\n",
    "    'channels_export': ['red','green','blue'],\n",
    "#     'channels_export': ['blue','green','red','re','nir','chm'],\n",
    "    'query_export': 'id > -1',\n",
    "    'size_export': 300,\n",
    "}\n",
    "\n",
    "rois, params_rois = exporter.export_rois(\n",
    "    channels=channels,\n",
    "    params_channels=params_channels,\n",
    "    crowns=crowns_human,\n",
    "    params_crowns=params_crowns_human,\n",
    "    params_export=params_export,\n",
    "    )\n",
    "\n",
    "exporter.rois_to_hdf5(rois, params_rois, dir_name=path_dir_save_roi)"
   ]
  },
  {
   "cell_type": "markdown",
   "metadata": {},
   "source": [
    "### Load ROIs from hdf5"
   ]
  },
  {
   "cell_type": "code",
   "execution_count": null,
   "metadata": {},
   "outputs": [],
   "source": [
    "importlib.reload(exporter)\n",
    "\n",
    "rois, params_rois = exporter.load_rois_from_hdf5(\n",
    "    path_load_roi,\n",
    "    load_sets=None, # This loads every set in rois group, set specifically with e.g. ['images', 'masks']\n",
    ")\n"
   ]
  },
  {
   "cell_type": "markdown",
   "metadata": {},
   "source": [
    "### Plot"
   ]
  },
  {
   "cell_type": "code",
   "execution_count": null,
   "metadata": {},
   "outputs": [],
   "source": [
    "id = 1\n",
    "i = np.argwhere(rois['ids']==id)[0][0]\n",
    "img = rois['images'][:,:,:,i]\n",
    "mask = rois['masks'][:,:,i]\n",
    "img_masked = rois['images_masked'][:,:,:,i]\n",
    "\n",
    "# Adjust exposure for better viewing\n",
    "img = skimage.exposure.rescale_intensity(\n",
    "    img, \n",
    "    in_range=(np.percentile(img ,0),np.percentile(img ,99.8)),\n",
    ")\n",
    "img_masked = skimage.exposure.rescale_intensity(\n",
    "    img_masked, \n",
    "    in_range=(np.percentile(img_masked ,0),np.percentile(img_masked ,99.8)),\n",
    ")\n",
    "\n",
    "f = pyplot.figure(figsize=(12,6))\n",
    "f.clear()\n",
    "ax = f.add_subplot(131)\n",
    "ax.imshow(img, interpolation='none', origin='lower')\n",
    "ax.set_title('Padded image')\n",
    "\n",
    "ax = f.add_subplot(132)\n",
    "ax.imshow(img_masked, interpolation='none', origin='lower')\n",
    "ax.set_title('Padded masked image')\n",
    "\n",
    "ax = f.add_subplot(133)\n",
    "ax.imshow(mask, interpolation='none', cmap='Greys_r', origin='lower')\n",
    "_ = ax.set_title('Padded mask')"
   ]
  },
  {
   "cell_type": "code",
   "execution_count": null,
   "metadata": {
    "tags": []
   },
   "outputs": [],
   "source": [
    "importlib.reload(interactive)\n",
    "\n",
    "plt = interactive.Plotter()\n",
    "plt.width = 600\n",
    "plt.channels_downscale = 2\n",
    "plt.show_features = [\n",
    "    'id', 'ba', 'kkl','nbv',\n",
    "    'perc5_ndre','perc50_ndre'\n",
    "]\n",
    "\n",
    "plt.add_channels(channels, params_channels)\n",
    "\n",
    "plt.figures_add_rgb(perc=2)\n",
    "\n",
    "plt.togglers_add_crowns(crowns_human, params_crowns_human)\n",
    "\n",
    "layout = plt.create_layout()"
   ]
  },
  {
   "cell_type": "code",
   "execution_count": null,
   "metadata": {
    "tags": []
   },
   "outputs": [],
   "source": [
    "show(layout)"
   ]
  }
 ],
 "metadata": {
  "kernelspec": {
   "display_name": "Python 3 (ipykernel)",
   "language": "python",
   "name": "python3"
  },
  "language_info": {
   "codemirror_mode": {
    "name": "ipython",
    "version": 3
   },
   "file_extension": ".py",
   "mimetype": "text/x-python",
   "name": "python",
   "nbconvert_exporter": "python",
   "pygments_lexer": "ipython3",
   "version": "3.9.16"
  },
  "vscode": {
   "interpreter": {
    "hash": "b54456f8d6fc2e19d5baead7cdaab66eda82227b8d5f7a26b7fe80df631c83af"
   }
  }
 },
 "nbformat": 4,
 "nbformat_minor": 4
}
