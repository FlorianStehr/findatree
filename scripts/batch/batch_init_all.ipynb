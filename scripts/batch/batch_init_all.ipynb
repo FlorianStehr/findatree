{
 "cells": [
  {
   "cell_type": "markdown",
   "metadata": {},
   "source": [
    "### Imports"
   ]
  },
  {
   "cell_type": "code",
   "execution_count": null,
   "metadata": {},
   "outputs": [],
   "source": [
    "import importlib\n",
    "import os\n",
    "from tqdm import tqdm\n",
    "\n",
    "import findatree.io as io\n",
    "import findatree.transformations as transformations\n",
    "import findatree.interactive as interactive\n",
    "import findatree.geo_to_image as geo_to_image\n",
    "import findatree.segmentation as segmentation\n",
    "import findatree.photometric as photometric\n",
    "\n",
    "from bokeh.plotting import save\n",
    "from bokeh.io import output_file\n",
    "\n",
    "importlib.reload(io)\n",
    "importlib.reload(transformations)\n",
    "importlib.reload(interactive)\n",
    "importlib.reload(geo_to_image)\n",
    "importlib.reload(segmentation)\n",
    "importlib.reload(photometric)"
   ]
  },
  {
   "cell_type": "markdown",
   "metadata": {},
   "source": [
    "### Definitions"
   ]
  },
  {
   "cell_type": "code",
   "execution_count": null,
   "metadata": {},
   "outputs": [],
   "source": [
    "# Define full paths to directories containing dsm, dtm, ortho and shape-files \n",
    "dir_names=[]\n",
    "dir_names.extend([r'C:\\Data\\lwf\\DSM_2020'])\n",
    "dir_names.extend([r'C:\\Data\\lwf\\DTM'])\n",
    "dir_names.extend([r'C:\\Data\\lwf\\Orthophotos_2020'])\n",
    "dir_names.extend([r'C:\\Data\\lwf\\CrownDelineation_2020'])\n",
    "\n",
    "# Define directories where return hdf5s and htmls are stored\n",
    "save_dir_hdf5 = r\"C:\\Data\\lwf\\processed\\2020\\hdf5\"\n",
    "save_dir_html = r\"C:\\Data\\lwf\\processed\\2020\\html\""
   ]
  },
  {
   "cell_type": "markdown",
   "metadata": {},
   "source": [
    "#### Processing"
   ]
  },
  {
   "cell_type": "markdown",
   "metadata": {},
   "source": [
    "#### Prepare main loop"
   ]
  },
  {
   "cell_type": "code",
   "execution_count": null,
   "metadata": {},
   "outputs": [],
   "source": [
    "# Get all available tnr numbers in directory\n",
    "tnrs = io.find_all_tnrs_in_dir(dir_names[0])\n",
    "\n",
    "# Init list of exceptions\n",
    "exception_list = []"
   ]
  },
  {
   "cell_type": "markdown",
   "metadata": {},
   "source": [
    "#### Run main loop"
   ]
  },
  {
   "cell_type": "code",
   "execution_count": null,
   "metadata": {},
   "outputs": [],
   "source": [
    "for tnr in tqdm(tnrs):\n",
    "    \n",
    "    print()\n",
    "    print(f\"Processing: tnr_{tnr}\")\n",
    "\n",
    "    ################# [1] Load and save channels\n",
    "    try:\n",
    "        params_channels = {'tnr': tnr}\n",
    "        channels, params_channels = geo_to_image.channels_load(dir_names, params_channels, verbose=False)\n",
    "        io.channels_to_hdf5(channels, params_channels, dir_name = save_dir_hdf5)\n",
    "    \n",
    "    except:\n",
    "        print(f\"-> tnr_{tnr}: Exception during loading/saving of channels\")\n",
    "        exception_list.extend([tnr])\n",
    "\n",
    "    ################# [2] Load and save human generated crowns\n",
    "    try:\n",
    "        crowns_human, params_crowns_human = io.load_shapefile(dir_names, params_channels, verbose=False)\n",
    "        io.crowns_to_hdf5(crowns_human, params_crowns_human, dir_name = save_dir_hdf5)\n",
    "    \n",
    "    except:\n",
    "        print(f\"-> tnr_{tnr}: Exception during loading/saving of crowns_human\")\n",
    "        exception_list.extend([tnr])\n",
    "\n",
    "    ################# [3] Generate and save watershed crowns\n",
    "    try:\n",
    "        params_crowns_water = {}\n",
    "\n",
    "        crowns_water, params_crowns_water = segmentation.watershed(\n",
    "            channels,\n",
    "            params_channels,\n",
    "            params_crowns_water,\n",
    "            verbose=False,\n",
    "        )\n",
    "        io.crowns_to_hdf5(crowns_water, params_crowns_water, dir_name = save_dir_hdf5)\n",
    "    \n",
    "    except:\n",
    "        print(f\"-> tnr_{tnr}: Exception during generation/saving of crowns_water\")\n",
    "        exception_list.extend([tnr])\n",
    "\n",
    "    ################# [4] Create bokeh plot and save as html\n",
    "    try:\n",
    "        # Init Plotter object and adjust some attributes \n",
    "        plt = interactive.Plotter()\n",
    "        plt.width = 500\n",
    "        plt.channels_downscale = 1\n",
    "\n",
    "        # Add channels\n",
    "        plt.add_channels(channels, params_channels)\n",
    "        plt.figures_add_rgb()\n",
    "        plt.figures_add_gray('chm')\n",
    "\n",
    "        # Add crowns\n",
    "        plt.togglers_add_crowns(crowns_water, params_crowns_water)\n",
    "        plt.togglers_add_crowns(crowns_human, params_crowns_human)\n",
    "\n",
    "        # Create and save layout\n",
    "        layout = plt.create_layout()\n",
    "        output_file(\n",
    "            filename = os.path.join(save_dir_html, f\"tnr{tnr}.html\"),\n",
    "            title = f\"tnr{tnr}_{transformations.current_datetime()}\",\n",
    "            mode='inline',\n",
    "            )\n",
    "        save(layout)\n",
    "\n",
    "    except:\n",
    "        print(f\"-> tnr_{tnr}: Exception during creation of html\")\n",
    "        exception_list.extend([tnr])\n",
    "\n",
    "\n",
    "print()\n",
    "print('Done!')\n",
    "print(f\"Exceptions occured @{exception_list}\")"
   ]
  }
 ],
 "metadata": {
  "kernelspec": {
   "display_name": "Python 3.9.7 ('findatree_v01')",
   "language": "python",
   "name": "python3"
  },
  "language_info": {
   "name": "python",
   "version": "3.9.7"
  },
  "orig_nbformat": 4,
  "vscode": {
   "interpreter": {
    "hash": "635c494a99b4919ffc46b3179c211e3df0819f0dc50ebdacd534597eabf9f7f9"
   }
  }
 },
 "nbformat": 4,
 "nbformat_minor": 2
}
